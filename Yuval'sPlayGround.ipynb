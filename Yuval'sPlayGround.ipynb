{
 "cells": [
  {
   "cell_type": "code",
   "execution_count": 2,
   "metadata": {},
   "outputs": [],
   "source": [
    "from seinfeld_playground import *\n",
    "from train_utils import split_train_test\n",
    "from compare_models import plot_confusion_matrix, compare_models_roc_curve\n",
    "import numpy as np\n",
    "import pandas as pd\n",
    "import seaborn as sns\n",
    "import matplotlib.pyplot as plt\n",
    "\n",
    "%load_ext autoreload\n",
    "%autoreload 2"
   ]
  },
  {
   "cell_type": "code",
   "execution_count": 3,
   "metadata": {},
   "outputs": [
    {
     "name": "stdout",
     "output_type": "stream",
     "text": [
      "There are 46497 sentances, 13560 funny, 32937 not funny\n"
     ]
    },
    {
     "data": {
      "text/html": [
       "<div>\n",
       "<style scoped>\n",
       "    .dataframe tbody tr th:only-of-type {\n",
       "        vertical-align: middle;\n",
       "    }\n",
       "\n",
       "    .dataframe tbody tr th {\n",
       "        vertical-align: top;\n",
       "    }\n",
       "\n",
       "    .dataframe thead th {\n",
       "        text-align: right;\n",
       "    }\n",
       "</style>\n",
       "<table border=\"1\" class=\"dataframe\">\n",
       "  <thead>\n",
       "    <tr style=\"text-align: right;\">\n",
       "      <th></th>\n",
       "      <th>character</th>\n",
       "      <th>end</th>\n",
       "      <th>episode_name</th>\n",
       "      <th>episode_num</th>\n",
       "      <th>is_funny</th>\n",
       "      <th>laugh_time</th>\n",
       "      <th>length</th>\n",
       "      <th>line_num</th>\n",
       "      <th>num_words</th>\n",
       "      <th>season</th>\n",
       "      <th>...</th>\n",
       "      <th>total_lines</th>\n",
       "      <th>txt</th>\n",
       "      <th>global_episode_num</th>\n",
       "      <th>time_from_prev</th>\n",
       "      <th>new_scene</th>\n",
       "      <th>scene_text</th>\n",
       "      <th>scene_characters</th>\n",
       "      <th>n_scene_characters</th>\n",
       "      <th>scene_number_in_episode</th>\n",
       "      <th>global_scene_number</th>\n",
       "    </tr>\n",
       "  </thead>\n",
       "  <tbody>\n",
       "    <tr>\n",
       "      <th>0</th>\n",
       "      <td>JERRY</td>\n",
       "      <td>3.050</td>\n",
       "      <td>The Watch</td>\n",
       "      <td>6</td>\n",
       "      <td>True</td>\n",
       "      <td>3.6</td>\n",
       "      <td>1.944</td>\n",
       "      <td>0</td>\n",
       "      <td>9</td>\n",
       "      <td>4</td>\n",
       "      <td>...</td>\n",
       "      <td>486</td>\n",
       "      <td>Here's what happened last  week, incase you mi...</td>\n",
       "      <td>1</td>\n",
       "      <td>0.000</td>\n",
       "      <td>True</td>\n",
       "      <td>Here's what happened last  week, incase you mi...</td>\n",
       "      <td>{MORTY, JERRY}</td>\n",
       "      <td>2</td>\n",
       "      <td>1</td>\n",
       "      <td>1</td>\n",
       "    </tr>\n",
       "    <tr>\n",
       "      <th>1</th>\n",
       "      <td>JERRY</td>\n",
       "      <td>6.371</td>\n",
       "      <td>The Watch</td>\n",
       "      <td>6</td>\n",
       "      <td>False</td>\n",
       "      <td>NaN</td>\n",
       "      <td>3.297</td>\n",
       "      <td>1</td>\n",
       "      <td>16</td>\n",
       "      <td>4</td>\n",
       "      <td>...</td>\n",
       "      <td>486</td>\n",
       "      <td>George and I went up to NBC, and  we told them...</td>\n",
       "      <td>1</td>\n",
       "      <td>0.024</td>\n",
       "      <td>False</td>\n",
       "      <td>Here's what happened last  week, incase you mi...</td>\n",
       "      <td>{MORTY, JERRY}</td>\n",
       "      <td>2</td>\n",
       "      <td>1</td>\n",
       "      <td>1</td>\n",
       "    </tr>\n",
       "  </tbody>\n",
       "</table>\n",
       "<p>2 rows × 21 columns</p>\n",
       "</div>"
      ],
      "text/plain": [
       "  character    end episode_name  episode_num  is_funny  laugh_time  length  \\\n",
       "0     JERRY  3.050    The Watch            6      True         3.6   1.944   \n",
       "1     JERRY  6.371    The Watch            6     False         NaN   3.297   \n",
       "\n",
       "   line_num  num_words  season         ...           total_lines  \\\n",
       "0         0          9       4         ...                   486   \n",
       "1         1         16       4         ...                   486   \n",
       "\n",
       "                                                 txt global_episode_num  \\\n",
       "0  Here's what happened last  week, incase you mi...                  1   \n",
       "1  George and I went up to NBC, and  we told them...                  1   \n",
       "\n",
       "   time_from_prev  new_scene  \\\n",
       "0           0.000       True   \n",
       "1           0.024      False   \n",
       "\n",
       "                                          scene_text scene_characters  \\\n",
       "0  Here's what happened last  week, incase you mi...   {MORTY, JERRY}   \n",
       "1  Here's what happened last  week, incase you mi...   {MORTY, JERRY}   \n",
       "\n",
       "  n_scene_characters  scene_number_in_episode  global_scene_number  \n",
       "0                  2                        1                    1  \n",
       "1                  2                        1                    1  \n",
       "\n",
       "[2 rows x 21 columns]"
      ]
     },
     "execution_count": 3,
     "metadata": {},
     "output_type": "execute_result"
    }
   ],
   "source": [
    "df = load_corpus()\n",
    "\n",
    "df = getSceneData(df)\n",
    "print(\"There are %d sentances, %d funny, %d not funny\" % (len(df), sum(df.is_funny), len(df) - sum(df.is_funny)))\n",
    "df.head(2)"
   ]
  },
  {
   "cell_type": "code",
   "execution_count": 4,
   "metadata": {},
   "outputs": [
    {
     "data": {
      "text/plain": [
       "96"
      ]
     },
     "execution_count": 4,
     "metadata": {},
     "output_type": "execute_result"
    }
   ],
   "source": [
    "len(df.global_episode_num.unique())"
   ]
  },
  {
   "cell_type": "code",
   "execution_count": 7,
   "metadata": {},
   "outputs": [
    {
     "data": {
      "text/plain": [
       "((37738, 22), (8759, 22))"
      ]
     },
     "execution_count": 7,
     "metadata": {},
     "output_type": "execute_result"
    }
   ],
   "source": [
    "df_train, df_test = split_train_test(df, 0.2)\n",
    "df_train.shape, df_test.shape"
   ]
  },
  {
   "cell_type": "code",
   "execution_count": 8,
   "metadata": {
    "scrolled": true
   },
   "outputs": [
    {
     "data": {
      "image/png": "[encoded data removed]",
      "text/plain": [
       "<Figure size 432x288 with 1 Axes>"
      ]
     },
     "metadata": {
      "needs_background": "light"
     },
     "output_type": "display_data"
    }
   ],
   "source": [
    "plt.hist(df['time_from_prev'], bins=([i / 100 for i in range(0,302,2)]) + ([10,30,50,100]))\n",
    "plt.xlim(0.2,3)\n",
    "plt.ylim(0,400)\n",
    "plt.show()"
   ]
  },
  {
   "cell_type": "markdown",
   "metadata": {},
   "source": [
    "Try to decide on thershold, it's pretty hard.  \n",
    "I preffer not to have FP so Will pick 1.8"
   ]
  },
  {
   "cell_type": "code",
   "execution_count": 9,
   "metadata": {},
   "outputs": [
    {
     "name": "stdout",
     "output_type": "stream",
     "text": [
      "kramer first in secnce funny:  0.36054421768707484\n",
      "total funny: 0.29163171817536615\n"
     ]
    }
   ],
   "source": [
    "df_kramer_start = df[(df.character == 'KRAMER') & (df.new_scene)] \n",
    "print('kramer first in secnce funny: ', sum(df_kramer_start.is_funny) / len(df_kramer_start))\n",
    "print('total funny:', sum(df.is_funny) / len(df))"
   ]
  },
  {
   "cell_type": "markdown",
   "metadata": {},
   "source": [
    "# One Hot Encoding"
   ]
  },
  {
   "cell_type": "code",
   "execution_count": 10,
   "metadata": {},
   "outputs": [],
   "source": [
    "cv, X_train = getOneHotEncoding(df_train.txt)\n",
    "X_test = cv.transform(df_test.txt)\n",
    "y_test = df_test.is_funny\n",
    "y_train = df_train.is_funny"
   ]
  },
  {
   "cell_type": "markdown",
   "metadata": {},
   "source": [
    "## Logistic Regression"
   ]
  },
  {
   "cell_type": "code",
   "execution_count": 11,
   "metadata": {},
   "outputs": [
    {
     "name": "stderr",
     "output_type": "stream",
     "text": [
      "/usr/local/lib/python3.5/dist-packages/sklearn/linear_model/logistic.py:757: ConvergenceWarning: lbfgs failed to converge. Increase the number of iterations.\n",
      "  \"of iterations.\", ConvergenceWarning)\n"
     ]
    }
   ],
   "source": [
    "from sklearn.linear_model import LogisticRegression\n",
    "lr = LogisticRegression(solver='lbfgs')\n",
    "lr.fit(X_train, y_train)\n",
    "y_hat_lr = lr.predict_proba(X_test)"
   ]
  },
  {
   "cell_type": "code",
   "execution_count": 21,
   "metadata": {},
   "outputs": [
    {
     "data": {
      "text/plain": [
       "0.336155800169348"
      ]
     },
     "execution_count": 21,
     "metadata": {},
     "output_type": "execute_result"
    }
   ],
   "source": [
    "1588 / (3136 + 1588)"
   ]
  },
  {
   "cell_type": "code",
   "execution_count": 20,
   "metadata": {},
   "outputs": [
    {
     "data": {
      "image/png": "[encoded data removed]",
      "text/plain": [
       "<Figure size 432x504 with 2 Axes>"
      ]
     },
     "metadata": {
      "needs_background": "light"
     },
     "output_type": "display_data"
    }
   ],
   "source": [
    "plot_confusion_matrix(y_test, [y_hat_lr[:,1]], ['lr'])"
   ]
  },
  {
   "cell_type": "markdown",
   "metadata": {},
   "source": [
    "## SVM"
   ]
  },
  {
   "cell_type": "code",
   "execution_count": null,
   "metadata": {},
   "outputs": [],
   "source": [
    "from sklearn.svm import SVC\n",
    "svm = SVC(probability=1, gamma='auto')\n",
    "svm.fit(X_train, y_train)\n",
    "y_hat_svm = svm.predict_proba(X_test)"
   ]
  },
  {
   "cell_type": "code",
   "execution_count": null,
   "metadata": {},
   "outputs": [],
   "source": [
    "from sklearn.metrics import f1_score\n",
    "f1_score(y_test, y_hat_lr[:,1] > 0.22)"
   ]
  },
  {
   "cell_type": "code",
   "execution_count": null,
   "metadata": {},
   "outputs": [],
   "source": [
    "funny_words = np.squeeze(np.asarray((freq[np.array(df.is_funny).astype(np.bool)].sum(axis=0)) / (np.squeeze(np.asarray(freq.sum(axis=0)).astype(np.float)))))"
   ]
  },
  {
   "cell_type": "markdown",
   "metadata": {},
   "source": [
    "# Compare Models"
   ]
  },
  {
   "cell_type": "code",
   "execution_count": null,
   "metadata": {},
   "outputs": [],
   "source": [
    "from compare_models import compare_models_roc_curve\n",
    "auc = compare_models_roc_curve(y_test, [y_hat_lr[:,1], y_hat_svm[:,1]], ['lr', 'svm'])\n",
    "print(auc)"
   ]
  },
  {
   "cell_type": "code",
   "execution_count": null,
   "metadata": {},
   "outputs": [],
   "source": [
    "plot_confusion_matrix(y_test, [y_hat_lr[:,1], y_hat_svm[:,1]], ['lr', 'svm'])"
   ]
  },
  {
   "cell_type": "markdown",
   "metadata": {},
   "source": [
    "# Scene"
   ]
  },
  {
   "cell_type": "code",
   "execution_count": 42,
   "metadata": {},
   "outputs": [
    {
     "data": {
      "text/html": [
       "\n",
       "    <div class=\"bk-root\">\n",
       "        <a href=\"https://bokeh.pydata.org\" target=\"_blank\" class=\"bk-logo bk-logo-small bk-logo-notebook\"></a>\n",
       "        <span id=\"2354\">Loading BokehJS ...</span>\n",
       "    </div>"
      ]
     },
     "metadata": {},
     "output_type": "display_data"
    },
    {
     "data": {
      "application/javascript": [
       "\n",
       "(function(root) {\n",
       "  function now() {\n",
       "    return new Date();\n",
       "  }\n",
       "\n",
       "  var force = true;\n",
       "\n",
       "  if (typeof (root._bokeh_onload_callbacks) === \"undefined\" || force === true) {\n",
       "    root._bokeh_onload_callbacks = [];\n",
       "    root._bokeh_is_loading = undefined;\n",
       "  }\n",
       "\n",
       "  var JS_MIME_TYPE = 'application/javascript';\n",
       "  var HTML_MIME_TYPE = 'text/html';\n",
       "  var EXEC_MIME_TYPE = 'application/vnd.bokehjs_exec.v0+json';\n",
       "  var CLASS_NAME = 'output_bokeh rendered_html';\n",
       "\n",
       "  /**\n",
       "   * Render data to the DOM node\n",
       "   */\n",
       "  function render(props, node) {\n",
       "    var script = document.createElement(\"script\");\n",
       "    node.appendChild(script);\n",
       "  }\n",
       "\n",
       "  /**\n",
       "   * Handle when an output is cleared or removed\n",
       "   */\n",
       "  function handleClearOutput(event, handle) {\n",
       "    var cell = handle.cell;\n",
       "\n",
       "    var id = cell.output_area._bokeh_element_id;\n",
       "    var server_id = cell.output_area._bokeh_server_id;\n",
       "    // Clean up Bokeh references\n",
       "    if (id != null && id in Bokeh.index) {\n",
       "      Bokeh.index[id].model.document.clear();\n",
       "      delete Bokeh.index[id];\n",
       "    }\n",
       "\n",
       "    if (server_id !== undefined) {\n",
       "      // Clean up Bokeh references\n",
       "      var cmd = \"from bokeh.io.state import curstate; print(curstate().uuid_to_server['\" + server_id + \"'].get_sessions()[0].document.roots[0]._id)\";\n",
       "      cell.notebook.kernel.execute(cmd, {\n",
       "        iopub: {\n",
       "          output: function(msg) {\n",
       "            var id = msg.content.text.trim();\n",
       "            if (id in Bokeh.index) {\n",
       "              Bokeh.index[id].model.document.clear();\n",
       "              delete Bokeh.index[id];\n",
       "            }\n",
       "          }\n",
       "        }\n",
       "      });\n",
       "      // Destroy server and session\n",
       "      var cmd = \"import bokeh.io.notebook as ion; ion.destroy_server('\" + server_id + \"')\";\n",
       "      cell.notebook.kernel.execute(cmd);\n",
       "    }\n",
       "  }\n",
       "\n",
       "  /**\n",
       "   * Handle when a new output is added\n",
       "   */\n",
       "  function handleAddOutput(event, handle) {\n",
       "    var output_area = handle.output_area;\n",
       "    var output = handle.output;\n",
       "\n",
       "    // limit handleAddOutput to display_data with EXEC_MIME_TYPE content only\n",
       "    if ((output.output_type != \"display_data\") || (!output.data.hasOwnProperty(EXEC_MIME_TYPE))) {\n",
       "      return\n",
       "    }\n",
       "\n",
       "    var toinsert = output_area.element.find(\".\" + CLASS_NAME.split(' ')[0]);\n",
       "\n",
       "    if (output.metadata[EXEC_MIME_TYPE][\"id\"] !== undefined) {\n",
       "      toinsert[toinsert.length - 1].firstChild.textContent = output.data[JS_MIME_TYPE];\n",
       "      // store reference to embed id on output_area\n",
       "      output_area._bokeh_element_id = output.metadata[EXEC_MIME_TYPE][\"id\"];\n",
       "    }\n",
       "    if (output.metadata[EXEC_MIME_TYPE][\"server_id\"] !== undefined) {\n",
       "      var bk_div = document.createElement(\"div\");\n",
       "      bk_div.innerHTML = output.data[HTML_MIME_TYPE];\n",
       "      var script_attrs = bk_div.children[0].attributes;\n",
       "      for (var i = 0; i < script_attrs.length; i++) {\n",
       "        toinsert[toinsert.length - 1].firstChild.setAttribute(script_attrs[i].name, script_attrs[i].value);\n",
       "      }\n",
       "      // store reference to server id on output_area\n",
       "      output_area._bokeh_server_id = output.metadata[EXEC_MIME_TYPE][\"server_id\"];\n",
       "    }\n",
       "  }\n",
       "\n",
       "  function register_renderer(events, OutputArea) {\n",
       "\n",
       "    function append_mime(data, metadata, element) {\n",
       "      // create a DOM node to render to\n",
       "      var toinsert = this.create_output_subarea(\n",
       "        metadata,\n",
       "        CLASS_NAME,\n",
       "        EXEC_MIME_TYPE\n",
       "      );\n",
       "      this.keyboard_manager.register_events(toinsert);\n",
       "      // Render to node\n",
       "      var props = {data: data, metadata: metadata[EXEC_MIME_TYPE]};\n",
       "      render(props, toinsert[toinsert.length - 1]);\n",
       "      element.append(toinsert);\n",
       "      return toinsert\n",
       "    }\n",
       "\n",
       "    /* Handle when an output is cleared or removed */\n",
       "    events.on('clear_output.CodeCell', handleClearOutput);\n",
       "    events.on('delete.Cell', handleClearOutput);\n",
       "\n",
       "    /* Handle when a new output is added */\n",
       "    events.on('output_added.OutputArea', handleAddOutput);\n",
       "\n",
       "    /**\n",
       "     * Register the mime type and append_mime function with output_area\n",
       "     */\n",
       "    OutputArea.prototype.register_mime_type(EXEC_MIME_TYPE, append_mime, {\n",
       "      /* Is output safe? */\n",
       "      safe: true,\n",
       "      /* Index of renderer in `output_area.display_order` */\n",
       "      index: 0\n",
       "    });\n",
       "  }\n",
       "\n",
       "  // register the mime type if in Jupyter Notebook environment and previously unregistered\n",
       "  if (root.Jupyter !== undefined) {\n",
       "    var events = require('base/js/events');\n",
       "    var OutputArea = require('notebook/js/outputarea').OutputArea;\n",
       "\n",
       "    if (OutputArea.prototype.mime_types().indexOf(EXEC_MIME_TYPE) == -1) {\n",
       "      register_renderer(events, OutputArea);\n",
       "    }\n",
       "  }\n",
       "\n",
       "  \n",
       "  if (typeof (root._bokeh_timeout) === \"undefined\" || force === true) {\n",
       "    root._bokeh_timeout = Date.now() + 5000;\n",
       "    root._bokeh_failed_load = false;\n",
       "  }\n",
       "\n",
       "  var NB_LOAD_WARNING = {'data': {'text/html':\n",
       "     \"<div style='background-color: #fdd'>\\n\"+\n",
       "     \"<p>\\n\"+\n",
       "     \"BokehJS does not appear to have successfully loaded. If loading BokehJS from CDN, this \\n\"+\n",
       "     \"may be due to a slow or bad network connection. Possible fixes:\\n\"+\n",
       "     \"</p>\\n\"+\n",
       "     \"<ul>\\n\"+\n",
       "     \"<li>re-rerun `output_notebook()` to attempt to load from CDN again, or</li>\\n\"+\n",
       "     \"<li>use INLINE resources instead, as so:</li>\\n\"+\n",
       "     \"</ul>\\n\"+\n",
       "     \"<code>\\n\"+\n",
       "     \"from bokeh.resources import INLINE\\n\"+\n",
       "     \"output_notebook(resources=INLINE)\\n\"+\n",
       "     \"</code>\\n\"+\n",
       "     \"</div>\"}};\n",
       "\n",
       "  function display_loaded() {\n",
       "    var el = document.getElementById(\"2354\");\n",
       "    if (el != null) {\n",
       "      el.textContent = \"BokehJS is loading...\";\n",
       "    }\n",
       "    if (root.Bokeh !== undefined) {\n",
       "      if (el != null) {\n",
       "        el.textContent = \"BokehJS \" + root.Bokeh.version + \" successfully loaded.\";\n",
       "      }\n",
       "    } else if (Date.now() < root._bokeh_timeout) {\n",
       "      setTimeout(display_loaded, 100)\n",
       "    }\n",
       "  }\n",
       "\n",
       "\n",
       "  function run_callbacks() {\n",
       "    try {\n",
       "      root._bokeh_onload_callbacks.forEach(function(callback) { callback() });\n",
       "    }\n",
       "    finally {\n",
       "      delete root._bokeh_onload_callbacks\n",
       "    }\n",
       "    console.info(\"Bokeh: all callbacks have finished\");\n",
       "  }\n",
       "\n",
       "  function load_libs(js_urls, callback) {\n",
       "    root._bokeh_onload_callbacks.push(callback);\n",
       "    if (root._bokeh_is_loading > 0) {\n",
       "      console.log(\"Bokeh: BokehJS is being loaded, scheduling callback at\", now());\n",
       "      return null;\n",
       "    }\n",
       "    if (js_urls == null || js_urls.length === 0) {\n",
       "      run_callbacks();\n",
       "      return null;\n",
       "    }\n",
       "    console.log(\"Bokeh: BokehJS not loaded, scheduling load and callback at\", now());\n",
       "    root._bokeh_is_loading = js_urls.length;\n",
       "    for (var i = 0; i < js_urls.length; i++) {\n",
       "      var url = js_urls[i];\n",
       "      var s = document.createElement('script');\n",
       "      s.src = url;\n",
       "      s.async = false;\n",
       "      s.onreadystatechange = s.onload = function() {\n",
       "        root._bokeh_is_loading--;\n",
       "        if (root._bokeh_is_loading === 0) {\n",
       "          console.log(\"Bokeh: all BokehJS libraries loaded\");\n",
       "          run_callbacks()\n",
       "        }\n",
       "      };\n",
       "      s.onerror = function() {\n",
       "        console.warn(\"failed to load library \" + url);\n",
       "      };\n",
       "      console.log(\"Bokeh: injecting script tag for BokehJS library: \", url);\n",
       "      document.getElementsByTagName(\"head\")[0].appendChild(s);\n",
       "    }\n",
       "  };var element = document.getElementById(\"2354\");\n",
       "  if (element == null) {\n",
       "    console.log(\"Bokeh: ERROR: autoload.js configured with elementid '2354' but no matching script tag was found. \")\n",
       "    return false;\n",
       "  }\n",
       "\n",
       "  var js_urls = [\"https://cdn.pydata.org/bokeh/release/bokeh-1.0.4.min.js\", \"https://cdn.pydata.org/bokeh/release/bokeh-widgets-1.0.4.min.js\", \"https://cdn.pydata.org/bokeh/release/bokeh-tables-1.0.4.min.js\", \"https://cdn.pydata.org/bokeh/release/bokeh-gl-1.0.4.min.js\"];\n",
       "\n",
       "  var inline_js = [\n",
       "    function(Bokeh) {\n",
       "      Bokeh.set_log_level(\"info\");\n",
       "    },\n",
       "    \n",
       "    function(Bokeh) {\n",
       "      \n",
       "    },\n",
       "    function(Bokeh) {\n",
       "      console.log(\"Bokeh: injecting CSS: https://cdn.pydata.org/bokeh/release/bokeh-1.0.4.min.css\");\n",
       "      Bokeh.embed.inject_css(\"https://cdn.pydata.org/bokeh/release/bokeh-1.0.4.min.css\");\n",
       "      console.log(\"Bokeh: injecting CSS: https://cdn.pydata.org/bokeh/release/bokeh-widgets-1.0.4.min.css\");\n",
       "      Bokeh.embed.inject_css(\"https://cdn.pydata.org/bokeh/release/bokeh-widgets-1.0.4.min.css\");\n",
       "      console.log(\"Bokeh: injecting CSS: https://cdn.pydata.org/bokeh/release/bokeh-tables-1.0.4.min.css\");\n",
       "      Bokeh.embed.inject_css(\"https://cdn.pydata.org/bokeh/release/bokeh-tables-1.0.4.min.css\");\n",
       "    }\n",
       "  ];\n",
       "\n",
       "  function run_inline_js() {\n",
       "    \n",
       "    if ((root.Bokeh !== undefined) || (force === true)) {\n",
       "      for (var i = 0; i < inline_js.length; i++) {\n",
       "        inline_js[i].call(root, root.Bokeh);\n",
       "      }if (force === true) {\n",
       "        display_loaded();\n",
       "      }} else if (Date.now() < root._bokeh_timeout) {\n",
       "      setTimeout(run_inline_js, 100);\n",
       "    } else if (!root._bokeh_failed_load) {\n",
       "      console.log(\"Bokeh: BokehJS failed to load within specified timeout.\");\n",
       "      root._bokeh_failed_load = true;\n",
       "    } else if (force !== true) {\n",
       "      var cell = $(document.getElementById(\"2354\")).parents('.cell').data().cell;\n",
       "      cell.output_area.append_execute_result(NB_LOAD_WARNING)\n",
       "    }\n",
       "\n",
       "  }\n",
       "\n",
       "  if (root._bokeh_is_loading === 0) {\n",
       "    console.log(\"Bokeh: BokehJS loaded, going straight to plotting\");\n",
       "    run_inline_js();\n",
       "  } else {\n",
       "    load_libs(js_urls, function() {\n",
       "      console.log(\"Bokeh: BokehJS plotting callback run at\", now());\n",
       "      run_inline_js();\n",
       "    });\n",
       "  }\n",
       "}(window));"
      ],
      "application/vnd.bokehjs_load.v0+json": "\n(function(root) {\n  function now() {\n    return new Date();\n  }\n\n  var force = true;\n\n  if (typeof (root._bokeh_onload_callbacks) === \"undefined\" || force === true) {\n    root._bokeh_onload_callbacks = [];\n    root._bokeh_is_loading = undefined;\n  }\n\n  \n\n  \n  if (typeof (root._bokeh_timeout) === \"undefined\" || force === true) {\n    root._bokeh_timeout = Date.now() + 5000;\n    root._bokeh_failed_load = false;\n  }\n\n  var NB_LOAD_WARNING = {'data': {'text/html':\n     \"<div style='background-color: #fdd'>\\n\"+\n     \"<p>\\n\"+\n     \"BokehJS does not appear to have successfully loaded. If loading BokehJS from CDN, this \\n\"+\n     \"may be due to a slow or bad network connection. Possible fixes:\\n\"+\n     \"</p>\\n\"+\n     \"<ul>\\n\"+\n     \"<li>re-rerun `output_notebook()` to attempt to load from CDN again, or</li>\\n\"+\n     \"<li>use INLINE resources instead, as so:</li>\\n\"+\n     \"</ul>\\n\"+\n     \"<code>\\n\"+\n     \"from bokeh.resources import INLINE\\n\"+\n     \"output_notebook(resources=INLINE)\\n\"+\n     \"</code>\\n\"+\n     \"</div>\"}};\n\n  function display_loaded() {\n    var el = document.getElementById(\"2354\");\n    if (el != null) {\n      el.textContent = \"BokehJS is loading...\";\n    }\n    if (root.Bokeh !== undefined) {\n      if (el != null) {\n        el.textContent = \"BokehJS \" + root.Bokeh.version + \" successfully loaded.\";\n      }\n    } else if (Date.now() < root._bokeh_timeout) {\n      setTimeout(display_loaded, 100)\n    }\n  }\n\n\n  function run_callbacks() {\n    try {\n      root._bokeh_onload_callbacks.forEach(function(callback) { callback() });\n    }\n    finally {\n      delete root._bokeh_onload_callbacks\n    }\n    console.info(\"Bokeh: all callbacks have finished\");\n  }\n\n  function load_libs(js_urls, callback) {\n    root._bokeh_onload_callbacks.push(callback);\n    if (root._bokeh_is_loading > 0) {\n      console.log(\"Bokeh: BokehJS is being loaded, scheduling callback at\", now());\n      return null;\n    }\n    if (js_urls == null || js_urls.length === 0) {\n      run_callbacks();\n      return null;\n    }\n    console.log(\"Bokeh: BokehJS not loaded, scheduling load and callback at\", now());\n    root._bokeh_is_loading = js_urls.length;\n    for (var i = 0; i < js_urls.length; i++) {\n      var url = js_urls[i];\n      var s = document.createElement('script');\n      s.src = url;\n      s.async = false;\n      s.onreadystatechange = s.onload = function() {\n        root._bokeh_is_loading--;\n        if (root._bokeh_is_loading === 0) {\n          console.log(\"Bokeh: all BokehJS libraries loaded\");\n          run_callbacks()\n        }\n      };\n      s.onerror = function() {\n        console.warn(\"failed to load library \" + url);\n      };\n      console.log(\"Bokeh: injecting script tag for BokehJS library: \", url);\n      document.getElementsByTagName(\"head\")[0].appendChild(s);\n    }\n  };var element = document.getElementById(\"2354\");\n  if (element == null) {\n    console.log(\"Bokeh: ERROR: autoload.js configured with elementid '2354' but no matching script tag was found. \")\n    return false;\n  }\n\n  var js_urls = [\"https://cdn.pydata.org/bokeh/release/bokeh-1.0.4.min.js\", \"https://cdn.pydata.org/bokeh/release/bokeh-widgets-1.0.4.min.js\", \"https://cdn.pydata.org/bokeh/release/bokeh-tables-1.0.4.min.js\", \"https://cdn.pydata.org/bokeh/release/bokeh-gl-1.0.4.min.js\"];\n\n  var inline_js = [\n    function(Bokeh) {\n      Bokeh.set_log_level(\"info\");\n    },\n    \n    function(Bokeh) {\n      \n    },\n    function(Bokeh) {\n      console.log(\"Bokeh: injecting CSS: https://cdn.pydata.org/bokeh/release/bokeh-1.0.4.min.css\");\n      Bokeh.embed.inject_css(\"https://cdn.pydata.org/bokeh/release/bokeh-1.0.4.min.css\");\n      console.log(\"Bokeh: injecting CSS: https://cdn.pydata.org/bokeh/release/bokeh-widgets-1.0.4.min.css\");\n      Bokeh.embed.inject_css(\"https://cdn.pydata.org/bokeh/release/bokeh-widgets-1.0.4.min.css\");\n      console.log(\"Bokeh: injecting CSS: https://cdn.pydata.org/bokeh/release/bokeh-tables-1.0.4.min.css\");\n      Bokeh.embed.inject_css(\"https://cdn.pydata.org/bokeh/release/bokeh-tables-1.0.4.min.css\");\n    }\n  ];\n\n  function run_inline_js() {\n    \n    if ((root.Bokeh !== undefined) || (force === true)) {\n      for (var i = 0; i < inline_js.length; i++) {\n        inline_js[i].call(root, root.Bokeh);\n      }if (force === true) {\n        display_loaded();\n      }} else if (Date.now() < root._bokeh_timeout) {\n      setTimeout(run_inline_js, 100);\n    } else if (!root._bokeh_failed_load) {\n      console.log(\"Bokeh: BokehJS failed to load within specified timeout.\");\n      root._bokeh_failed_load = true;\n    } else if (force !== true) {\n      var cell = $(document.getElementById(\"2354\")).parents('.cell').data().cell;\n      cell.output_area.append_execute_result(NB_LOAD_WARNING)\n    }\n\n  }\n\n  if (root._bokeh_is_loading === 0) {\n    console.log(\"Bokeh: BokehJS loaded, going straight to plotting\");\n    run_inline_js();\n  } else {\n    load_libs(js_urls, function() {\n      console.log(\"Bokeh: BokehJS plotting callback run at\", now());\n      run_inline_js();\n    });\n  }\n}(window));"
     },
     "metadata": {},
     "output_type": "display_data"
    }
   ],
   "source": [
    "import networkx as nx\n",
    "import itertools\n",
    "from bokeh.io import show, output_notebook, reset_output #output_file, \n",
    "from bokeh.plotting import figure\n",
    "from bokeh.models.graphs import from_networkx\n",
    "from bokeh.models import HoverTool,BoxZoomTool, ResetTool, Plot, Range1d\n",
    "# reset_output()\n",
    "output_notebook()\n",
    "\n"
   ]
  },
  {
   "cell_type": "code",
   "execution_count": 8,
   "metadata": {},
   "outputs": [
    {
     "data": {
      "text/html": [
       "<div>\n",
       "<style scoped>\n",
       "    .dataframe tbody tr th:only-of-type {\n",
       "        vertical-align: middle;\n",
       "    }\n",
       "\n",
       "    .dataframe tbody tr th {\n",
       "        vertical-align: top;\n",
       "    }\n",
       "\n",
       "    .dataframe thead th {\n",
       "        text-align: right;\n",
       "    }\n",
       "</style>\n",
       "<table border=\"1\" class=\"dataframe\">\n",
       "  <thead>\n",
       "    <tr style=\"text-align: right;\">\n",
       "      <th></th>\n",
       "      <th>scene_number_in_episode</th>\n",
       "      <th>global_scene_number</th>\n",
       "      <th>scene_characters</th>\n",
       "      <th>is_funny</th>\n",
       "      <th>season</th>\n",
       "    </tr>\n",
       "  </thead>\n",
       "  <tbody>\n",
       "    <tr>\n",
       "      <th>0</th>\n",
       "      <td>1</td>\n",
       "      <td>1</td>\n",
       "      <td>{MORTY, JERRY}</td>\n",
       "      <td>True</td>\n",
       "      <td>4</td>\n",
       "    </tr>\n",
       "    <tr>\n",
       "      <th>1</th>\n",
       "      <td>1</td>\n",
       "      <td>1</td>\n",
       "      <td>{MORTY, JERRY}</td>\n",
       "      <td>False</td>\n",
       "      <td>4</td>\n",
       "    </tr>\n",
       "    <tr>\n",
       "      <th>2</th>\n",
       "      <td>1</td>\n",
       "      <td>1</td>\n",
       "      <td>{MORTY, JERRY}</td>\n",
       "      <td>False</td>\n",
       "      <td>4</td>\n",
       "    </tr>\n",
       "    <tr>\n",
       "      <th>3</th>\n",
       "      <td>1</td>\n",
       "      <td>1</td>\n",
       "      <td>{MORTY, JERRY}</td>\n",
       "      <td>False</td>\n",
       "      <td>4</td>\n",
       "    </tr>\n",
       "    <tr>\n",
       "      <th>4</th>\n",
       "      <td>1</td>\n",
       "      <td>1</td>\n",
       "      <td>{MORTY, JERRY}</td>\n",
       "      <td>False</td>\n",
       "      <td>4</td>\n",
       "    </tr>\n",
       "  </tbody>\n",
       "</table>\n",
       "</div>"
      ],
      "text/plain": [
       "   scene_number_in_episode  global_scene_number scene_characters  is_funny  \\\n",
       "0                        1                    1   {MORTY, JERRY}      True   \n",
       "1                        1                    1   {MORTY, JERRY}     False   \n",
       "2                        1                    1   {MORTY, JERRY}     False   \n",
       "3                        1                    1   {MORTY, JERRY}     False   \n",
       "4                        1                    1   {MORTY, JERRY}     False   \n",
       "\n",
       "   season  \n",
       "0       4  \n",
       "1       4  \n",
       "2       4  \n",
       "3       4  \n",
       "4       4  "
      ]
     },
     "execution_count": 8,
     "metadata": {},
     "output_type": "execute_result"
    }
   ],
   "source": [
    "community_df = df[['scene_number_in_episode', 'global_scene_number', 'scene_characters', 'is_funny', 'season']]\n",
    "community_df.head()"
   ]
  },
  {
   "cell_type": "code",
   "execution_count": 18,
   "metadata": {},
   "outputs": [
    {
     "name": "stderr",
     "output_type": "stream",
     "text": [
      "/home/yuval/.local/lib/python3.5/site-packages/ipykernel_launcher.py:7: SettingWithCopyWarning: \n",
      "A value is trying to be set on a copy of a slice from a DataFrame.\n",
      "Try using .loc[row_indexer,col_indexer] = value instead\n",
      "\n",
      "See the caveats in the documentation: http://pandas.pydata.org/pandas-docs/stable/indexing.html#indexing-view-versus-copy\n",
      "  import sys\n"
     ]
    },
    {
     "data": {
      "text/html": [
       "<div>\n",
       "<style scoped>\n",
       "    .dataframe tbody tr th:only-of-type {\n",
       "        vertical-align: middle;\n",
       "    }\n",
       "\n",
       "    .dataframe tbody tr th {\n",
       "        vertical-align: top;\n",
       "    }\n",
       "\n",
       "    .dataframe thead th {\n",
       "        text-align: right;\n",
       "    }\n",
       "</style>\n",
       "<table border=\"1\" class=\"dataframe\">\n",
       "  <thead>\n",
       "    <tr style=\"text-align: right;\">\n",
       "      <th></th>\n",
       "      <th>scene_number_in_episode</th>\n",
       "      <th>global_scene_number</th>\n",
       "      <th>scene_characters</th>\n",
       "      <th>is_funny</th>\n",
       "      <th>season</th>\n",
       "      <th>is_scene_funny</th>\n",
       "    </tr>\n",
       "  </thead>\n",
       "  <tbody>\n",
       "    <tr>\n",
       "      <th>0</th>\n",
       "      <td>1</td>\n",
       "      <td>1</td>\n",
       "      <td>{MORTY, JERRY}</td>\n",
       "      <td>True</td>\n",
       "      <td>4</td>\n",
       "      <td>True</td>\n",
       "    </tr>\n",
       "    <tr>\n",
       "      <th>1</th>\n",
       "      <td>1</td>\n",
       "      <td>1</td>\n",
       "      <td>{MORTY, JERRY}</td>\n",
       "      <td>False</td>\n",
       "      <td>4</td>\n",
       "      <td>True</td>\n",
       "    </tr>\n",
       "    <tr>\n",
       "      <th>2</th>\n",
       "      <td>1</td>\n",
       "      <td>1</td>\n",
       "      <td>{MORTY, JERRY}</td>\n",
       "      <td>False</td>\n",
       "      <td>4</td>\n",
       "      <td>True</td>\n",
       "    </tr>\n",
       "    <tr>\n",
       "      <th>3</th>\n",
       "      <td>1</td>\n",
       "      <td>1</td>\n",
       "      <td>{MORTY, JERRY}</td>\n",
       "      <td>False</td>\n",
       "      <td>4</td>\n",
       "      <td>True</td>\n",
       "    </tr>\n",
       "    <tr>\n",
       "      <th>4</th>\n",
       "      <td>1</td>\n",
       "      <td>1</td>\n",
       "      <td>{MORTY, JERRY}</td>\n",
       "      <td>False</td>\n",
       "      <td>4</td>\n",
       "      <td>True</td>\n",
       "    </tr>\n",
       "  </tbody>\n",
       "</table>\n",
       "</div>"
      ],
      "text/plain": [
       "   scene_number_in_episode  global_scene_number scene_characters  is_funny  \\\n",
       "0                        1                    1   {MORTY, JERRY}      True   \n",
       "1                        1                    1   {MORTY, JERRY}     False   \n",
       "2                        1                    1   {MORTY, JERRY}     False   \n",
       "3                        1                    1   {MORTY, JERRY}     False   \n",
       "4                        1                    1   {MORTY, JERRY}     False   \n",
       "\n",
       "   season  is_scene_funny  \n",
       "0       4            True  \n",
       "1       4            True  \n",
       "2       4            True  \n",
       "3       4            True  \n",
       "4       4            True  "
      ]
     },
     "execution_count": 18,
     "metadata": {},
     "output_type": "execute_result"
    }
   ],
   "source": [
    "# add for each scene is the scene funny\n",
    "funny_scene_df = pd.DataFrame(community_df.groupby(by='global_scene_number')['is_funny'].sum() > 0)\n",
    "def add_funny_scecne(x, df):\n",
    "    return [x.is_funny] * sum(df.global_scene_number == x.name)\n",
    "funny_scene_ls = funny_scene_df.apply(add_funny_scecne, args=(community_df,), axis=1)\n",
    "funny_scene = [st for row in funny_scene_ls for st in row]\n",
    "community_df['is_scene_funny'] = funny_scene\n",
    "community_df.head()"
   ]
  },
  {
   "cell_type": "code",
   "execution_count": 25,
   "metadata": {},
   "outputs": [
    {
     "data": {
      "text/html": [
       "<div>\n",
       "<style scoped>\n",
       "    .dataframe tbody tr th:only-of-type {\n",
       "        vertical-align: middle;\n",
       "    }\n",
       "\n",
       "    .dataframe tbody tr th {\n",
       "        vertical-align: top;\n",
       "    }\n",
       "\n",
       "    .dataframe thead th {\n",
       "        text-align: right;\n",
       "    }\n",
       "</style>\n",
       "<table border=\"1\" class=\"dataframe\">\n",
       "  <thead>\n",
       "    <tr style=\"text-align: right;\">\n",
       "      <th></th>\n",
       "      <th>char_1</th>\n",
       "      <th>char_2</th>\n",
       "      <th>global_scene_number</th>\n",
       "      <th>is_funny</th>\n",
       "      <th>is_scene_funny</th>\n",
       "      <th>scene_number_in_episode</th>\n",
       "      <th>season</th>\n",
       "    </tr>\n",
       "  </thead>\n",
       "  <tbody>\n",
       "    <tr>\n",
       "      <th>0</th>\n",
       "      <td>JERRY</td>\n",
       "      <td>MORTY</td>\n",
       "      <td>1</td>\n",
       "      <td>True</td>\n",
       "      <td>True</td>\n",
       "      <td>1</td>\n",
       "      <td>4</td>\n",
       "    </tr>\n",
       "    <tr>\n",
       "      <th>1</th>\n",
       "      <td>JERRY</td>\n",
       "      <td>MORTY</td>\n",
       "      <td>1</td>\n",
       "      <td>False</td>\n",
       "      <td>True</td>\n",
       "      <td>1</td>\n",
       "      <td>4</td>\n",
       "    </tr>\n",
       "    <tr>\n",
       "      <th>2</th>\n",
       "      <td>JERRY</td>\n",
       "      <td>MORTY</td>\n",
       "      <td>1</td>\n",
       "      <td>False</td>\n",
       "      <td>True</td>\n",
       "      <td>1</td>\n",
       "      <td>4</td>\n",
       "    </tr>\n",
       "    <tr>\n",
       "      <th>3</th>\n",
       "      <td>JERRY</td>\n",
       "      <td>MORTY</td>\n",
       "      <td>1</td>\n",
       "      <td>False</td>\n",
       "      <td>True</td>\n",
       "      <td>1</td>\n",
       "      <td>4</td>\n",
       "    </tr>\n",
       "    <tr>\n",
       "      <th>4</th>\n",
       "      <td>JERRY</td>\n",
       "      <td>MORTY</td>\n",
       "      <td>1</td>\n",
       "      <td>False</td>\n",
       "      <td>True</td>\n",
       "      <td>1</td>\n",
       "      <td>4</td>\n",
       "    </tr>\n",
       "  </tbody>\n",
       "</table>\n",
       "</div>"
      ],
      "text/plain": [
       "  char_1 char_2  global_scene_number  is_funny  is_scene_funny  \\\n",
       "0  JERRY  MORTY                    1      True            True   \n",
       "1  JERRY  MORTY                    1     False            True   \n",
       "2  JERRY  MORTY                    1     False            True   \n",
       "3  JERRY  MORTY                    1     False            True   \n",
       "4  JERRY  MORTY                    1     False            True   \n",
       "\n",
       "   scene_number_in_episode  season  \n",
       "0                        1       4  \n",
       "1                        1       4  \n",
       "2                        1       4  \n",
       "3                        1       4  \n",
       "4                        1       4  "
      ]
     },
     "execution_count": 25,
     "metadata": {},
     "output_type": "execute_result"
    }
   ],
   "source": [
    "graph = []\n",
    "for idx, row in community_df.iterrows():\n",
    "#     print(row['scene_characters'])\n",
    "    if len(row['scene_characters']) > 1:\n",
    "        for comb in list(itertools.combinations(row['scene_characters'], 2)):\n",
    "            # sort by abc so always same order\n",
    "            char_1, char_2 = sorted(comb)\n",
    "            graph.append({'char_1' : char_1, 'char_2' : char_2, **row.drop('scene_characters').to_dict()})\n",
    "#         graph.append()\n",
    "df_graph = pd.DataFrame(graph)\n",
    "df_graph.head()"
   ]
  },
  {
   "cell_type": "code",
   "execution_count": 26,
   "metadata": {},
   "outputs": [],
   "source": [
    "# Create the graph\n",
    "g = nx.from_pandas_edgelist(df_graph[:100], source='char_1', target='char_2', edge_attr='is_funny')\n",
    "pos=nx.fruchterman_reingold_layout(g) "
   ]
  },
  {
   "cell_type": "code",
   "execution_count": null,
   "metadata": {},
   "outputs": [],
   "source": [
    "import networkx as nx\n",
    "import itertools\n",
    "from bokeh.io import show, output_notebook, reset_output #output_file, \n",
    "from bokeh.plotting import figure\n",
    "from bokeh.models.graphs import from_networkx\n",
    "from bokeh.models import HoverTool,BoxZoomTool, ResetTool, Plot, Range1d\n",
    "# reset_output()\n",
    "# output_notebook()\n",
    "\n"
   ]
  },
  {
   "cell_type": "code",
   "execution_count": 80,
   "metadata": {},
   "outputs": [
    {
     "data": {
      "text/html": [
       "<div>\n",
       "<style scoped>\n",
       "    .dataframe tbody tr th:only-of-type {\n",
       "        vertical-align: middle;\n",
       "    }\n",
       "\n",
       "    .dataframe tbody tr th {\n",
       "        vertical-align: top;\n",
       "    }\n",
       "\n",
       "    .dataframe thead th {\n",
       "        text-align: right;\n",
       "    }\n",
       "</style>\n",
       "<table border=\"1\" class=\"dataframe\">\n",
       "  <thead>\n",
       "    <tr style=\"text-align: right;\">\n",
       "      <th></th>\n",
       "      <th>char_1</th>\n",
       "      <th>char_2</th>\n",
       "      <th>weight</th>\n",
       "    </tr>\n",
       "  </thead>\n",
       "  <tbody>\n",
       "    <tr>\n",
       "      <th>0</th>\n",
       "      <td>JERRY</td>\n",
       "      <td>MORTY</td>\n",
       "      <td>875</td>\n",
       "    </tr>\n",
       "    <tr>\n",
       "      <th>1</th>\n",
       "      <td>HELEN</td>\n",
       "      <td>MORTY</td>\n",
       "      <td>838</td>\n",
       "    </tr>\n",
       "    <tr>\n",
       "      <th>2</th>\n",
       "      <td>HELEN</td>\n",
       "      <td>JERRY</td>\n",
       "      <td>919</td>\n",
       "    </tr>\n",
       "    <tr>\n",
       "      <th>3</th>\n",
       "      <td>MORTY</td>\n",
       "      <td>SUSAN</td>\n",
       "      <td>56</td>\n",
       "    </tr>\n",
       "    <tr>\n",
       "      <th>4</th>\n",
       "      <td>GEORGE</td>\n",
       "      <td>MORTY</td>\n",
       "      <td>489</td>\n",
       "    </tr>\n",
       "  </tbody>\n",
       "</table>\n",
       "</div>"
      ],
      "text/plain": [
       "   char_1 char_2  weight\n",
       "0   JERRY  MORTY     875\n",
       "1   HELEN  MORTY     838\n",
       "2   HELEN  JERRY     919\n",
       "3   MORTY  SUSAN      56\n",
       "4  GEORGE  MORTY     489"
      ]
     },
     "execution_count": 80,
     "metadata": {},
     "output_type": "execute_result"
    }
   ],
   "source": [
    "weight_graph = df_graph[['char_1', 'char_2']].drop_duplicates()\n",
    "weight_graph = weight_graph.set_index(['char_1', 'char_2'])\n",
    "weight_graph['weight'] = df_graph.groupby(['char_1', 'char_2']).size()\n",
    "weight_graph.reset_index(inplace=True)\n",
    "weight_graph.head()"
   ]
  },
  {
   "cell_type": "code",
   "execution_count": 113,
   "metadata": {},
   "outputs": [
    {
     "data": {
      "text/html": [
       "\n",
       "\n",
       "\n",
       "\n",
       "\n",
       "\n",
       "  <div class=\"bk-root\" id=\"e036a452-f3fd-48ad-8995-71933fdad969\" data-root-id=\"8613\"></div>\n"
      ]
     },
     "metadata": {},
     "output_type": "display_data"
    },
    {
     "data": {
      "application/javascript": [
       "(function(root) {\n",
       "  function embed_document(root) {\n",
       "    \n",
       "  var docs_json = {\"664a0fe6-7380-42af-91c4-26349db3cea6\":{\"roots\":{\"references\":[{\"attributes\":{},\"id\":\"9057\",\"type\":\"UnionRenderers\"},{\"attributes\":{},\"id\":\"8633\",\"type\":\"PanTool\"},{\"attributes\":{\"source\":{\"id\":\"8644\",\"type\":\"ColumnDataSource\"}},\"id\":\"8646\",\"type\":\"CDSView\"},{\"attributes\":{},\"id\":\"9043\",\"type\":\"BasicTickFormatter\"},{\"attributes\":{\"edge_renderer\":{\"id\":\"8649\",\"type\":\"GlyphRenderer\"},\"inspection_policy\":{\"id\":\"9048\",\"type\":\"NodesOnly\"},\"layout_provider\":{\"id\":\"8651\",\"type\":\"StaticLayoutProvider\"},\"node_renderer\":{\"id\":\"8645\",\"type\":\"GlyphRenderer\"},\"selection_policy\":{\"id\":\"9049\",\"type\":\"NodesOnly\"}},\"id\":\"8642\",\"type\":\"GraphRenderer\"},{\"attributes\":{\"callback\":null,\"overlay\":{\"id\":\"8636\",\"type\":\"BoxAnnotation\"}},\"id\":\"8634\",\"type\":\"BoxSelectTool\"},{\"attributes\":{},\"id\":\"8624\",\"type\":\"BasicTicker\"},{\"attributes\":{\"formatter\":{\"id\":\"9041\",\"type\":\"BasicTickFormatter\"},\"plot\":{\"id\":\"8613\",\"subtype\":\"Figure\",\"type\":\"Plot\"},\"ticker\":{\"id\":\"8624\",\"type\":\"BasicTicker\"}},\"id\":\"8623\",\"type\":\"LinearAxis\"},{\"attributes\":{\"overlay\":{\"id\":\"8664\",\"type\":\"BoxAnnotation\"}},\"id\":\"8661\",\"type\":\"BoxZoomTool\"},{\"attributes\":{},\"id\":\"8629\",\"type\":\"BasicTicker\"},{\"attributes\":{\"bottom_units\":\"screen\",\"fill_alpha\":{\"value\":0.5},\"fill_color\":{\"value\":\"lightgrey\"},\"left_units\":\"screen\",\"level\":\"overlay\",\"line_alpha\":{\"value\":1.0},\"line_color\":{\"value\":\"black\"},\"line_dash\":[4,4],\"line_width\":{\"value\":2},\"plot\":null,\"render_mode\":\"css\",\"right_units\":\"screen\",\"top_units\":\"screen\"},\"id\":\"8636\",\"type\":\"BoxAnnotation\"},{\"attributes\":{},\"id\":\"8619\",\"type\":\"LinearScale\"},{\"attributes\":{\"below\":[{\"id\":\"8623\",\"type\":\"LinearAxis\"}],\"left\":[{\"id\":\"8628\",\"type\":\"LinearAxis\"}],\"renderers\":[{\"id\":\"8623\",\"type\":\"LinearAxis\"},{\"id\":\"8627\",\"type\":\"Grid\"},{\"id\":\"8628\",\"type\":\"LinearAxis\"},{\"id\":\"8632\",\"type\":\"Grid\"},{\"id\":\"8636\",\"type\":\"BoxAnnotation\"},{\"id\":\"8664\",\"type\":\"BoxAnnotation\"},{\"id\":\"8642\",\"type\":\"GraphRenderer\"}],\"title\":{\"id\":\"8612\",\"type\":\"Title\"},\"toolbar\":{\"id\":\"8635\",\"type\":\"Toolbar\"},\"x_range\":{\"id\":\"8615\",\"type\":\"Range1d\"},\"x_scale\":{\"id\":\"8619\",\"type\":\"LinearScale\"},\"y_range\":{\"id\":\"8617\",\"type\":\"Range1d\"},\"y_scale\":{\"id\":\"8621\",\"type\":\"LinearScale\"}},\"id\":\"8613\",\"subtype\":\"Figure\",\"type\":\"Plot\"},{\"attributes\":{},\"id\":\"9056\",\"type\":\"Selection\"},{\"attributes\":{\"data_source\":{\"id\":\"8644\",\"type\":\"ColumnDataSource\"},\"glyph\":{\"id\":\"8643\",\"type\":\"Circle\"},\"hover_glyph\":null,\"muted_glyph\":null,\"view\":{\"id\":\"8646\",\"type\":\"CDSView\"}},\"id\":\"8645\",\"type\":\"GlyphRenderer\"},{\"attributes\":{},\"id\":\"9058\",\"type\":\"Selection\"},{\"attributes\":{},\"id\":\"9059\",\"type\":\"UnionRenderers\"},{\"attributes\":{\"active_drag\":\"auto\",\"active_inspect\":\"auto\",\"active_multi\":null,\"active_scroll\":\"auto\",\"active_tap\":\"auto\",\"tools\":[{\"id\":\"8633\",\"type\":\"PanTool\"},{\"id\":\"8634\",\"type\":\"BoxSelectTool\"},{\"id\":\"8660\",\"type\":\"HoverTool\"},{\"id\":\"8661\",\"type\":\"BoxZoomTool\"},{\"id\":\"8662\",\"type\":\"ResetTool\"}]},\"id\":\"8635\",\"type\":\"Toolbar\"},{\"attributes\":{\"callback\":null,\"end\":2.1,\"start\":-2.1},\"id\":\"8617\",\"type\":\"Range1d\"},{\"attributes\":{},\"id\":\"8643\",\"type\":\"Circle\"},{\"attributes\":{\"plot\":{\"id\":\"8613\",\"subtype\":\"Figure\",\"type\":\"Plot\"},\"ticker\":{\"id\":\"8624\",\"type\":\"BasicTicker\"}},\"id\":\"8627\",\"type\":\"Grid\"},{\"attributes\":{\"callback\":null,\"data\":{\"index\":[\"WILLIESR\",\"ANSWERING MACHINE\",\"OWNER\",\"DONNA\",\"CUSTOMER\",\"AENT\",\"MAN ON THE STREET\",\"FARKUS\",\"ENZO\",\"COWORKER\",\"MRSREICHMAN\",\"HOMELESSMAN2:\",\"BARBARA\",\"JOYCE\",\"WYCK\",\"DONALD\",\"SUPERVISOR\",\"KRAMER\",\"TAWNI\",\"MRROSS\",\"GEORGE(O.C.):\",\"DAVOLA\",\"ALEC\",\"DOLORES\",\"PEGGY\",\"CLARE\",\"LESLIE\",\"BUDDY\",\"REILLY\",\"SISTERROBERTA\",\"JOE\",\"UKRAINIAN\",\"KRUGER\",\"TARA\",\"MAN 2\",\"SHARON\",\"UNCLELEO\",\"EALINE\",\"MAN3\",\"RENE\",\"NEMWAN\",\"BOUNCER\",\"ZACH\",\"HILDE\",\"SETH\",\"KELLY\",\"TICKETMAN\",\"BABU\",\"BOB\",\"STACEY\",\"RICK\",\"POPPIE\",\"MAN\",\"OLDWOMAN\",\"LENA\",\"RUSSELL\",\"TONY\",\"CO-WORKER:\",\"SHLOMO\",\"WILLIAMS\",\"MR.ABBOTT\",\"GEORGE\",\"THEGIRLS\",\"FELDMAN\",\"OLIVE\",\"ALLTHREE\",\"ANNOUNCERONTV\",\"MANINCAR\",\"SECURITYGUARD\",\"PATTY\",\"DELIVERYGUY\",\"VOICE ON THE PHONE\",\"ALISON\",\"PHOTOGRAPHER\",\"CONRAD\",\"TANNOY\",\"DENTIST\",\"GINO\",\"LEO\",\"GUAD\",\"LAURA\",\"GIGGIO\",\"JERRY&GEORGE:\",\"POLICE\",\"SARA\",\"MAURA\",\"COUNTERPERSON\",\"BOYSENBERRY\",\"MARIO\",\"PATIENT\",\"DELIVERYMAN\",\"ELIANE\",\"FATHER-PRIEST2:\",\"CABBIE\",\"PARAMEDIC\",\"PETERMAN\",\"MARCELINO\",\"GREG\",\"FEMALECUSTOMER\",\"ALEX\",\"FURNITUREGUY\",\"BARRY\",\"TVANNOUNCER\",\"CARL\",\"ATTENDANT\",\"CLAYTON\",\"MANAGER\",\"KID2:\",\"IZZY\",\"MR.MORGAN\",\"LISI\",\"HEATHER\",\"JETER\",\"STEIN\",\"KEVIN\",\"BANIA\",\"MAID\",\"ERIC\",\"MERYL\",\"HELEN\",\"SUEELLEN\",\"MRSHAMILTON\",\"LELAND\",\"RON\",\"TAPEPLAYER\",\"FAN\",\"JAYLENO\",\"LORETTA\",\"MORGANEWMAN\",\"JOANNE\",\"STAGE HAND\",\"MRS.PAYTON\",\"MRS.COSTANZA\",\"BRYANT\",\"SUSAN\",\"DUGAN\",\"IZZYJR.\",\"MRBURNS\",\"THOMASSOULO\",\"JERRY&JEANNIE:\",\"WOMAN\",\"MISHA\",\"UNCLE LEO\",\"COCO\",\"INTERCOM\",\"USHER\",\"NANCY\",\"CHERYL\",\"DR.ALLENWOOD\",\"BILLY\",\"MR.PETERMAN\",\"AUDREY\",\"HOUSEKEEPER\",\"REBECCA\",\"BUSINESSMAN\",\"APPLICANT\",\"SON\",\"ELAINE AND PUDDY\",\"SPONSER\",\"MEMBER1:\",\"ALLISON\",\"RABBI\",\"MAESTRO AND ELAINE\",\"FRIEND\",\"KURT\",\"ELAINE\",\"RADIO\",\"LABTECHNICIAN\",\"BOOKIE\",\"MAR\",\"VOICE FROM POKER GAME\",\"MONK'SMANAGER:\",\"JULIO\",\"DEBBY\",\"BRIDGET\",\"BUZZER\",\"MOM\",\"GILLIAN\",\"CONTEST WINNER\",\"WILKIE\",\"BETH\",\"HANKE\",\"TIM\",\"LEADER\",\"SPONER\",\"PAM\",\"KAREN\",\"STEVEN\",\"EVERYBODY\",\"BOY\",\"RICARDI\",\"KATE\",\"KID\",\"JERRY& ELAINE\",\"LOUISE\",\"ORGANIZER\",\"MR.ROSS\",\"ANNA\",\"POLICEOFFICER\",\"HAIRDRESSER\",\"AMANDA\",\"VOICE\",\"MEL\",\"ROBIN\",\"GIULIANI\",\"DEENA\",\"FATHER HERNANDEZ\",\"RUSTY\",\"BANKEMPLOYEE\",\"SCOTT\",\"AUDIENCE\",\"SIENA\",\"NEWMAN\",\"DUSTIN\",\"RAY\",\"OFFSTAGE\",\"MRS.S\",\"READERS\",\"MECHANIC\",\"FIREMAN\",\"CARSALESMAN\",\"LUBECK\",\"MODEL2:\",\"SHELLBACH\",\"MAHJONGLADY\",\"MICKEY\",\"RESIDENT\",\"CARWASHER\",\"DARREN\",\"DIRECTOR\",\"GIRL\",\"SPIKE\",\"SHELLY\",\"SASHA\",\"PITT\",\"JOEY\",\"CARRERAS\",\"PRIEST\",\"MORTY\",\"LOU\",\"SALESMAN\",\"DENIMVEST\",\"JUDGE\",\"AMY\",\"\\\"SALMAN\\\"\",\"MS.JORDAN\",\"MRS.ZANFINO\",\"MRSTAR\",\"POSTALWORKER\",\"JODI\",\"ZEKE\",\"MORGAN\",\"GEORGE&JERRY:\",\"MRS.O\",\"WALTER\",\"CEDRIC\",\"DEENSFREI\",\"WORKERS\",\"SALESWOMAN\",\"BETSY\",\"WORKER\",\"CONTESTWINNER\",\"DR.RESNICK\",\"MOVIEPATRON\",\"LINDSAY\",\"MRS.SANGER\",\"MONA\",\"MARLA\",\"MARTY\",\"PETE\",\"ADAM\",\"SANDRA\",\"VET\",\"CAROL\",\"PHONEMAN\",\"TAPERECORDER\",\"CYNTHIA\",\"PENSKY\",\"ELLEN\",\"OTHER CO-WORKERS IN HALLWAY\",\"NAOMI\",\"NEWS\",\"FLORIST\",\"KIM\",\"ALL\",\"MAN1:\",\"TOBY\",\"RITA\",\"MYRA\",\"ROY\",\"LLOYD\",\"AGENT\",\"VINCENT\",\"FOWLER\",\"DAVID\",\"MILOS\",\"JERRY, GEORGE, ELAINE\",\"SIDRA\",\"REPORTER\",\"ALEXTREBEK\",\"GEPETTO\",\"FULTON\",\"RAYMOND\",\"JOYMAYO\",\"ALLBRIGHT\",\"CAPTAIN\",\"BOTH\",\"MELISSA\",\"JOEDIVOLA\",\"JEAN-PAUL:\",\"DR.BAKERSOLL\",\"RESTAURATEUR\",\"CALVINKLEIN\",\"FATHERCURTIS\",\"ALAN\",\"MAESTRO\",\"DOLL\",\"MS.DEGRANMONT\",\"RECEPTIONIST\",\"DEANJONES\",\"FLIGHT ATTENDANT\",\"HAARWOOD\",\"MR.PITT\",\"JANE\",\"MR.S\",\"JUDY\",\"DOCTER\",\"JEANINE\",\"JEFF\",\"PAULA\",\"RAMON\",\"HAL\",\"TICKETLADY\",\"WENDY\",\"ANNOUNCER\",\"JACK\",\"GLADYS\",\"GWEN\",\"KARL\",\"HUCKLEBERRY\",\"DETECTIVE 1\",\"EMILY\",\"JOHNNY\",\"STAGEHAND\",\"ELAINE AND JERRY\",\"FATHER\",\"ARONSON\",\"GLENN\",\"TESTIKOV\",\"DOCTOR\",\"AL\",\"ABBY\",\"RICKY\",\"MARY\",\"MAILMAN\",\"TV\",\"MACHINE\",\"JAKE\",\"HORST\",\"PRISONER\",\"NURSE\",\"FRANKIE\",\"MR. PITT\",\"MR.TUTTLE\",\"MR.PLESS\",\"MR.GREEN\",\"MCADAM\",\"MRS.ROSS\",\"POSTAL WORKER DANNY\",\"GEORGE AND JERRY\",\"PASSERBY\",\"TIMMY\",\"GAIL\",\"VOICE ON SPEAKER\",\"SLIPPERTPETE\",\"JACKIE\",\"COP\",\"ROGER\",\"STEINBRENNER\",\"JERRY, GEORGE, & KRAMER\",\"VARGUS\",\"BRODY\",\"EDDIE\",\"HOTELCLERK\",\"BOMBCOP\",\"SYLVIA\",\"LIPPMAN\",\"SKYCAP\",\"VENDER\",\"DWAYNE\",\"RICKEY\",\"MANINSHOWER\",\"MARCY\",\"DISPATCHER\",\"J.PETERMAN\",\"DANA\",\"STUDENT3:\",\"FATHERJESSUP\",\"TAMMY\",\"ELECTRICIAN\",\"SLIPPERY PETE\",\"AUNTMAY\",\"SECONRAD\",\"TODD\",\"MR.ELINOFF\",\"KLEIN\",\"HOLEDIGGER\",\"ADE\",\"MR. STEINBRENNER\",\"BECKY\",\"DENISE\",\"SIMON\",\"VIVIAN\",\"GARY\",\"MR.CROSS\",\"MS.BAINES\",\"CASHIER\",\"VALERIE\",\"MARYEDITH\",\"WINONA\",\"SALLY\",\"RACHEL\",\"JOEL\",\"RESTON\",\"RALPH\",\"HOMELESSMAN\",\"CORINNE\",\"DRIVER\",\"LADY\",\"HEALTH INSPECTOR\",\"DETECTIVE 2\",\"SAILOR\",\"JOHNTYLER\",\"DIANE\",\"JULIE\",\"PAUL\",\"MIKE\",\"JIMMY\",\"GOERGE\",\"MRS.ENRIGHT\",\"JERRY\",\"MRREICHMAN\",\"JERRY AND ELAINE\",\"BILL\",\"STAN\",\"MRS.C\",\"WAITER\",\"SUPER\",\"MATTHEW\",\"SHEILA\",\"SANDY\",\"BARTENDER\",\"STEVE\",\"GEOGE\",\"GAURD\",\"ELANE\",\"KATIE\",\"DOGOWNER\",\"PHONE\",\"COMPUTERVOICE\",\"PUDDY\",\"MRS.SWEEDLER\",\"CLERK\",\"SOUPNAZI\",\"WHATLEY\",\"MARYANNE\",\"STRANGER\",\"MOONEY\",\"ANOTHERMAN\",\"HOLLY\",\"TEACHER\",\"ALROKER\",\"BONNIE\",\"DOORMAN\",\"JERY\",\"MOHEL\",\"MR.LIPPMAN\",\"DAPHNE\",\"SILVIO\",\"BECK\",\"LARRY\",\"SECRETARY\",\"POSTMASTER GENERAL\",\"KERI\",\"NUN\",\"ELDRIDGE\",\"PLAYER\",\"JOAN\",\"PING\",\"BEN\",\"FRANK\",\"SPONSOR\",\"POP\",\"TIA\",\"SLIPPERYPETE\",\"MANDEL\",\"MOLLY\",\"BUXOMWOMAN\",\"CHARLIE\",\"JERRY AND GEORGE\",\"GUYONPHONE\",\"EARL\",\"DARRYL\",\"WOMANATBEACH\",\"CINDY\",\"OLDMAN\",\"GARDNER\",\"GUY\",\"GERMANWOMAN\",\"MINKLER\",\"MONICA\",\"RONNIE\",\"ARNIE\",\"SID\",\"LISA\",\"WAITRESS\",\"IPSWITCH\",\"MRS.PETERMAN\",\"NANA\",\"JAMES\",\"BOBBY\",\"LETTERMAN\",\"PHIL\",\"MALEWORKER\",\"STEWARDESS\",\"WATKINS\",\"NEWMANEWMAN\",\"BLINDMAN\",\"RUTHIE\",\"MICHAEL\",\"MACKENZIE\",\"STEFANIE\",\"DR.BURKE\",\"CELIA\",\"GUARD\",\"POSTALEMPLOYEE\",\"THEDRAKE\",\"FEMALEWORKER\",\"TUTTLE\",\"ELAIEN\",\"MELANIE\",\"KATYA\",\"EMPLOYEE\",\"DR.WEXLER\",\"DJONRADIO\",\"NIKKI\",\"RHISA\",\"AGENCYREP\",\"FRED\",\"WOMANEWMAN\",\"MAXWELL\",\"PHARMACIST\",\"GENE\",\"WILLIE\",\"MIRANDA\",\"ESTELLE\",\"BRADY\",\"RADIOANNOUNCER\",\"JANET\",\"WILHELM\",\"SOPHIE\"]},\"selected\":{\"id\":\"9058\",\"type\":\"Selection\"},\"selection_policy\":{\"id\":\"9059\",\"type\":\"UnionRenderers\"}},\"id\":\"8644\",\"type\":\"ColumnDataSource\"},{\"attributes\":{\"callback\":null,\"data\":{\"end\":[\"WOMAN\",\"GEORGE\",\"MAN\",\"WILLIE\",\"GEORGE\",\"JERRY\",\"SOPHIE\",\"KRAMER\",\"ELAINE\",\"NEWMAN\",\"JERRY\",\"APPLICANT\",\"JERRY\",\"ADE\",\"ELAINE\",\"GEORGE\",\"WILLIE\",\"ELAINE\",\"SOUPNAZI\",\"BANIA\",\"NEWMAN\",\"KRAMER\",\"ELAINE\",\"WOMAN\",\"KRAMER\",\"JERRY\",\"CAPTAIN\",\"LIPPMAN\",\"KRAMER\",\"JERRY\",\"FRANK\",\"NEWMAN\",\"ELAINE\",\"GEORGE\",\"MS.DEGRANMONT\",\"KRAMER\",\"NEWMAN\",\"GINO\",\"JERRY\",\"MAN\",\"ELAINE\",\"KRAMER\",\"JERRY\",\"MRREICHMAN\",\"ELAINE\",\"GEORGE\",\"JOEDIVOLA\",\"KRAMER\",\"ELAINE\",\"JERRY\",\"DAVID\",\"CLERK\",\"ELAINE\",\"PETERMAN\",\"KRAMER\",\"JERRY\",\"STEVEN\",\"MR.CROSS\",\"DOLORES\",\"GEORGE\",\"MS.BAINES\",\"JERRY\",\"MRS.SANGER\",\"SUSAN\",\"MEL\",\"ELAINE\",\"GEORGE\",\"WAITRESS\",\"NEWMAN\",\"POSTALEMPLOYEE\",\"KRAMER\",\"MRSHAMILTON\",\"ELAIEN\",\"VET\",\"DAVOLA\",\"PHONEMAN\",\"HAL\",\"GIRL\",\"OTHER CO-WORKERS IN HALLWAY\",\"NAOMI\",\"DELIVERYMAN\",\"ALL\",\"MAN1:\",\"BOTH\",\"SUEELLEN\",\"TOBY\",\"DOLORES\",\"LLOYD\",\"PEGGY\",\"CLARE\",\"MRS.SWEEDLER\",\"SLIPPERYPETE\",\"JERRY, GEORGE, ELAINE\",\"SISTERROBERTA\",\"JOE\",\"UKRAINIAN\",\"SIDRA\",\"FIREMAN\",\"MAN 2\",\"NEWS\",\"FULTON\",\"JOYMAYO\",\"MAN3\",\"RENE\",\"CAPTAIN\",\"HILDE\",\"MANINSHOWER\",\"JOEDIVOLA\",\"SETH\",\"BABU\",\"CALVINKLEIN\",\"MR.PLESS\",\"FOWLER\",\"MAESTRO\",\"DOLL\",\"MECHANIC\",\"CELIA\",\"MS.DEGRANMONT\",\"MAN\",\"OLDWOMAN\",\"CAROL\",\"DEANJONES\",\"HAARWOOD\",\"WINONA\",\"JANE\",\"RICARDI\",\"FRANKIE\",\"CARRERAS\",\"TONY\",\"JOEY\",\"PAULA\",\"RAMON\",\"MR. STEINBRENNER\",\"DANA\",\"ANOTHERMAN\",\"WENDY\",\"ANNOUNCER\",\"JACK\",\"GLADYS\",\"GWEN\",\"FATHERJESSUP\",\"HUCKLEBERRY\",\"ANNOUNCERONTV\",\"MANINCAR\",\"RACHEL\",\"STAGEHAND\",\"PATTY\",\"MR.PITT\",\"VOICE ON THE PHONE\",\"ALISON\",\"FATHER\",\"CONRAD\",\"ARONSON\",\"TIA\",\"MEL\",\"DOCTOR\",\"ALEX\",\"ABBY\",\"RICKY\",\"JERRY&GEORGE:\",\"POLICE\",\"MAILMAN\",\"TV\",\"JAKE\",\"HORST\",\"J.PETERMAN\",\"BOYSENBERRY\",\"PRISONER\",\"PATIENT\",\"OLDMAN\",\"JACKIE\",\"CABBIE\",\"MRS.ROSS\",\"PARAMEDIC\",\"PETERMAN\",\"MARCELINO\",\"OLIVE\",\"PASSERBY\",\"GINO\",\"GAIL\",\"CHERYL\",\"BARRY\",\"ELIANE\",\"COP\",\"SHELLBACH\",\"STEINBRENNER\",\"ATTENDANT\",\"BRODY\",\"EDDIE\",\"MANAGER\",\"SLIPPERTPETE\",\"LIPPMAN\",\"MANDEL\",\"DWAYNE\",\"KEVIN\",\"JERRY, GEORGE, & KRAMER\",\"BANIA\",\"MR.PETERMAN\",\"STEVEN\",\"MERYL\",\"GEORGE\",\"ROBIN\",\"FATHER HERNANDEZ\",\"TAMMY\",\"RAY\",\"SLIPPERY PETE\",\"JULIE\",\"LELAND\",\"RON\",\"JANET\",\"GLENN\",\"DENTIST\",\"JOANNE\",\"STAGE HAND\",\"POSTMASTER GENERAL\",\"SIMON\",\"NEWMAN\",\"SUSAN\",\"MEMBER1:\",\"TAPERECORDER\",\"BOBBY\",\"POSTAL WORKER DANNY\",\"VALERIE\",\"VOICE\",\"SALLY\",\"DISPATCHER\",\"JOHNNY\",\"RUSTY\",\"INTERCOM\",\"JOEL\",\"RESTON\",\"MRSTAR\",\"HOMELESSMAN\",\"USHER\",\"GEORGE AND JERRY\",\"DRIVER\",\"DR.ALLENWOOD\",\"MARCY\",\"MR.ROSS\",\"DR.WEXLER\",\"ELDRIDGE\",\"CASHIER\",\"PAM\",\"SANDY\",\"EMPLOYEE\",\"ALLTHREE\",\"BOB\",\"SON\",\"MR.LIPPMAN\",\"ALLISON\",\"MIKE\",\"EMILY\",\"JIMMY\",\"MRS.O\",\"FRIEND\",\"GOERGE\",\"ELAINE\",\"JERRY\",\"MRREICHMAN\",\"LABTECHNICIAN\",\"STAN\",\"MAR\",\"WAITER\",\"VOICE FROM POKER GAME\",\"SHEILA\",\"DARREN\",\"DEBBY\",\"BARTENDER\",\"STEVE\",\"TAPEPLAYER\",\"MR.ABBOTT\",\"MOM\",\"ELANE\",\"KATIE\",\"WILKIE\",\"ELAINE AND JERRY\",\"COMPUTERVOICE\",\"PUDDY\",\"TIM\",\"CLERK\",\"SOUPNAZI\",\"WHATLEY\",\"KAREN\",\"MARYANNE\",\"AMANDA\",\"EVERYBODY\",\"MODEL2:\",\"SUPER\",\"KID\",\"HOLLY\",\"TEACHER\",\"TANNOY\",\"DOORMAN\",\"ORGANIZER\",\"MOHEL\",\"ANNA\",\"DAPHNE\",\"SILVIO\",\"BECK\",\"SECRETARY\",\"HELEN\",\"KERI\",\"GIULIANI\",\"DEENA\",\"WOMAN\",\"PING\",\"BANKEMPLOYEE\",\"BEN\",\"FRANK\",\"SHLOMO\",\"POP\",\"ROY\",\"BOOKIE\",\"KURT\",\"BOY\",\"CHARLIE\",\"ALAN\",\"GUYONPHONE\",\"EARL\",\"CINDY\",\"MAESTRO AND ELAINE\",\"GUY\",\"MYRA\",\"FAN\",\"MICKEY\",\"RONNIE\",\"RESIDENT\",\"KRUGER\",\"SID\",\"DIRECTOR\",\"TODD\",\"SPIKE\",\"UNCLELEO\",\"LEO\",\"ALEXTREBEK\",\"RICK\",\"PITT\",\"PHIL\",\"MALEWORKER\",\"STEWARDESS\",\"NEWMANEWMAN\",\"KLEIN\",\"POSTALEMPLOYEE\",\"GERMANWOMAN\",\"MORTY\",\"LOU\",\"MICHAEL\",\"SALESMAN\",\"STEFANIE\",\"DENIMVEST\",\"JUDGE\",\"GARY\",\"GUARD\",\"SECURITYGUARD\",\"NEMWAN\",\"\\\"SALMAN\\\"\",\"MRS.ZANFINO\",\"RALPH\",\"SIENA\",\"JODI\",\"MARY\",\"JERRY AND ELAINE\",\"MORGAN\",\"TICKETMAN\",\"AGENCYREP\",\"FRED\",\"CEDRIC\",\"DEENSFREI\",\"MAXWELL\",\"SALESWOMAN\",\"LARRY\",\"WORKER\",\"WILHELM\",\"MIRANDA\",\"ESTELLE\",\"MONA\",\"MARLA\",\"MARTY\",\"SOPHIE\",\"ELAINE\",\"JERRY\",\"SALESMAN\",\"GEORGE\",\"SUSAN\",\"GEORGE\",\"JERRY\",\"RESTON\",\"ELAINE\",\"JERRY\",\"ELAINE\",\"JERRY\",\"JERRY\",\"J.PETERMAN\",\"SECRETARY\",\"ELAINE\",\"GEORGE\",\"PETERMAN\",\"JERRY\",\"ELAINE\",\"PUDDY\",\"WALTER\",\"DARREN\",\"JERRY\",\"ELAINE\",\"GEORGE\",\"JERRY\",\"BRYANT\",\"JERRY\",\"RECEPTIONIST\",\"ELAINE\",\"GEORGE\",\"WENDY\",\"LEO\",\"ESTELLE\",\"BILL\",\"FRANK\",\"HELEN\",\"GEORGE\",\"MCADAM\",\"MORTY\",\"GEORGE\",\"JERRY\",\"JERRY\",\"NEWMAN\",\"GWEN\",\"JERRY\",\"MAN\",\"FRANK\",\"ELAINE\",\"BOOKIE\",\"SANDY\",\"COCO\",\"ESTELLE\",\"MANAGER\",\"PHIL\",\"WATKINS\",\"GEORGE\",\"SOPHIE\",\"MALEWORKER\",\"GEORGE\",\"ELAINE\",\"MAN\",\"ALLISON\",\"ELAINE\",\"GEORGE\",\"JERRY\",\"PETERMAN\",\"MORTY\",\"JERRY\",\"MERYL\",\"HELEN\",\"ELAINE\",\"POSTAL WORKER DANNY\",\"DR.RESNICK\",\"AMY\",\"UNCLE LEO\",\"SHEILA\",\"GEORGE\",\"MARTY\",\"PETERMAN\",\"CINDY\",\"JERRY\",\"MAN\",\"ELAINE\",\"GEORGE\",\"GEORGE\",\"AMANDA\",\"ELAINE\",\"JERRY\",\"NEWMAN\",\"GEORGE\",\"ELAINE\",\"JERRY\",\"ELAINE\",\"GEORGE\",\"JERRY\",\"NEWMAN\",\"JERRY\",\"MAN\",\"GEORGE\",\"ELAINE\",\"SALESWOMAN\",\"SIMON\",\"JERRY\",\"BANIA\",\"ELAINE\",\"GEORGE\",\"MONK'SMANAGER:\",\"JOEL\",\"ELAINE\",\"ANNOUNCER\",\"JERRY& ELAINE\",\"ELAINE\",\"GEORGE\",\"JERRY\",\"SOUPNAZI\",\"JERRY\",\"CEDRIC\",\"GEORGE\",\"ELAINE\",\"SALESWOMAN\",\"RAY\",\"MARLA\",\"GEORGE\",\"JERRY\",\"JERRY\",\"MECHANIC\",\"SALESMAN\",\"GEORGE\",\"SALESWOMAN\",\"PUDDY\",\"AUDREY\",\"MRS.PAYTON\",\"ELAINE\",\"JERRY\",\"HEALTH INSPECTOR\",\"PETERMAN\",\"ROGER\",\"WOMAN\",\"NEWMAN\",\"JERRY\",\"FRANK\",\"TEACHER\",\"ELAINE\",\"BOY\",\"PHOTOGRAPHER\",\"TAPEPLAYER\",\"FEMALECUSTOMER\",\"PUDDY\",\"BOBBY\",\"MICKEY\",\"EVERYBODY\",\"MECHANIC\",\"ANOTHERMAN\",\"SALESWOMAN\",\"CINDY\",\"WAITRESS\",\"WILLIE\",\"KLEIN\",\"ANNA\",\"PITT\",\"CLERK\",\"GEORGE\",\"JAKE\",\"WATKINS\",\"MONICA\",\"GEORGE\",\"JERRY\",\"SUSAN\",\"GAIL\",\"ELAINE\",\"JERRY\",\"GEORGE\",\"WAITER\",\"CYNTHIA\",\"MOLLY\",\"JANE\",\"ELAINE\",\"GEORGE\",\"JERRY\",\"RECEPTIONIST\",\"ELAINE\",\"GEORGE\",\"SLIPPERYPETE\",\"SLIPPERTPETE\",\"SLIPPERY PETE\",\"GEORGE\",\"JETER\",\"ELAINE\",\"JERRY\",\"BETH\",\"NEWMAN\",\"PRISONER\",\"SANDY\",\"ALAN\",\"HOUSEKEEPER\",\"HANKE\",\"CASHIER\",\"MS.BAINES\",\"VET\",\"DANA\",\"AUNTMAY\",\"OLIVE\",\"ALLTHREE\",\"MANINCAR\",\"PHOTOGRAPHER\",\"CONRAD\",\"KERI\",\"TIA\",\"GINO\",\"LEO\",\"MALEWORKER\",\"LAURA\",\"JERRY&GEORGE:\",\"POLICE\",\"SARA\",\"MAURA\",\"MARIO\",\"PATIENT\",\"DELIVERYMAN\",\"CABBIE\",\"PARAMEDIC\",\"PETERMAN\",\"ALEX\",\"COUNTERPERSON\",\"BARRY\",\"TVANNOUNCER\",\"CARL\",\"ATTENDANT\",\"CLAYTON\",\"IZZY\",\"MR.MORGAN\",\"LISI\",\"HEATHER\",\"STEINBRENNER\",\"STEIN\",\"KEVIN\",\"BANIA\",\"ERIC\",\"ROBIN\",\"FAN\",\"FATHER-PRIEST2:\",\"MORGANEWMAN\",\"MRS.COSTANZA\",\"SUSAN\",\"MILOS\",\"IZZYJR.\",\"THOMASSOULO\",\"BILL\",\"SALLY\",\"MISHA\",\"COCO\",\"USHER\",\"NANCY\",\"CHERYL\",\"DR.ALLENWOOD\",\"BILLY\",\"MR.CROSS\",\"REBECCA\",\"APPLICANT\",\"SPONSER\",\"MEMBER1:\",\"ELANE\",\"RABBI\",\"FRIEND\",\"KURT\",\"ROY\",\"NANA\",\"TUTTLE\",\"DEBBY\",\"BRADY\",\"BUZZER\",\"MOM\",\"GILLIAN\",\"TIM\",\"LEADER\",\"SPONER\",\"CEDRIC\",\"EVERYBODY\",\"MODEL2:\",\"RICARDI\",\"BONNIE\",\"KID\",\"LOUISE\",\"MR.ROSS\",\"ANNA\",\"AGENCYREP\",\"MACHINE\",\"MEL\",\"HELEN\",\"GIULIANI\",\"DEENA\",\"FATHERJESSUP\",\"SLIPPERTPETE\",\"SCOTT\",\"SIENA\",\"BOOKIE\",\"BOY\",\"BETSY\",\"MAHJONGLADY\",\"MICKEY\",\"NEWS\",\"DARREN\",\"MIKE\",\"ALEXTREBEK\",\"SASHA\",\"SOUPNAZI\",\"PRIEST\",\"MORTY\",\"GLENN\",\"SALESMAN\",\"WOMAN\",\"DENIMVEST\",\"JODI\",\"RONNIE\",\"ZEKE\",\"MORGAN\",\"DOGOWNER\",\"KID2:\",\"SALESWOMAN\",\"LARRY\",\"WORKER\",\"DR.RESNICK\",\"MOVIEPATRON\",\"LINDSAY\",\"MRS.SANGER\",\"MONA\",\"KAREN\",\"SANDRA\",\"CAROL\",\"CYNTHIA\",\"PENSKY\",\"ELLEN\",\"MR.S\",\"DENTIST\",\"FLORIST\",\"ALL\",\"MAN1:\",\"RITA\",\"MYRA\",\"LLOYD\",\"VINCENT\",\"FOWLER\",\"SIDRA\",\"ESTELLE\",\"FIREMAN\",\"SHELLY\",\"GEPETTO\",\"RAYMOND\",\"MELISSA\",\"JOEDIVOLA\",\"PHIL\",\"RESTAURATEUR\",\"CALVINKLEIN\",\"MAESTRO\",\"DOLL\",\"MS.DEGRANMONT\",\"RECEPTIONIST\",\"MR.PITT\",\"JANE\",\"FRANKIE\",\"PAULA\",\"HAL\",\"WENDY\",\"ANNOUNCER\",\"JACK\",\"GWEN\",\"KARL\",\"EMILY\",\"MRS.ENRIGHT\",\"STAGEHAND\",\"FATHER\",\"ARONSON\",\"TESTIKOV\",\"DARRYL\",\"AL\",\"RICKY\",\"MIRANDA\",\"NURSE\",\"MR. PITT\",\"MR.TUTTLE\",\"MRS.ROSS\",\"GEORGE AND JERRY\",\"TIMMY\",\"GAIL\",\"VOICE ON SPEAKER\",\"JACKIE\",\"COP\",\"JETER\",\"JERRY, GEORGE, & KRAMER\",\"EDDIE\",\"LORETTA\",\"JEANINE\",\"LIPPMAN\",\"VENDER\",\"DWAYNE\",\"RICKEY\",\"STEVEN\",\"J.PETERMAN\",\"AUDIENCE\",\"SLIPPERY PETE\",\"CARSALESMAN\",\"TODD\",\"KLEIN\",\"ADE\",\"MR. STEINBRENNER\",\"DENISE\",\"SIMON\",\"VIVIAN\",\"GARY\",\"RHISA\",\"ABBY\",\"POSTAL WORKER DANNY\",\"VALERIE\",\"VOICE\",\"MANAGER\",\"RACHEL\",\"CORINNE\",\"DRIVER\",\"SYLVIA\",\"MARCY\",\"FATHER HERNANDEZ\",\"SAILOR\",\"MRSHAMILTON\",\"JIMMY\",\"GOERGE\",\"JERRY\",\"MRREICHMAN\",\"MRS.S\",\"STAN\",\"MRS.C\",\"WAITER\",\"SHEILA\",\"BARTENDER\",\"ALLISON\",\"KATIE\",\"GEORGE&JERRY:\",\"PHONE\",\"PUDDY\",\"MRS.SWEEDLER\",\"CLERK\",\"STUDENT3:\",\"MARYANNE\",\"MOONEY\",\"HOLLY\",\"DOORMAN\",\"JERY\",\"MOHEL\",\"MR.LIPPMAN\",\"DAPHNE\",\"SILVIO\",\"BOTH\",\"SECRETARY\",\"WALTER\",\"ELDRIDGE\",\"PING\",\"BEN\",\"FRANK\",\"SPONSOR\",\"POP\",\"ELAINE\",\"MANDEL\",\"MOLLY\",\"BUXOMWOMAN\",\"JERRY AND GEORGE\",\"CINDY\",\"GARDNER\",\"GUY\",\"MINKLER\",\"DIANE\",\"JOEL\",\"SID\",\"BECK\",\"WAITRESS\",\"MRS.PETERMAN\",\"JAMES\",\"DOCTOR\",\"JOYMAYO\",\"MARYEDITH\",\"STEWARDESS\",\"WATKINS\",\"BLINDMAN\",\"MICHAEL\",\"MACKENZIE\",\"MCADAM\",\"CELIA\",\"GUARD\",\"THEDRAKE\",\"MARLA\",\"EMPLOYEE\",\"SLIPPERYPETE\",\"NIKKI\",\"AMANDA\",\"MECHANIC\",\"GENE\",\"WILLIE\",\"LISA\",\"RADIOANNOUNCER\",\"JANET\",\"WILHELM\",\"SOPHIE\",\"FRED\",\"ELAINE\",\"JERRY\",\"GIRL\",\"KEVIN\",\"VARGUS\",\"ELAINE\",\"GENE\",\"ELAINE\",\"JERRY\",\"KEVIN\",\"JERRY\",\"JERRY\",\"ELAINE\",\"JERRY\",\"ELAINE\",\"JERRY\",\"LIPPMAN\",\"ELAINE\",\"JERRY\",\"NEWMAN\",\"VOICE\",\"ELAINE\",\"JERRY\",\"ELAINE\",\"GLENN\",\"JERRY\",\"WOMAN\",\"ELAINE\",\"JERRY\",\"SYLVIA\",\"ESTELLE\",\"ELAINE\",\"JERRY\",\"ELAINE\",\"JERRY\",\"TIM\",\"NEWMAN\",\"JERRY\",\"PENSKY\",\"SECRETARY\",\"GUARD\",\"MORTY\",\"JERRY\",\"SUSAN\",\"RECEPTIONIST\",\"HELEN\",\"ELAINE\",\"NANA\",\"GAURD\",\"PAULA\",\"WENDY\",\"GUARD\",\"JERRY\",\"DRIVER\",\"JERRY\",\"JERRY\",\"ELAINE\",\"JERRY\",\"PUDDY\",\"MICHAEL\",\"JERRY\",\"RACHEL\",\"RICKY\",\"JERRY\",\"SUSAN\",\"RAYMOND\",\"RICKEY\",\"MRS.ROSS\",\"MR.ROSS\",\"GLENN\",\"LORETTA\",\"ELAINE\",\"ELAINE\",\"JERRY\",\"HUCKLEBERRY\",\"BOY\",\"JERRY\",\"ELAINE\",\"JERRY\",\"NEWMAN\",\"JERRY\",\"KERI\",\"ELAINE\",\"JERRY\",\"DEBBY\",\"GUY\",\"ELAINE\",\"JERRY\",\"JIMMY\",\"MORTY\",\"LOU\",\"JERRY\",\"MIKE\",\"TVANNOUNCER\",\"ELAINE\",\"SUPER\",\"CAPTAIN\",\"LUBECK\",\"NEWMAN\",\"DOCTOR\",\"MRS.PETERMAN\",\"STEVEN\",\"HELEN\",\"SALESMAN\",\"SECRETARY\",\"JERRY\",\"ELAINE\",\"MERYL\",\"ELAINE\",\"JERRY\",\"ELAINE\",\"JERRY\",\"ELAINE\",\"SUPER\",\"JERRY\",\"BARTENDER\",\"JERRY\",\"NEWMAN\",\"ELAINE\",\"SALLY\",\"JERRY\",\"MORGANEWMAN\",\"PHONE\",\"ELAINE\",\"JERRY\",\"JERRY\",\"NEWMAN\",\"TIA\",\"LLOYD\",\"ELAINE\",\"CAPTAIN\",\"ZEKE\",\"WILHELM\",\"GARDNER\",\"GWEN\",\"JERRY\",\"FRANK\",\"CHARLIE\",\"ELAINE\",\"BOOKIE\",\"SANDY\",\"WORKER\",\"ESTELLE\",\"JUDY\",\"JEAN-PAUL:\",\"PHIL\",\"HANKE\",\"KID\",\"IZZYJR.\",\"ELAINE\",\"VIVIAN\",\"JERRY\",\"JERRY\",\"ELAINE\",\"NEWMAN\",\"JERRY\",\"VARGUS\",\"GENE\",\"ELAINE\",\"SOUPNAZI\",\"ABBY\",\"SIMON\",\"JERRY\",\"FRANK\",\"CYNTHIA\",\"WAITER\",\"ELAINE\",\"MONK'SMANAGER:\",\"STEINBRENNER\",\"WOMAN\",\"WAITRESS\",\"EDDIE\",\"JERRY\",\"ROBIN\",\"MORTY\",\"JERRY\",\"HELEN\",\"ELAINE\",\"MARTY\",\"WAITRESS\",\"JACK\",\"MORTY\",\"NEWMAN\",\"JERRY\",\"LOU\",\"SUSAN\",\"NANA\",\"SALESMAN\",\"MAR\",\"ELAINE\",\"SUPER\",\"BILL\",\"NAOMI\",\"FRANK\",\"TEACHER\",\"ESTELLE\",\"PAULA\",\"EMILY\",\"WOMAN\",\"JERRY\",\"BEN\",\"JACKIE\",\"ELAINE\",\"VALERIE\",\"JERRY\",\"ELAINE\",\"FAN\",\"SHEILA\",\"NEWMAN\",\"AGENCYREP\",\"MRS.O\",\"ELAINE\",\"TIM\",\"JERRY\",\"JERRY\",\"VALERIE\",\"JERRY\",\"ELAINE\",\"JERRY\",\"JERRY\",\"MICHAEL\",\"TOBY\",\"ELAINE\",\"OTHER CO-WORKERS IN HALLWAY\",\"SON\",\"FATHER\",\"DIRECTOR\",\"DOORMAN\",\"ELAINE\",\"JERRY\",\"FRANK\",\"SUSAN\",\"JERRY\",\"FRIEND\",\"MORTY\",\"JERRY\",\"FRANK\",\"RAYMOND\",\"ELAINE\",\"WOMAN\",\"SHEILA\",\"JERRY AND GEORGE\",\"STAGEHAND\",\"NEWMAN\",\"MONICA\",\"CLERK\",\"SOUPNAZI\",\"SALESMAN\",\"RICKY\",\"ESTELLE\",\"JERY\",\"MRS.SANGER\",\"MONA\",\"ALLISON\",\"MAESTRO\",\"USHER\",\"RITA\",\"MRS.ROSS\",\"MR.ROSS\",\"ELAINE\",\"J.PETERMAN\",\"JERRY\",\"MS.JORDAN\",\"MRSTAR\",\"SECRETARY\",\"NEWMAN\",\"ELAINE\",\"MR.LIPPMAN\",\"ELAINE\",\"JERRY\",\"SALLY\",\"NEWMAN\",\"JERRY\",\"BEN\",\"ELAINE\",\"MR.PETERMAN\",\"CAPTAIN\",\"EDDIE\",\"FRANK\",\"GLENN\",\"TIM\",\"MAESTRO\",\"DOLL\",\"SOUPNAZI\",\"DENIMVEST\",\"EVERYBODY\",\"CAROL\",\"WILLIE\",\"ESTELLE\",\"JERY\",\"VINCENT\",\"KLEIN\",\"MR.LIPPMAN\",\"PITT\",\"KATYA\",\"LINDSAY\",\"JERRY\",\"ANNOUNCER\",\"JERRY\",\"NEWMAN\",\"JERRY\",\"EARL\",\"PITT\",\"ELAINE\",\"ELAINE\",\"JERRY\",\"NEWMAN\",\"JERRY\",\"LABTECHNICIAN\",\"ELAINE\",\"JERRY\",\"FATHERJESSUP\",\"BETSY\",\"SIDRA\",\"ELAINE\",\"ELAINE\",\"MR.LIPPMAN\",\"JERRY\",\"HEALTH INSPECTOR\",\"SID\",\"JERRY\",\"LIPPMAN\",\"ELAINE\",\"MARYANNE\",\"MR.LIPPMAN\",\"MACKENZIE\",\"JERRY\",\"ADE\",\"ELAINE\",\"WILLIE\",\"FATHER\",\"DIRECTOR\",\"ELAINE\",\"PUDDY\",\"JERRY\",\"LEADER\",\"ELAINE\",\"STEVEN\",\"JERRY\",\"GLENN\",\"MIKE\",\"ELAINE\",\"ELAINE\",\"JERRY\",\"ELAINE\",\"MAESTRO\",\"JERRY\",\"NEWMAN\",\"ELAINE\",\"CELIA\",\"JERRY\",\"DETECTIVE 2\",\"DETECTIVE 1\",\"ELAINE\",\"ADAM\",\"SANDRA\",\"VET\",\"CAROL\",\"PHONEMAN\",\"JEAN-PAUL:\",\"OTHER CO-WORKERS IN HALLWAY\",\"NEWS\",\"ALL\",\"TOBY\",\"LLOYD\",\"AGENT\",\"VINCENT\",\"MILOS\",\"HANKE\",\"CHARLIE\",\"SIDRA\",\"REPORTER\",\"VARGUS\",\"JOYMAYO\",\"CAPTAIN\",\"MELISSA\",\"JOEDIVOLA\",\"MARYEDITH\",\"FATHERCURTIS\",\"ALAN\",\"MAESTRO\",\"DOLL\",\"MECHANIC\",\"MS.DEGRANMONT\",\"RECEPTIONIST\",\"HAARWOOD\",\"WINONA\",\"RICARDI\",\"FRANKIE\",\"JUDY\",\"DOCTER\",\"JOEY\",\"PAULA\",\"JEANINE\",\"MR. STEINBRENNER\",\"TICKETLADY\",\"WENDY\",\"ANNOUNCER\",\"JACK\",\"GLADYS\",\"GWEN\",\"KARL\",\"PAUL\",\"STAGEHAND\",\"MR.PITT\",\"FATHER\",\"ARONSON\",\"TIA\",\"TODD\",\"TESTIKOV\",\"DOCTOR\",\"JANE\",\"THEDRAKE\",\"MARY\",\"MAILMAN\",\"JAKE\",\"LUBECK\",\"CARRERAS\",\"FLORIST\",\"MR. PITT\",\"DARRYL\",\"CORINNE\",\"CELIA\",\"GAIL\",\"DRIVER\",\"COP\",\"SHELLBACH\",\"STEINBRENNER\",\"SILVIO\",\"EDDIE\",\"VIVIAN\",\"MAN1:\",\"DAVID\",\"SKYCAP\",\"MANDEL\",\"DWAYNE\",\"JERRY, GEORGE, & KRAMER\",\"VENDER\",\"SECRETARY\",\"FATHER HERNANDEZ\",\"RAY\",\"JANET\",\"GLENN\",\"ADE\",\"BECKY\",\"MRS.ROSS\",\"ROGER\",\"SIMON\",\"NEWMAN\",\"BOBBY\",\"VOICE\",\"SALLY\",\"RACHEL\",\"JOEL\",\"RESTON\",\"EMPLOYEE\",\"GEORGE AND JERRY\",\"SALESMAN\",\"LIPPMAN\",\"SYLVIA\",\"RADIO\",\"MR.ROSS\",\"DIANE\",\"SANDY\",\"LOUISE\",\"ELAIEN\",\"HOLLY\",\"EMILY\",\"JIMMY\",\"WALTER\",\"JERRY\",\"MRREICHMAN\",\"LABTECHNICIAN\",\"STAN\",\"WAITER\",\"SUPER\",\"SHEILA\",\"DARREN\",\"DEBBY\",\"LOU\",\"STEVE\",\"MOM\",\"ELANE\",\"CONTEST WINNER\",\"NIKKI\",\"PHARMACIST\",\"PUDDY\",\"TIM\",\"CLERK\",\"SOUPNAZI\",\"WHATLEY\",\"MARYANNE\",\"STRANGER\",\"EVERYBODY\",\"J.PETERMAN\",\"KID\",\"JERRY& ELAINE\",\"TEACHER\",\"ALROKER\",\"MORGAN\",\"DOORMAN\",\"JERY\",\"MOHEL\",\"ANNA\",\"HAIRDRESSER\",\"BECK\",\"MEL\",\"ROBIN\",\"KERI\",\"GIULIANI\",\"DEENA\",\"PING\",\"BEN\",\"FRANK\",\"AUDIENCE\",\"POP\",\"ROY\",\"BOOKIE\",\"DUSTIN\",\"BETH\",\"FIREMAN\",\"BOY\",\"JERRY AND GEORGE\",\"READERS\",\"WORKER\",\"EARL\",\"PLAYER\",\"CINDY\",\"CONTESTWINNER\",\"ELAINE AND JERRY\",\"VALERIE\",\"GUY\",\"MYRA\",\"DENIMVEST\",\"MICKEY\",\"MR.LIPPMAN\",\"WORKERS\",\"ARNIE\",\"IPSWITCH\",\"MIKE\",\"GIRL\",\"WAITRESS\",\"SPIKE\",\"JAMES\",\"FRED\",\"PITT\",\"PHIL\",\"MR.ELINOFF\",\"STEWARDESS\",\"WATKINS\",\"NEWMANEWMAN\",\"LISA\",\"PRIEST\",\"MORTY\",\"KATIE\",\"MICHAEL\",\"MACKENZIE\",\"JACKIE\",\"DR.BURKE\",\"ANOTHERMAN\",\"JUDGE\",\"HAL\",\"RICKY\",\"FEMALEWORKER\",\"MARLA\",\"MRS.ZANFINO\",\"RALPH\",\"DJONRADIO\",\"JERRY AND ELAINE\",\"DOGOWNER\",\"MRS.O\",\"AGENCYREP\",\"SALESWOMAN\",\"LARRY\",\"GENE\",\"WILLIE\",\"DR.RESNICK\",\"ESTELLE\",\"CASHIER\",\"MALEWORKER\",\"MRS.SANGER\",\"KAREN\",\"WILHELM\",\"DRIVER\",\"NEWMAN\",\"JERRY\",\"ESTELLE\",\"JERRY\",\"FRANK\",\"GWEN\",\"CHARLIE\",\"LOU\",\"MORTY\",\"JERRY\",\"JERRY\",\"JERRY\",\"JERRY\",\"GUY\",\"COP\",\"JERRY\",\"JERRY\",\"JERRY\",\"TODD\",\"JERRY\",\"POP\",\"JERRY\",\"CONTESTWINNER\",\"JACKIE\",\"ARNIE\",\"MICKEY\",\"JERRY\",\"JERRY\",\"AUDIENCE\",\"KID\",\"PUDDY\",\"DENIMVEST\",\"AGENCYREP\",\"MARCY\",\"MRS.O\",\"NEWMAN\",\"FATHER\",\"GWEN\",\"JERRY\",\"GUY\",\"SPONSOR\",\"NEWMAN\",\"JERRY\",\"MICKEY\",\"JERRY\",\"WAITER\",\"JOEL\",\"JODI\",\"JULIE\",\"JERRY\",\"JERRY\",\"PHONEMAN\",\"CINDY\",\"JERRY\",\"ELDRIDGE\",\"OFFSTAGE\",\"FLIGHT ATTENDANT\",\"JERRY\",\"ESTELLE\",\"JERRY\",\"FRANK\",\"ROBIN\",\"JERRY\",\"JOAN\",\"JERRY\",\"JERRY\",\"DARRYL\",\"MR. STEINBRENNER\",\"PUDDY\",\"MRS.ROSS\",\"RICKEY\",\"VOICE\",\"JERRY\",\"FRANK\",\"WORKER\",\"NIKKI\",\"JERRY\",\"JERRY\",\"MODEL2:\",\"MORTY\",\"JERRY\",\"FRANK\",\"DIANE\",\"LLOYD\",\"EMPLOYEE\",\"WOMANATBEACH\",\"NEWMAN\",\"PING\",\"JEANINE\",\"JERRY\",\"MRS.SANGER\",\"ESTELLE\",\"JERRY\",\"FRANK\",\"RONNIE\",\"ESTELLE\",\"NEWMAN\",\"JERRY\",\"NEWS\",\"FRANK\",\"JERRY\",\"POP\",\"LLOYD\",\"PRIEST\",\"PUDDY\",\"NEWMAN\",\"BONNIE\",\"PUDDY\",\"RADIOANNOUNCER\",\"MR.PLESS\",\"MRS.O\",\"PENSKY\",\"SALLY\",\"KERI\",\"EARL\",\"DOCTOR\",\"GUY\",\"HOMELESSMAN\",\"NEWS\",\"FRANK\",\"ELAIEN\",\"CELIA\",\"PASSERBY\",\"JERRY\",\"SALESMAN\",\"SUPER\",\"JUDGE\",\"MORTY\",\"SHEILA\",\"POSTALEMPLOYEE\",\"RALPH\",\"LIPPMAN\",\"MANDEL\",\"SOUPNAZI\",\"MS.DEGRANMONT\",\"AGENCYREP\",\"ESTELLE\",\"CASHIER\",\"MR.LIPPMAN\",\"RAMON\",\"SECRETARY\",\"PAUL\",\"JERRY\",\"SOUPNAZI\",\"JERRY\",\"JERRY\",\"MR.S\",\"JERRY\",\"JACKIE\",\"SALESWOMAN\",\"PUDDY\",\"JERRY\",\"JERRY\",\"SALESMAN\",\"ESTELLE\",\"FRANK\",\"WAITER\",\"JERRY\",\"MARCY\",\"DR.WEXLER\",\"TAMMY\",\"JULIE\",\"JOHNNY\",\"DAPHNE\",\"DIRECTOR\",\"SOPHIE\",\"JERRY\",\"JERRY\",\"JERRY\",\"FATHER\",\"JERRY\",\"ESTELLE\",\"RICKY\",\"LIPPMAN\",\"FRANK\",\"DENISE\",\"NURSE\",\"JERRY\",\"PAULA\",\"ESTELLE\",\"JERRY\",\"EARL\",\"TV\",\"WOMANEWMAN\",\"MRS.ZANFINO\",\"JERRY\",\"SALLY\",\"JERRY\",\"MAESTRO\",\"ELAINE AND JERRY\",\"JACK\",\"JERRY\",\"NANA\",\"SALESMAN\",\"SUPER\",\"ELLEN\",\"BILL\",\"LOU\",\"OLDMAN\",\"FRANK\",\"TEACHER\",\"DOORMAN\",\"ESTELLE\",\"PAULA\",\"EMILY\",\"JERRY\",\"JERRY\",\"GARY\",\"SUPER\",\"PUDDY\",\"GWEN\",\"JERRY\",\"JERRY\",\"STAN\",\"JACKIE\",\"LIPPMAN\",\"JERRY\",\"MRSTAR\",\"SECRETARY\",\"JERRY\",\"SECRETARY\",\"JERRY\",\"POSTAL WORKER DANNY\",\"JERRY\",\"WILHELM\",\"GARDNER\",\"JAMES\",\"JERRY\",\"HOLLY\",\"WILHELM\",\"STEINBRENNER\",\"JERRY\",\"JERRY\",\"AGENCYREP\",\"SID\",\"JERRY\",\"FEMALEWORKER\",\"BECKY\",\"WORKER\",\"MALEWORKER\",\"JERRY\",\"PUDDY\",\"CELIA\",\"FATHERJESSUP\",\"AUNTMAY\",\"SIDRA\",\"MALEWORKER\",\"JERRY\",\"FEMALEWORKER\",\"BECKY\",\"MR. STEINBRENNER\",\"SHEILA\",\"ANNOUNCER\",\"MRS.ENRIGHT\",\"JERRY\",\"WAITRESS\",\"JERRY\",\"PING\",\"JERRY\",\"PAULA\",\"JERRY\",\"JEFF\",\"JERRY\",\"MARY\",\"LIPPMAN\",\"JERRY\",\"ALAN\",\"JANE\",\"LISA\",\"JERRY\",\"BEN\",\"MICHAEL\",\"ALAN\",\"GAIL\",\"CINDY\",\"JERRY\",\"JERRY\",\"ABBY\",\"JERRY\",\"SECRETARY\",\"MELISSA\",\"JERRY\",\"KIM\",\"JERRY\",\"MICHAEL\",\"TOBY\",\"JERRY\",\"ESTELLE\",\"JERRY\",\"FRANK\",\"MELISSA\",\"JERRY\",\"RACHEL\",\"MALEWORKER\",\"JERRY\",\"MICHAEL\",\"STAN\",\"FEMALEWORKER\",\"MOHEL\",\"JERRY\",\"JERRY\",\"MICHAEL\",\"RONNIE\",\"JERRY\",\"JERRY\",\"STAN\",\"MOHEL\",\"JERRY\",\"DOCTOR\",\"JERRY\",\"FRANK\",\"POP\",\"HAARWOOD\",\"CASHIER\",\"ESTELLE\",\"FRED\",\"CELIA\",\"JERRY\",\"JERRY\",\"CLERK\",\"JERRY\",\"JERRY\",\"TIMMY\",\"JERRY\",\"JAKE\",\"LIPPMAN\",\"JERRY\",\"KATIE\",\"SYLVIA\",\"JERRY\",\"JERRY\",\"RICKY\",\"JERRY\",\"MRS.ROSS\",\"KERI\",\"PUDDY\",\"JERRY\",\"DOCTOR\",\"JERRY\",\"TIA\",\"DISPATCHER\",\"JERRY\",\"CELIA\",\"JERRY\",\"JERRY\",\"MRREICHMAN\",\"JUDY\",\"ESTELLE\",\"JERRY\",\"TIA\",\"JERRY\",\"KLEIN\",\"PUDDY\",\"JERRY\",\"DOLL\",\"SALLY\",\"JERRY\",\"FRANK\",\"STAGEHAND\",\"ELAINE AND JERRY\",\"SALLY\",\"JERRY\",\"FRANK\",\"LIPPMAN\",\"JERRY\",\"JERRY\",\"WENDY\",\"JERRY\",\"DOORMAN\",\"JERRY\",\"MR. PITT\",\"DJONRADIO\",\"RACHEL\",\"MICHAEL\",\"JERRY\",\"JERRY\",\"JERRY\",\"JERRY\",\"MARY\",\"JERRY\",\"JERRY\",\"NANA\",\"TEACHER\",\"JERRY\",\"JERRY\",\"WILHELM\",\"STEINBRENNER\",\"JERRY\",\"JERRY\",\"JOEL\",\"JERRY\",\"RONNIE\",\"JERRY\",\"FRANK\",\"CASHIER\",\"FATHER\",\"JERRY\",\"ESTELLE\",\"JERRY\",\"FRANK\",\"SANDY\",\"TODD\",\"PHIL\",\"JERRY\",\"JERY\",\"CELIA\",\"DETECTIVE 2\",\"ESTELLE\",\"JERRY\",\"FRANK\",\"TAMMY\",\"JERRY\",\"SALLY\",\"JERRY\",\"SALLY\",\"JERRY\",\"JERRY\",\"BECK\",\"JERRY\",\"JERRY\",\"JERRY\",\"LIPPMAN\",\"NURSE\",\"JERRY\",\"MIRANDA\",\"JERRY\",\"JERRY\",\"JERRY\",\"FRANK\",\"ESTELLE\",\"LIPPMAN\",\"MRS.ROSS\",\"STEVE\",\"JERRY\",\"WINONA\",\"JERRY\",\"JERRY\",\"WOMANEWMAN\",\"HOLLY\",\"BOBBY\",\"LIPPMAN\",\"GERMANWOMAN\",\"GUARD\",\"DENISE\",\"ESTELLE\",\"JERRY\",\"HOLEDIGGER\",\"ESTELLE\",\"JERRY\",\"RHISA\",\"JERRY\",\"DJONRADIO\",\"SECRETARY\",\"JERRY\",\"RICKEY\",\"DARRYL\",\"JERRY\",\"JERRY\",\"JERRY\",\"LISA\",\"JERRY\",\"WAITER\",\"JERRY\",\"SLIPPERYPETE\",\"JERRY\",\"STAN\",\"STEINBRENNER\",\"JERRY\",\"FRANK\",\"LADY\",\"GARY\",\"JERRY\",\"JERRY\",\"FRANK\",\"SECONRAD\",\"BRADY\",\"ESTELLE\",\"BOMBCOP\",\"SECRETARY\",\"WILHELM\",\"JERRY\",\"GENE\",\"JERRY\",\"ESTELLE\",\"JERRY\",\"FRANK\",\"CORINNE\",\"ESTELLE\",\"JERRY\",\"JERRY\",\"FRANK\",\"MARYANNE\",\"ESTELLE\",\"MR.LIPPMAN\",\"DRIVER\",\"JERRY\",\"DARRYL\",\"BLINDMAN\",\"DOGOWNER\",\"JERRY\",\"JERRY\",\"JERRY\",\"JERRY\",\"JERRY\",\"SECRETARY\",\"JERRY\",\"JERRY\",\"AUNTMAY\",\"JERRY\",\"POP\",\"SLIPPERYPETE\",\"JERRY\",\"NIKKI\",\"JERRY\",\"TIA\",\"JERRY\",\"JERRY\",\"WILLIE\",\"JOHNTYLER\",\"JERRY\",\"MARYANNE\",\"FEMALEWORKER\",\"MALEWORKER\",\"ESTELLE\",\"JERRY\",\"JERRY\",\"JERRY\",\"MS.BAINES\",\"JERRY\",\"JERRY\",\"JERRY\",\"ELAIEN\",\"JERRY\",\"JERRY\",\"MATTHEW\",\"JERRY\",\"JERRY\",\"FRANK\",\"ESTELLE\",\"JANET\",\"STEWARDESS\",\"PUDDY\",\"JERRY\",\"MICHAEL\",\"JERRY\",\"JERRY\",\"JERRY\",\"JERRY\",\"DIANE\",\"JERRY\",\"FRANK\",\"JERRY\",\"CELIA\",\"JERRY\",\"WOMANATBEACH\",\"WAITER\",\"JERRY\",\"JERRY\",\"SECRETARY\",\"JERRY\",\"JERRY\",\"FRANK\",\"SANDY\",\"BECK\",\"ELAIEN\",\"ELANE\",\"MOLLY\",\"KATIE\",\"RONNIE\",\"JERRY AND ELAINE\",\"DOGOWNER\",\"LARRY\",\"RHISA\",\"PHIL\",\"GUY\",\"MRREICHMAN\",\"STAN\",\"RUTHIE\",\"SUPER\",\"MATTHEW\",\"SHEILA\",\"STEVE\",\"GAURD\",\"PHONE\",\"COMPUTERVOICE\",\"PUDDY\",\"CLERK\",\"SOUPNAZI\",\"WHATLEY\",\"AGENCYREP\",\"ANOTHERMAN\",\"HOLLY\",\"TEACHER\",\"BONNIE\",\"DOORMAN\",\"JERY\",\"MOHEL\",\"MR.LIPPMAN\",\"DAPHNE\",\"SILVIO\",\"MANDEL\",\"SECRETARY\",\"KERI\",\"NUN\",\"ELDRIDGE\",\"JOAN\",\"PING\",\"BEN\",\"FRANK\",\"POP\",\"TIA\",\"JERRY AND GEORGE\",\"GUYONPHONE\",\"DARRYL\",\"CINDY\",\"OLDMAN\",\"SID\",\"ESTELLE\",\"WAITRESS\",\"NANA\",\"JAMES\",\"BOBBY\",\"FRED\",\"MALEWORKER\",\"STEWARDESS\",\"WAITER\",\"MICHAEL\",\"MACKENZIE\",\"STEFANIE\",\"CELIA\",\"GUARD\",\"THEDRAKE\",\"FEMALEWORKER\",\"MELANIE\",\"KATYA\",\"NIKKI\",\"PLAYER\",\"LETTERMAN\",\"WOMANEWMAN\",\"GENE\",\"WILLIE\",\"MIRANDA\",\"LISA\",\"BRADY\",\"JANET\",\"WILHELM\",\"SOPHIE\",\"ESTELLE\",\"FRANK\",\"MOHEL\",\"MACKENZIE\",\"HOLLY\",\"SOUPNAZI\",\"PHIL\",\"FRANK\",\"MARYANNE\",\"CLERK\",\"GUARD\",\"BEN\",\"FRANK\",\"FRANK\",\"KERI\",\"ESTELLE\",\"ESTELLE\",\"JERY\",\"MR.LIPPMAN\",\"MINKLER\",\"JAMES\",\"WILHELM\",\"BOBBY\",\"BEN\",\"KERI\",\"ESTELLE\",\"FRANK\",\"STEWARDESS\",\"PHIL\",\"EMPLOYEE\",\"ESTELLE\",\"NEWMANEWMAN\",\"WAITRESS\",\"STEFANIE\",\"FEMALEWORKER\",\"WILLIE\",\"GUARD\"],\"line_width\":{\"__ndarray__\":\"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\",\"dtype\":\"float64\",\"shape\":[2150]},\"start\":[\"WILLIESR\",\"WILLIESR\",\"WILLIESR\",\"WILLIESR\",\"ANSWERING MACHINE\",\"ANSWERING MACHINE\",\"ANSWERING MACHINE\",\"OWNER\",\"OWNER\",\"OWNER\",\"OWNER\",\"DONNA\",\"DONNA\",\"DONNA\",\"DONNA\",\"DONNA\",\"DONNA\",\"CUSTOMER\",\"CUSTOMER\",\"CUSTOMER\",\"CUSTOMER\",\"CUSTOMER\",\"AENT\",\"MAN ON THE STREET\",\"MAN ON THE STREET\",\"MAN ON THE STREET\",\"MAN ON THE STREET\",\"FARKUS\",\"FARKUS\",\"FARKUS\",\"FARKUS\",\"FARKUS\",\"FARKUS\",\"FARKUS\",\"FARKUS\",\"ENZO\",\"ENZO\",\"ENZO\",\"ENZO\",\"ENZO\",\"COWORKER\",\"MRSREICHMAN\",\"MRSREICHMAN\",\"MRSREICHMAN\",\"MRSREICHMAN\",\"MRSREICHMAN\",\"MRSREICHMAN\",\"HOMELESSMAN2:\",\"BARBARA\",\"BARBARA\",\"BARBARA\",\"BARBARA\",\"JOYCE\",\"WYCK\",\"WYCK\",\"WYCK\",\"WYCK\",\"WYCK\",\"WYCK\",\"WYCK\",\"WYCK\",\"DONALD\",\"DONALD\",\"DONALD\",\"DONALD\",\"DONALD\",\"DONALD\",\"DONALD\",\"SUPERVISOR\",\"SUPERVISOR\",\"SUPERVISOR\",\"KRAMER\",\"KRAMER\",\"KRAMER\",\"KRAMER\",\"KRAMER\",\"KRAMER\",\"KRAMER\",\"KRAMER\",\"KRAMER\",\"KRAMER\",\"KRAMER\",\"KRAMER\",\"KRAMER\",\"KRAMER\",\"KRAMER\",\"KRAMER\",\"KRAMER\",\"KRAMER\",\"KRAMER\",\"KRAMER\",\"KRAMER\",\"KRAMER\",\"KRAMER\",\"KRAMER\",\"KRAMER\",\"KRAMER\",\"KRAMER\",\"KRAMER\",\"KRAMER\",\"KRAMER\",\"KRAMER\",\"KRAMER\",\"KRAMER\",\"KRAMER\",\"KRAMER\",\"KRAMER\",\"KRAMER\",\"KRAMER\",\"KRAMER\",\"KRAMER\",\"KRAMER\",\"KRAMER\",\"KRAMER\",\"KRAMER\",\"KRAMER\",\"KRAMER\",\"KRAMER\",\"KRAMER\",\"KRAMER\",\"KRAMER\",\"KRAMER\",\"KRAMER\",\"KRAMER\",\"KRAMER\",\"KRAMER\",\"KRAMER\",\"KRAMER\",\"KRAMER\",\"KRAMER\",\"KRAMER\",\"KRAMER\",\"KRAMER\",\"KRAMER\",\"KRAMER\",\"KRAMER\",\"KRAMER\",\"KRAMER\",\"KRAMER\",\"KRAMER\",\"KRAMER\",\"KRAMER\",\"KRAMER\",\"KRAMER\",\"KRAMER\",\"KRAMER\",\"KRAMER\",\"KRAMER\",\"KRAMER\",\"KRAMER\",\"KRAMER\",\"KRAMER\",\"KRAMER\",\"KRAMER\",\"KRAMER\",\"KRAMER\",\"KRAMER\",\"KRAMER\",\"KRAMER\",\"KRAMER\",\"KRAMER\",\"KRAMER\",\"KRAMER\",\"KRAMER\",\"KRAMER\",\"KRAMER\",\"KRAMER\",\"KRAMER\",\"KRAMER\",\"KRAMER\",\"KRAMER\",\"KRAMER\",\"KRAMER\",\"KRAMER\",\"KRAMER\",\"KRAMER\",\"KRAMER\",\"KRAMER\",\"KRAMER\",\"KRAMER\",\"KRAMER\",\"KRAMER\",\"KRAMER\",\"KRAMER\",\"KRAMER\",\"KRAMER\",\"KRAMER\",\"KRAMER\",\"KRAMER\",\"KRAMER\",\"KRAMER\",\"KRAMER\",\"KRAMER\",\"KRAMER\",\"KRAMER\",\"KRAMER\",\"KRAMER\",\"KRAMER\",\"KRAMER\",\"KRAMER\",\"KRAMER\",\"KRAMER\",\"KRAMER\",\"KRAMER\",\"KRAMER\",\"KRAMER\",\"KRAMER\",\"KRAMER\",\"KRAMER\",\"KRAMER\",\"KRAMER\",\"KRAMER\",\"KRAMER\",\"KRAMER\",\"KRAMER\",\"KRAMER\",\"KRAMER\",\"KRAMER\",\"KRAMER\",\"KRAMER\",\"KRAMER\",\"KRAMER\",\"KRAMER\",\"KRAMER\",\"KRAMER\",\"KRAMER\",\"KRAMER\",\"KRAMER\",\"KRAMER\",\"KRAMER\",\"KRAMER\",\"KRAMER\",\"KRAMER\",\"KRAMER\",\"KRAMER\",\"KRAMER\",\"KRAMER\",\"KRAMER\",\"KRAMER\",\"KRAMER\",\"KRAMER\",\"KRAMER\",\"KRAMER\",\"KRAMER\",\"KRAMER\",\"KRAMER\",\"KRAMER\",\"KRAMER\",\"KRAMER\",\"KRAMER\",\"KRAMER\",\"KRAMER\",\"KRAMER\",\"KRAMER\",\"KRAMER\",\"KRAMER\",\"KRAMER\",\"KRAMER\",\"KRAMER\",\"KRAMER\",\"KRAMER\",\"KRAMER\",\"KRAMER\",\"KRAMER\",\"KRAMER\",\"KRAMER\",\"KRAMER\",\"KRAMER\",\"KRAMER\",\"KRAMER\",\"KRAMER\",\"KRAMER\",\"KRAMER\",\"KRAMER\",\"KRAMER\",\"KRAMER\",\"KRAMER\",\"KRAMER\",\"KRAMER\",\"KRAMER\",\"KRAMER\",\"KRAMER\",\"KRAMER\",\"KRAMER\",\"KRAMER\",\"KRAMER\",\"KRAMER\",\"KRAMER\",\"KRAMER\",\"KRAMER\",\"KRAMER\",\"KRAMER\",\"KRAMER\",\"KRAMER\",\"KRAMER\",\"KRAMER\",\"KRAMER\",\"KRAMER\",\"KRAMER\",\"KRAMER\",\"KRAMER\",\"KRAMER\",\"KRAMER\",\"KRAMER\",\"KRAMER\",\"KRAMER\",\"KRAMER\",\"KRAMER\",\"KRAMER\",\"KRAMER\",\"KRAMER\",\"KRAMER\",\"KRAMER\",\"KRAMER\",\"KRAMER\",\"KRAMER\",\"KRAMER\",\"KRAMER\",\"KRAMER\",\"KRAMER\",\"KRAMER\",\"KRAMER\",\"KRAMER\",\"KRAMER\",\"KRAMER\",\"KRAMER\",\"KRAMER\",\"KRAMER\",\"KRAMER\",\"KRAMER\",\"KRAMER\",\"KRAMER\",\"KRAMER\",\"KRAMER\",\"KRAMER\",\"KRAMER\",\"KRAMER\",\"KRAMER\",\"KRAMER\",\"KRAMER\",\"KRAMER\",\"KRAMER\",\"KRAMER\",\"KRAMER\",\"KRAMER\",\"KRAMER\",\"KRAMER\",\"KRAMER\",\"KRAMER\",\"KRAMER\",\"KRAMER\",\"KRAMER\",\"KRAMER\",\"KRAMER\",\"KRAMER\",\"KRAMER\",\"KRAMER\",\"KRAMER\",\"KRAMER\",\"KRAMER\",\"KRAMER\",\"KRAMER\",\"KRAMER\",\"KRAMER\",\"KRAMER\",\"KRAMER\",\"KRAMER\",\"KRAMER\",\"KRAMER\",\"KRAMER\",\"KRAMER\",\"KRAMER\",\"KRAMER\",\"KRAMER\",\"KRAMER\",\"KRAMER\",\"KRAMER\",\"KRAMER\",\"KRAMER\",\"TAWNI\",\"TAWNI\",\"MRROSS\",\"MRROSS\",\"MRROSS\",\"GEORGE(O.C.):\",\"GEORGE(O.C.):\",\"DAVOLA\",\"DAVOLA\",\"DAVOLA\",\"ALEC\",\"ALEC\",\"DOLORES\",\"DOLORES\",\"DOLORES\",\"DOLORES\",\"DOLORES\",\"PEGGY\",\"PEGGY\",\"PEGGY\",\"PEGGY\",\"PEGGY\",\"CLARE\",\"CLARE\",\"LESLIE\",\"LESLIE\",\"LESLIE\",\"LESLIE\",\"BUDDY\",\"BUDDY\",\"BUDDY\",\"BUDDY\",\"BUDDY\",\"BUDDY\",\"REILLY\",\"REILLY\",\"REILLY\",\"REILLY\",\"REILLY\",\"REILLY\",\"REILLY\",\"SISTERROBERTA\",\"SISTERROBERTA\",\"JOE\",\"UKRAINIAN\",\"KRUGER\",\"KRUGER\",\"KRUGER\",\"KRUGER\",\"KRUGER\",\"KRUGER\",\"KRUGER\",\"KRUGER\",\"KRUGER\",\"KRUGER\",\"KRUGER\",\"KRUGER\",\"KRUGER\",\"KRUGER\",\"KRUGER\",\"TARA\",\"MAN 2\",\"MAN 2\",\"SHARON\",\"SHARON\",\"SHARON\",\"SHARON\",\"UNCLELEO\",\"UNCLELEO\",\"UNCLELEO\",\"UNCLELEO\",\"UNCLELEO\",\"UNCLELEO\",\"UNCLELEO\",\"UNCLELEO\",\"UNCLELEO\",\"UNCLELEO\",\"UNCLELEO\",\"UNCLELEO\",\"UNCLELEO\",\"EALINE\",\"EALINE\",\"EALINE\",\"EALINE\",\"EALINE\",\"EALINE\",\"MAN3\",\"MAN3\",\"RENE\",\"RENE\",\"NEMWAN\",\"BOUNCER\",\"ZACH\",\"ZACH\",\"HILDE\",\"HILDE\",\"HILDE\",\"SETH\",\"SETH\",\"SETH\",\"SETH\",\"SETH\",\"SETH\",\"KELLY\",\"KELLY\",\"KELLY\",\"KELLY\",\"KELLY\",\"KELLY\",\"TICKETMAN\",\"TICKETMAN\",\"TICKETMAN\",\"BABU\",\"BABU\",\"BABU\",\"BABU\",\"BOB\",\"BOB\",\"BOB\",\"BOB\",\"BOB\",\"BOB\",\"BOB\",\"STACEY\",\"STACEY\",\"STACEY\",\"RICK\",\"RICK\",\"RICK\",\"RICK\",\"RICK\",\"RICK\",\"POPPIE\",\"POPPIE\",\"POPPIE\",\"POPPIE\",\"POPPIE\",\"MAN\",\"MAN\",\"MAN\",\"MAN\",\"MAN\",\"MAN\",\"MAN\",\"MAN\",\"MAN\",\"MAN\",\"MAN\",\"MAN\",\"MAN\",\"MAN\",\"MAN\",\"MAN\",\"MAN\",\"MAN\",\"MAN\",\"MAN\",\"MAN\",\"MAN\",\"MAN\",\"MAN\",\"MAN\",\"MAN\",\"MAN\",\"MAN\",\"MAN\",\"LENA\",\"LENA\",\"LENA\",\"LENA\",\"RUSSELL\",\"RUSSELL\",\"RUSSELL\",\"RUSSELL\",\"RUSSELL\",\"RUSSELL\",\"RUSSELL\",\"TONY\",\"TONY\",\"TONY\",\"TONY\",\"CO-WORKER:\",\"CO-WORKER:\",\"SHLOMO\",\"SHLOMO\",\"SHLOMO\",\"SHLOMO\",\"WILLIAMS\",\"WILLIAMS\",\"MR.ABBOTT\",\"MR.ABBOTT\",\"MR.ABBOTT\",\"GEORGE\",\"GEORGE\",\"GEORGE\",\"GEORGE\",\"GEORGE\",\"GEORGE\",\"GEORGE\",\"GEORGE\",\"GEORGE\",\"GEORGE\",\"GEORGE\",\"GEORGE\",\"GEORGE\",\"GEORGE\",\"GEORGE\",\"GEORGE\",\"GEORGE\",\"GEORGE\",\"GEORGE\",\"GEORGE\",\"GEORGE\",\"GEORGE\",\"GEORGE\",\"GEORGE\",\"GEORGE\",\"GEORGE\",\"GEORGE\",\"GEORGE\",\"GEORGE\",\"GEORGE\",\"GEORGE\",\"GEORGE\",\"GEORGE\",\"GEORGE\",\"GEORGE\",\"GEORGE\",\"GEORGE\",\"GEORGE\",\"GEORGE\",\"GEORGE\",\"GEORGE\",\"GEORGE\",\"GEORGE\",\"GEORGE\",\"GEORGE\",\"GEORGE\",\"GEORGE\",\"GEORGE\",\"GEORGE\",\"GEORGE\",\"GEORGE\",\"GEORGE\",\"GEORGE\",\"GEORGE\",\"GEORGE\",\"GEORGE\",\"GEORGE\",\"GEORGE\",\"GEORGE\",\"GEORGE\",\"GEORGE\",\"GEORGE\",\"GEORGE\",\"GEORGE\",\"GEORGE\",\"GEORGE\",\"GEORGE\",\"GEORGE\",\"GEORGE\",\"GEORGE\",\"GEORGE\",\"GEORGE\",\"GEORGE\",\"GEORGE\",\"GEORGE\",\"GEORGE\",\"GEORGE\",\"GEORGE\",\"GEORGE\",\"GEORGE\",\"GEORGE\",\"GEORGE\",\"GEORGE\",\"GEORGE\",\"GEORGE\",\"GEORGE\",\"GEORGE\",\"GEORGE\",\"GEORGE\",\"GEORGE\",\"GEORGE\",\"GEORGE\",\"GEORGE\",\"GEORGE\",\"GEORGE\",\"GEORGE\",\"GEORGE\",\"GEORGE\",\"GEORGE\",\"GEORGE\",\"GEORGE\",\"GEORGE\",\"GEORGE\",\"GEORGE\",\"GEORGE\",\"GEORGE\",\"GEORGE\",\"GEORGE\",\"GEORGE\",\"GEORGE\",\"GEORGE\",\"GEORGE\",\"GEORGE\",\"GEORGE\",\"GEORGE\",\"GEORGE\",\"GEORGE\",\"GEORGE\",\"GEORGE\",\"GEORGE\",\"GEORGE\",\"GEORGE\",\"GEORGE\",\"GEORGE\",\"GEORGE\",\"GEORGE\",\"GEORGE\",\"GEORGE\",\"GEORGE\",\"GEORGE\",\"GEORGE\",\"GEORGE\",\"GEORGE\",\"GEORGE\",\"GEORGE\",\"GEORGE\",\"GEORGE\",\"GEORGE\",\"GEORGE\",\"GEORGE\",\"GEORGE\",\"GEORGE\",\"GEORGE\",\"GEORGE\",\"GEORGE\",\"GEORGE\",\"GEORGE\",\"GEORGE\",\"GEORGE\",\"GEORGE\",\"GEORGE\",\"GEORGE\",\"GEORGE\",\"GEORGE\",\"GEORGE\",\"GEORGE\",\"GEORGE\",\"GEORGE\",\"GEORGE\",\"GEORGE\",\"GEORGE\",\"GEORGE\",\"GEORGE\",\"GEORGE\",\"GEORGE\",\"GEORGE\",\"GEORGE\",\"GEORGE\",\"GEORGE\",\"GEORGE\",\"GEORGE\",\"GEORGE\",\"GEORGE\",\"GEORGE\",\"GEORGE\",\"GEORGE\",\"GEORGE\",\"GEORGE\",\"GEORGE\",\"GEORGE\",\"GEORGE\",\"GEORGE\",\"GEORGE\",\"GEORGE\",\"GEORGE\",\"GEORGE\",\"GEORGE\",\"GEORGE\",\"GEORGE\",\"GEORGE\",\"GEORGE\",\"GEORGE\",\"GEORGE\",\"GEORGE\",\"GEORGE\",\"GEORGE\",\"GEORGE\",\"GEORGE\",\"GEORGE\",\"GEORGE\",\"GEORGE\",\"GEORGE\",\"GEORGE\",\"GEORGE\",\"GEORGE\",\"GEORGE\",\"GEORGE\",\"GEORGE\",\"GEORGE\",\"GEORGE\",\"GEORGE\",\"GEORGE\",\"GEORGE\",\"GEORGE\",\"GEORGE\",\"GEORGE\",\"GEORGE\",\"GEORGE\",\"GEORGE\",\"GEORGE\",\"GEORGE\",\"GEORGE\",\"GEORGE\",\"GEORGE\",\"GEORGE\",\"GEORGE\",\"GEORGE\",\"GEORGE\",\"GEORGE\",\"GEORGE\",\"GEORGE\",\"GEORGE\",\"GEORGE\",\"GEORGE\",\"GEORGE\",\"GEORGE\",\"GEORGE\",\"GEORGE\",\"GEORGE\",\"GEORGE\",\"GEORGE\",\"GEORGE\",\"GEORGE\",\"GEORGE\",\"GEORGE\",\"GEORGE\",\"GEORGE\",\"GEORGE\",\"GEORGE\",\"GEORGE\",\"GEORGE\",\"GEORGE\",\"GEORGE\",\"GEORGE\",\"GEORGE\",\"GEORGE\",\"GEORGE\",\"GEORGE\",\"GEORGE\",\"GEORGE\",\"GEORGE\",\"GEORGE\",\"GEORGE\",\"GEORGE\",\"GEORGE\",\"GEORGE\",\"GEORGE\",\"GEORGE\",\"GEORGE\",\"GEORGE\",\"GEORGE\",\"GEORGE\",\"GEORGE\",\"GEORGE\",\"GEORGE\",\"GEORGE\",\"GEORGE\",\"GEORGE\",\"GEORGE\",\"GEORGE\",\"GEORGE\",\"GEORGE\",\"GEORGE\",\"GEORGE\",\"GEORGE\",\"GEORGE\",\"GEORGE\",\"GEORGE\",\"GEORGE\",\"GEORGE\",\"GEORGE\",\"GEORGE\",\"GEORGE\",\"GEORGE\",\"GEORGE\",\"GEORGE\",\"GEORGE\",\"GEORGE\",\"GEORGE\",\"GEORGE\",\"GEORGE\",\"GEORGE\",\"GEORGE\",\"GEORGE\",\"GEORGE\",\"GEORGE\",\"GEORGE\",\"GEORGE\",\"GEORGE\",\"GEORGE\",\"GEORGE\",\"THEGIRLS\",\"THEGIRLS\",\"THEGIRLS\",\"FELDMAN\",\"FELDMAN\",\"FELDMAN\",\"FELDMAN\",\"OLIVE\",\"OLIVE\",\"ALLTHREE\",\"ALLTHREE\",\"ANNOUNCERONTV\",\"MANINCAR\",\"MANINCAR\",\"PATTY\",\"PATTY\",\"PATTY\",\"DELIVERYGUY\",\"DELIVERYGUY\",\"VOICE ON THE PHONE\",\"VOICE ON THE PHONE\",\"VOICE ON THE PHONE\",\"VOICE ON THE PHONE\",\"ALISON\",\"ALISON\",\"ALISON\",\"PHOTOGRAPHER\",\"CONRAD\",\"CONRAD\",\"TANNOY\",\"TANNOY\",\"TANNOY\",\"TANNOY\",\"DENTIST\",\"DENTIST\",\"DENTIST\",\"GINO\",\"GINO\",\"GINO\",\"GINO\",\"LEO\",\"LEO\",\"LEO\",\"LEO\",\"LEO\",\"LEO\",\"LEO\",\"LEO\",\"LEO\",\"LEO\",\"LEO\",\"GUAD\",\"GUAD\",\"LAURA\",\"LAURA\",\"GIGGIO\",\"JERRY&GEORGE:\",\"JERRY&GEORGE:\",\"JERRY&GEORGE:\",\"POLICE\",\"POLICE\",\"POLICE\",\"SARA\",\"SARA\",\"SARA\",\"SARA\",\"SARA\",\"SARA\",\"SARA\",\"MAURA\",\"MAURA\",\"MAURA\",\"COUNTERPERSON\",\"COUNTERPERSON\",\"BOYSENBERRY\",\"MARIO\",\"MARIO\",\"PATIENT\",\"PATIENT\",\"DELIVERYMAN\",\"DELIVERYMAN\",\"DELIVERYMAN\",\"ELIANE\",\"ELIANE\",\"CABBIE\",\"CABBIE\",\"CABBIE\",\"CABBIE\",\"PARAMEDIC\",\"PETERMAN\",\"PETERMAN\",\"PETERMAN\",\"PETERMAN\",\"PETERMAN\",\"PETERMAN\",\"PETERMAN\",\"PETERMAN\",\"PETERMAN\",\"PETERMAN\",\"PETERMAN\",\"PETERMAN\",\"PETERMAN\",\"PETERMAN\",\"PETERMAN\",\"PETERMAN\",\"MARCELINO\",\"GREG\",\"GREG\",\"FEMALECUSTOMER\",\"FEMALECUSTOMER\",\"ALEX\",\"ALEX\",\"FURNITUREGUY\",\"FURNITUREGUY\",\"FURNITUREGUY\",\"BARRY\",\"BARRY\",\"BARRY\",\"BARRY\",\"TVANNOUNCER\",\"TVANNOUNCER\",\"CARL\",\"CARL\",\"CARL\",\"CARL\",\"ATTENDANT\",\"ATTENDANT\",\"ATTENDANT\",\"ATTENDANT\",\"ATTENDANT\",\"ATTENDANT\",\"CLAYTON\",\"CLAYTON\",\"CLAYTON\",\"MANAGER\",\"MANAGER\",\"MANAGER\",\"MANAGER\",\"MANAGER\",\"MANAGER\",\"MANAGER\",\"MANAGER\",\"MANAGER\",\"MANAGER\",\"MANAGER\",\"MANAGER\",\"KID2:\",\"KID2:\",\"IZZY\",\"IZZY\",\"IZZY\",\"IZZY\",\"LISI\",\"HEATHER\",\"KEVIN\",\"KEVIN\",\"KEVIN\",\"KEVIN\",\"KEVIN\",\"BANIA\",\"BANIA\",\"BANIA\",\"BANIA\",\"BANIA\",\"BANIA\",\"BANIA\",\"BANIA\",\"BANIA\",\"BANIA\",\"BANIA\",\"BANIA\",\"BANIA\",\"MAID\",\"ERIC\",\"MERYL\",\"MERYL\",\"MERYL\",\"MERYL\",\"MERYL\",\"MERYL\",\"HELEN\",\"HELEN\",\"HELEN\",\"HELEN\",\"HELEN\",\"HELEN\",\"HELEN\",\"HELEN\",\"HELEN\",\"HELEN\",\"HELEN\",\"HELEN\",\"HELEN\",\"HELEN\",\"HELEN\",\"HELEN\",\"HELEN\",\"HELEN\",\"SUEELLEN\",\"SUEELLEN\",\"SUEELLEN\",\"SUEELLEN\",\"SUEELLEN\",\"MRSHAMILTON\",\"MRSHAMILTON\",\"MRSHAMILTON\",\"MRSHAMILTON\",\"RON\",\"RON\",\"RON\",\"RON\",\"RON\",\"RON\",\"RON\",\"TAPEPLAYER\",\"FAN\",\"FAN\",\"FAN\",\"JAYLENO\",\"JOANNE\",\"JOANNE\",\"JOANNE\",\"JOANNE\",\"JOANNE\",\"STAGE HAND\",\"STAGE HAND\",\"STAGE HAND\",\"MRS.PAYTON\",\"MRS.PAYTON\",\"MRS.PAYTON\",\"MRS.COSTANZA\",\"MRS.COSTANZA\",\"BRYANT\",\"SUSAN\",\"SUSAN\",\"SUSAN\",\"SUSAN\",\"SUSAN\",\"SUSAN\",\"SUSAN\",\"SUSAN\",\"SUSAN\",\"SUSAN\",\"SUSAN\",\"SUSAN\",\"SUSAN\",\"SUSAN\",\"SUSAN\",\"SUSAN\",\"SUSAN\",\"SUSAN\",\"SUSAN\",\"SUSAN\",\"SUSAN\",\"SUSAN\",\"SUSAN\",\"SUSAN\",\"SUSAN\",\"SUSAN\",\"DUGAN\",\"DUGAN\",\"IZZYJR.\",\"MRBURNS\",\"MRBURNS\",\"MRBURNS\",\"THOMASSOULO\",\"THOMASSOULO\",\"THOMASSOULO\",\"JERRY&JEANNIE:\",\"JERRY&JEANNIE:\",\"WOMAN\",\"WOMAN\",\"WOMAN\",\"WOMAN\",\"WOMAN\",\"WOMAN\",\"WOMAN\",\"WOMAN\",\"WOMAN\",\"WOMAN\",\"WOMAN\",\"WOMAN\",\"WOMAN\",\"WOMAN\",\"WOMAN\",\"WOMAN\",\"WOMAN\",\"WOMAN\",\"WOMAN\",\"WOMAN\",\"WOMAN\",\"WOMAN\",\"WOMAN\",\"WOMAN\",\"MISHA\",\"MISHA\",\"MISHA\",\"MISHA\",\"UNCLE LEO\",\"INTERCOM\",\"INTERCOM\",\"INTERCOM\",\"INTERCOM\",\"INTERCOM\",\"USHER\",\"USHER\",\"CHERYL\",\"CHERYL\",\"CHERYL\",\"CHERYL\",\"DR.ALLENWOOD\",\"DR.ALLENWOOD\",\"DR.ALLENWOOD\",\"DR.ALLENWOOD\",\"BILLY\",\"MR.PETERMAN\",\"MR.PETERMAN\",\"AUDREY\",\"AUDREY\",\"HOUSEKEEPER\",\"HOUSEKEEPER\",\"REBECCA\",\"REBECCA\",\"REBECCA\",\"REBECCA\",\"BUSINESSMAN\",\"APPLICANT\",\"APPLICANT\",\"APPLICANT\",\"APPLICANT\",\"SON\",\"SON\",\"ELAINE AND PUDDY\",\"ELAINE AND PUDDY\",\"ELAINE AND PUDDY\",\"SPONSER\",\"MEMBER1:\",\"MEMBER1:\",\"ALLISON\",\"ALLISON\",\"ALLISON\",\"ALLISON\",\"RABBI\",\"RABBI\",\"MAESTRO AND ELAINE\",\"MAESTRO AND ELAINE\",\"FRIEND\",\"FRIEND\",\"FRIEND\",\"KURT\",\"KURT\",\"KURT\",\"KURT\",\"KURT\",\"ELAINE\",\"ELAINE\",\"ELAINE\",\"ELAINE\",\"ELAINE\",\"ELAINE\",\"ELAINE\",\"ELAINE\",\"ELAINE\",\"ELAINE\",\"ELAINE\",\"ELAINE\",\"ELAINE\",\"ELAINE\",\"ELAINE\",\"ELAINE\",\"ELAINE\",\"ELAINE\",\"ELAINE\",\"ELAINE\",\"ELAINE\",\"ELAINE\",\"ELAINE\",\"ELAINE\",\"ELAINE\",\"ELAINE\",\"ELAINE\",\"ELAINE\",\"ELAINE\",\"ELAINE\",\"ELAINE\",\"ELAINE\",\"ELAINE\",\"ELAINE\",\"ELAINE\",\"ELAINE\",\"ELAINE\",\"ELAINE\",\"ELAINE\",\"ELAINE\",\"ELAINE\",\"ELAINE\",\"ELAINE\",\"ELAINE\",\"ELAINE\",\"ELAINE\",\"ELAINE\",\"ELAINE\",\"ELAINE\",\"ELAINE\",\"ELAINE\",\"ELAINE\",\"ELAINE\",\"ELAINE\",\"ELAINE\",\"ELAINE\",\"ELAINE\",\"ELAINE\",\"ELAINE\",\"ELAINE\",\"ELAINE\",\"ELAINE\",\"ELAINE\",\"ELAINE\",\"ELAINE\",\"ELAINE\",\"ELAINE\",\"ELAINE\",\"ELAINE\",\"ELAINE\",\"ELAINE\",\"ELAINE\",\"ELAINE\",\"ELAINE\",\"ELAINE\",\"ELAINE\",\"ELAINE\",\"ELAINE\",\"ELAINE\",\"ELAINE\",\"ELAINE\",\"ELAINE\",\"ELAINE\",\"ELAINE\",\"ELAINE\",\"ELAINE\",\"ELAINE\",\"ELAINE\",\"ELAINE\",\"ELAINE\",\"ELAINE\",\"ELAINE\",\"ELAINE\",\"ELAINE\",\"ELAINE\",\"ELAINE\",\"ELAINE\",\"ELAINE\",\"ELAINE\",\"ELAINE\",\"ELAINE\",\"ELAINE\",\"ELAINE\",\"ELAINE\",\"ELAINE\",\"ELAINE\",\"ELAINE\",\"ELAINE\",\"ELAINE\",\"ELAINE\",\"ELAINE\",\"ELAINE\",\"ELAINE\",\"ELAINE\",\"ELAINE\",\"ELAINE\",\"ELAINE\",\"ELAINE\",\"ELAINE\",\"ELAINE\",\"ELAINE\",\"ELAINE\",\"ELAINE\",\"ELAINE\",\"ELAINE\",\"ELAINE\",\"ELAINE\",\"ELAINE\",\"ELAINE\",\"ELAINE\",\"ELAINE\",\"ELAINE\",\"ELAINE\",\"ELAINE\",\"ELAINE\",\"ELAINE\",\"ELAINE\",\"ELAINE\",\"ELAINE\",\"ELAINE\",\"ELAINE\",\"ELAINE\",\"ELAINE\",\"ELAINE\",\"ELAINE\",\"ELAINE\",\"ELAINE\",\"ELAINE\",\"ELAINE\",\"ELAINE\",\"ELAINE\",\"ELAINE\",\"ELAINE\",\"ELAINE\",\"ELAINE\",\"ELAINE\",\"ELAINE\",\"ELAINE\",\"ELAINE\",\"ELAINE\",\"ELAINE\",\"ELAINE\",\"ELAINE\",\"ELAINE\",\"ELAINE\",\"ELAINE\",\"ELAINE\",\"ELAINE\",\"ELAINE\",\"ELAINE\",\"ELAINE\",\"ELAINE\",\"ELAINE\",\"ELAINE\",\"ELAINE\",\"ELAINE\",\"ELAINE\",\"ELAINE\",\"ELAINE\",\"ELAINE\",\"ELAINE\",\"ELAINE\",\"ELAINE\",\"ELAINE\",\"ELAINE\",\"ELAINE\",\"ELAINE\",\"ELAINE\",\"ELAINE\",\"ELAINE\",\"ELAINE\",\"ELAINE\",\"ELAINE\",\"ELAINE\",\"ELAINE\",\"ELAINE\",\"ELAINE\",\"ELAINE\",\"ELAINE\",\"ELAINE\",\"ELAINE\",\"ELAINE\",\"ELAINE\",\"ELAINE\",\"ELAINE\",\"ELAINE\",\"ELAINE\",\"ELAINE\",\"ELAINE\",\"ELAINE\",\"ELAINE\",\"ELAINE\",\"ELAINE\",\"ELAINE\",\"ELAINE\",\"ELAINE\",\"ELAINE\",\"ELAINE\",\"ELAINE\",\"ELAINE\",\"ELAINE\",\"ELAINE\",\"ELAINE\",\"ELAINE\",\"ELAINE\",\"ELAINE\",\"ELAINE\",\"ELAINE\",\"ELAINE\",\"RADIO\",\"LABTECHNICIAN\",\"LABTECHNICIAN\",\"BOOKIE\",\"BOOKIE\",\"BOOKIE\",\"BOOKIE\",\"BOOKIE\",\"MAR\",\"MAR\",\"MAR\",\"VOICE FROM POKER GAME\",\"MONK'SMANAGER:\",\"JULIO\",\"DEBBY\",\"DEBBY\",\"DEBBY\",\"BRIDGET\",\"BUZZER\",\"MOM\",\"MOM\",\"MOM\",\"GILLIAN\",\"CONTEST WINNER\",\"WILKIE\",\"BETH\",\"BETH\",\"BETH\",\"HANKE\",\"HANKE\",\"HANKE\",\"HANKE\",\"TIM\",\"TIM\",\"TIM\",\"TIM\",\"TIM\",\"TIM\",\"TIM\",\"TIM\",\"TIM\",\"SPONER\",\"PAM\",\"PAM\",\"KAREN\",\"KAREN\",\"KAREN\",\"KAREN\",\"KAREN\",\"KAREN\",\"EVERYBODY\",\"BOY\",\"BOY\",\"BOY\",\"RICARDI\",\"RICARDI\",\"KATE\",\"KATE\",\"KATE\",\"KID\",\"KID\",\"KID\",\"KID\",\"JERRY& ELAINE\",\"LOUISE\",\"LOUISE\",\"MR.ROSS\",\"MR.ROSS\",\"MR.ROSS\",\"MR.ROSS\",\"MR.ROSS\",\"MR.ROSS\",\"ANNA\",\"ANNA\",\"ANNA\",\"ANNA\",\"POLICEOFFICER\",\"POLICEOFFICER\",\"HAIRDRESSER\",\"AMANDA\",\"VOICE\",\"VOICE\",\"VOICE\",\"VOICE\",\"VOICE\",\"VOICE\",\"VOICE\",\"VOICE\",\"VOICE\",\"VOICE\",\"MEL\",\"MEL\",\"ROBIN\",\"ROBIN\",\"ROBIN\",\"ROBIN\",\"GIULIANI\",\"GIULIANI\",\"GIULIANI\",\"GIULIANI\",\"GIULIANI\",\"DEENA\",\"DEENA\",\"DEENA\",\"FATHER HERNANDEZ\",\"FATHER HERNANDEZ\",\"RUSTY\",\"SCOTT\",\"AUDIENCE\",\"SIENA\",\"SIENA\",\"NEWMAN\",\"NEWMAN\",\"NEWMAN\",\"NEWMAN\",\"NEWMAN\",\"NEWMAN\",\"NEWMAN\",\"NEWMAN\",\"NEWMAN\",\"NEWMAN\",\"NEWMAN\",\"NEWMAN\",\"NEWMAN\",\"NEWMAN\",\"NEWMAN\",\"NEWMAN\",\"NEWMAN\",\"NEWMAN\",\"NEWMAN\",\"NEWMAN\",\"NEWMAN\",\"NEWMAN\",\"NEWMAN\",\"NEWMAN\",\"NEWMAN\",\"NEWMAN\",\"NEWMAN\",\"NEWMAN\",\"NEWMAN\",\"NEWMAN\",\"NEWMAN\",\"DUSTIN\",\"DUSTIN\",\"RAY\",\"RAY\",\"OFFSTAGE\",\"MRS.S\",\"MRS.S\",\"READERS\",\"MECHANIC\",\"MECHANIC\",\"MECHANIC\",\"FIREMAN\",\"CARSALESMAN\",\"MAHJONGLADY\",\"MAHJONGLADY\",\"MICKEY\",\"MICKEY\",\"MICKEY\",\"MICKEY\",\"MICKEY\",\"MICKEY\",\"MICKEY\",\"MICKEY\",\"MICKEY\",\"MICKEY\",\"RESIDENT\",\"CARWASHER\",\"DARREN\",\"DIRECTOR\",\"GIRL\",\"SPIKE\",\"SPIKE\",\"SPIKE\",\"SPIKE\",\"SHELLY\",\"SHELLY\",\"SHELLY\",\"SHELLY\",\"SHELLY\",\"PITT\",\"PITT\",\"PITT\",\"PITT\",\"JOEY\",\"JOEY\",\"CARRERAS\",\"CARRERAS\",\"CARRERAS\",\"CARRERAS\",\"MORTY\",\"MORTY\",\"MORTY\",\"MORTY\",\"MORTY\",\"MORTY\",\"MORTY\",\"MORTY\",\"MORTY\",\"MORTY\",\"MORTY\",\"MORTY\",\"MORTY\",\"MORTY\",\"MORTY\",\"LOU\",\"SALESMAN\",\"SALESMAN\",\"SALESMAN\",\"SALESMAN\",\"DENIMVEST\",\"DENIMVEST\",\"JUDGE\",\"JUDGE\",\"JUDGE\",\"JUDGE\",\"AMY\",\"MS.JORDAN\",\"MS.JORDAN\",\"MRS.ZANFINO\",\"MRSTAR\",\"POSTALWORKER\",\"POSTALWORKER\",\"JODI\",\"ZEKE\",\"ZEKE\",\"MORGAN\",\"MORGAN\",\"MORGAN\",\"MORGAN\",\"MORGAN\",\"GEORGE&JERRY:\",\"MRS.O\",\"MRS.O\",\"MRS.O\",\"WALTER\",\"WORKERS\",\"WORKERS\",\"WORKERS\",\"WORKERS\",\"SALESWOMAN\",\"SALESWOMAN\",\"BETSY\",\"BETSY\",\"BETSY\",\"BETSY\",\"WORKER\",\"WORKER\",\"WORKER\",\"WORKER\",\"WORKER\",\"DR.RESNICK\",\"LINDSAY\",\"LINDSAY\",\"LINDSAY\",\"MRS.SANGER\",\"MRS.SANGER\",\"MARLA\",\"MARLA\",\"MARTY\",\"MARTY\",\"PETE\",\"PETE\",\"PETE\",\"ADAM\",\"SANDRA\",\"VET\",\"CAROL\",\"CAROL\",\"CAROL\",\"CAROL\",\"CAROL\",\"CAROL\",\"CAROL\",\"PHONEMAN\",\"PHONEMAN\",\"CYNTHIA\",\"CYNTHIA\",\"PENSKY\",\"PENSKY\",\"ELLEN\",\"ELLEN\",\"ELLEN\",\"OTHER CO-WORKERS IN HALLWAY\",\"OTHER CO-WORKERS IN HALLWAY\",\"OTHER CO-WORKERS IN HALLWAY\",\"NAOMI\",\"NEWS\",\"NEWS\",\"NEWS\",\"KIM\",\"KIM\",\"ALL\",\"ALL\",\"ALL\",\"ALL\",\"ALL\",\"ALL\",\"ALL\",\"MAN1:\",\"TOBY\",\"TOBY\",\"TOBY\",\"RITA\",\"MYRA\",\"MYRA\",\"MYRA\",\"ROY\",\"ROY\",\"LLOYD\",\"LLOYD\",\"LLOYD\",\"LLOYD\",\"LLOYD\",\"LLOYD\",\"VINCENT\",\"FOWLER\",\"FOWLER\",\"DAVID\",\"DAVID\",\"MILOS\",\"JERRY, GEORGE, ELAINE\",\"SIDRA\",\"SIDRA\",\"REPORTER\",\"REPORTER\",\"ALEXTREBEK\",\"ALEXTREBEK\",\"GEPETTO\",\"GEPETTO\",\"FULTON\",\"RAYMOND\",\"RAYMOND\",\"RAYMOND\",\"JOYMAYO\",\"JOYMAYO\",\"JOYMAYO\",\"ALLBRIGHT\",\"CAPTAIN\",\"CAPTAIN\",\"CAPTAIN\",\"BOTH\",\"MELISSA\",\"MELISSA\",\"JOEDIVOLA\",\"JOEDIVOLA\",\"JEAN-PAUL:\",\"DR.BAKERSOLL\",\"RESTAURATEUR\",\"CALVINKLEIN\",\"CALVINKLEIN\",\"CALVINKLEIN\",\"FATHERCURTIS\",\"ALAN\",\"MAESTRO\",\"MAESTRO\",\"MAESTRO\",\"MAESTRO\",\"MAESTRO\",\"MAESTRO\",\"DOLL\",\"DOLL\",\"DOLL\",\"MS.DEGRANMONT\",\"MS.DEGRANMONT\",\"RECEPTIONIST\",\"RECEPTIONIST\",\"FLIGHT ATTENDANT\",\"MR.PITT\",\"MR.PITT\",\"MR.PITT\",\"MR.PITT\",\"JANE\",\"JANE\",\"JANE\",\"MR.S\",\"JUDY\",\"JEANINE\",\"JEFF\",\"JEFF\",\"PAULA\",\"PAULA\",\"PAULA\",\"RAMON\",\"HAL\",\"HAL\",\"HAL\",\"TICKETLADY\",\"WENDY\",\"ANNOUNCER\",\"ANNOUNCER\",\"ANNOUNCER\",\"JACK\",\"JACK\",\"JACK\",\"GLADYS\",\"GLADYS\",\"GWEN\",\"GWEN\",\"GWEN\",\"GWEN\",\"GWEN\",\"GWEN\",\"KARL\",\"KARL\",\"DETECTIVE 1\",\"DETECTIVE 1\",\"EMILY\",\"EMILY\",\"EMILY\",\"JOHNNY\",\"JOHNNY\",\"STAGEHAND\",\"STAGEHAND\",\"ELAINE AND JERRY\",\"ELAINE AND JERRY\",\"FATHER\",\"ARONSON\",\"ARONSON\",\"GLENN\",\"TESTIKOV\",\"TESTIKOV\",\"DOCTOR\",\"DOCTOR\",\"DOCTOR\",\"AL\",\"ABBY\",\"RICKY\",\"RICKY\",\"RICKY\",\"RICKY\",\"RICKY\",\"MARY\",\"MARY\",\"MAILMAN\",\"MAILMAN\",\"TV\",\"TV\",\"TV\",\"TV\",\"JAKE\",\"HORST\",\"PRISONER\",\"NURSE\",\"NURSE\",\"NURSE\",\"FRANKIE\",\"FRANKIE\",\"FRANKIE\",\"FRANKIE\",\"MR. PITT\",\"MR. PITT\",\"MR.TUTTLE\",\"MR.GREEN\",\"MRS.ROSS\",\"MRS.ROSS\",\"MRS.ROSS\",\"POSTAL WORKER DANNY\",\"GEORGE AND JERRY\",\"GAIL\",\"GAIL\",\"GAIL\",\"VOICE ON SPEAKER\",\"SLIPPERTPETE\",\"JACKIE\",\"JACKIE\",\"JACKIE\",\"COP\",\"COP\",\"COP\",\"COP\",\"ROGER\",\"STEINBRENNER\",\"STEINBRENNER\",\"STEINBRENNER\",\"STEINBRENNER\",\"STEINBRENNER\",\"STEINBRENNER\",\"STEINBRENNER\",\"STEINBRENNER\",\"JERRY, GEORGE, & KRAMER\",\"VARGUS\",\"BRODY\",\"EDDIE\",\"EDDIE\",\"EDDIE\",\"HOTELCLERK\",\"SYLVIA\",\"SYLVIA\",\"LIPPMAN\",\"LIPPMAN\",\"LIPPMAN\",\"LIPPMAN\",\"LIPPMAN\",\"SKYCAP\",\"SKYCAP\",\"VENDER\",\"DWAYNE\",\"DWAYNE\",\"DWAYNE\",\"RICKEY\",\"MANINSHOWER\",\"MARCY\",\"J.PETERMAN\",\"J.PETERMAN\",\"DANA\",\"FATHERJESSUP\",\"FATHERJESSUP\",\"TAMMY\",\"ELECTRICIAN\",\"SLIPPERY PETE\",\"TODD\",\"TODD\",\"KLEIN\",\"KLEIN\",\"HOLEDIGGER\",\"ADE\",\"ADE\",\"MR. STEINBRENNER\",\"MR. STEINBRENNER\",\"MR. STEINBRENNER\",\"BECKY\",\"BECKY\",\"DENISE\",\"SIMON\",\"VIVIAN\",\"GARY\",\"MR.CROSS\",\"MR.CROSS\",\"MS.BAINES\",\"CASHIER\",\"CASHIER\",\"VALERIE\",\"MARYEDITH\",\"MARYEDITH\",\"WINONA\",\"SALLY\",\"SALLY\",\"SALLY\",\"SALLY\",\"SALLY\",\"SALLY\",\"RACHEL\",\"RACHEL\",\"RESTON\",\"RALPH\",\"HOMELESSMAN\",\"CORINNE\",\"CORINNE\",\"DRIVER\",\"LADY\",\"HEALTH INSPECTOR\",\"DETECTIVE 2\",\"DIANE\",\"DIANE\",\"JULIE\",\"PAUL\",\"MIKE\",\"MIKE\",\"JIMMY\",\"GOERGE\",\"GOERGE\",\"JERRY\",\"JERRY\",\"JERRY\",\"JERRY\",\"JERRY\",\"JERRY\",\"JERRY\",\"JERRY\",\"JERRY\",\"JERRY\",\"JERRY\",\"JERRY\",\"JERRY\",\"JERRY\",\"JERRY\",\"JERRY\",\"JERRY\",\"JERRY\",\"JERRY\",\"JERRY\",\"JERRY\",\"JERRY\",\"JERRY\",\"JERRY\",\"JERRY\",\"JERRY\",\"JERRY\",\"JERRY\",\"JERRY\",\"JERRY\",\"JERRY\",\"JERRY\",\"JERRY\",\"JERRY\",\"JERRY\",\"JERRY\",\"JERRY\",\"JERRY\",\"JERRY\",\"JERRY\",\"JERRY\",\"JERRY\",\"JERRY\",\"JERRY\",\"JERRY\",\"JERRY\",\"JERRY\",\"JERRY\",\"JERRY\",\"JERRY\",\"JERRY\",\"JERRY\",\"JERRY\",\"JERRY\",\"JERRY\",\"JERRY\",\"JERRY\",\"JERRY\",\"JERRY\",\"JERRY\",\"JERRY\",\"JERRY\",\"JERRY\",\"JERRY\",\"JERRY\",\"JERRY\",\"JERRY\",\"JERRY\",\"JERRY\",\"JERRY\",\"JERRY\",\"JERRY\",\"JERRY\",\"JERRY\",\"JERRY\",\"JERRY\",\"JERRY\",\"JERRY\",\"JERRY\",\"JERRY\",\"JERRY\",\"JERRY\",\"JERRY\",\"JERRY\",\"JERRY\",\"BILL\",\"BILL\",\"STAN\",\"WAITER\",\"WAITER\",\"SHEILA\",\"SANDY\",\"SANDY\",\"BARTENDER\",\"GEOGE\",\"GAURD\",\"KATIE\",\"PHONE\",\"PUDDY\",\"PUDDY\",\"PUDDY\",\"CLERK\",\"SOUPNAZI\",\"MARYANNE\",\"MOONEY\",\"HOLLY\",\"HOLLY\",\"HOLLY\",\"TEACHER\",\"SILVIO\",\"ELDRIDGE\",\"ELDRIDGE\",\"FRANK\",\"FRANK\",\"FRANK\",\"FRANK\",\"EARL\",\"DARRYL\",\"GUY\",\"MALEWORKER\",\"RUTHIE\",\"CELIA\"],\"weight\":[15,15,15,15,16,16,16,13,10,27,40,69,79,69,73,69,69,9,25,9,16,16,7,9,9,9,9,50,120,84,70,50,84,154,50,14,23,46,43,6,12,81,93,81,93,81,93,2,48,46,19,30,38,33,46,86,33,20,38,150,20,35,49,45,11,35,94,18,23,23,23,84,16,28,16,41,71,4,44,40,32,69,16,24,7,145,106,242,11,43,57,64,3,41,20,16,52,4,4,64,12,12,16,23,55,40,11,81,57,30,33,25,16,154,46,68,16,50,329,6,78,15,45,30,111,28,6,20,106,26,31,27,21,18,31,148,27,71,21,270,28,14,5,64,56,4,9,51,36,21,14,43,46,59,2,68,6,15,31,7,7,30,48,8,15,106,14,29,17,31,229,42,33,11,257,12,43,7,14,26,26,37,7,70,15,191,41,113,52,162,40,139,22,30,84,27,247,23,33,4,9515,73,10,77,44,15,16,12,86,14,21,11,44,14,33,58,1525,221,17,2,133,23,84,94,138,5,33,5,35,18,49,5,24,47,29,14,28,17,33,18,39,42,51,57,32,7,65,14,23,42,70,99,51,62,25,31,8904,14623,81,12,217,21,12,8,39,126,42,7,13,11,5,50,17,59,13,20,15,199,147,157,46,27,19,7,31,64,15,67,73,96,42,15,50,14,63,18,45,135,46,163,401,32,64,44,229,52,7,41,1097,64,107,34,68,52,8,14,69,16,94,17,12,87,51,84,364,81,24,165,19,17,73,31,23,124,23,135,12,84,28,23,26,37,23,15,433,21,109,119,20,46,52,43,29,4,12,13,24,27,6,36,19,30,46,21,78,2,11,15,15,112,9,44,80,12,597,4,36,17,46,17,60,10,10,10,5,5,16,30,16,37,53,144,106,106,106,144,34,11,108,16,4,27,59,11,11,38,27,47,47,47,47,47,47,19,19,19,19,31,9,19,28,33,20,16,107,177,18,134,169,54,57,29,38,95,57,33,342,26,28,25,4,4,27,27,128,152,75,19,212,16,94,100,23,36,43,20,16,55,16,4,21,6,15,21,15,16,16,23,23,12,12,16,14,40,40,40,14,88,44,44,44,44,44,34,26,53,43,4,18,18,18,49,145,66,145,23,21,11,52,23,16,44,63,63,63,68,68,11,77,68,68,43,16,23,62,23,19,19,121,53,426,5,11,453,8,21,11,7,31,63,8,64,31,31,75,15,17,15,5,15,35,30,292,15,18,6,27,69,33,8,18,85,159,30,49,20,32,158,121,76,9,9,64,66,40,15,8,8,5,20,15,658,29,57,117,8,112,44,20,28,84,14,32,7,71,21,61,45,33,19,350,28,11,61,7,47,60,31,17,32,54,11,293,37,10,51,10,54,16,34,10,13,20,61,344,26,58,237,40,155,84,4,6,40,1173,14,10,38,19,108,11,29,40,24,78,39,3,20,46,69,9,8,17,24,25,72,26,27,19,58,19,27,50,8,233,11,23,11,64,15,28,115,115,29,218,103,16,11,11,393,64,120,47,40,31,27,54,31,67,39,115,64,78,41,37,33,61,13,489,53,105,463,80,99,25,34,119,31,29,189,9,62,16,11,33,49,22,139,22,152,49,41,30,18,29,2,41,16,19,25,276,13,5,47,1152,3,57,32,34,11,81,80,27,33,105,46,50,75,51,78,29,87,46,189,36,38,306,59,54,22,9,3,46,50,70,46,50,45,37,31,17,211,29,23,85,7,45,60,8,27,43,41,22,129,16,76,13,69,106,20,15,7,93,33,147,99,21,47,34,92,40,30,23,84,60,135,75,51,12,36,105,13,6,84,71,31,17186,81,18,98,16,44,125,7,137,82,22,25,382,57,181,15,75,21,52,50,110,15,61,85,46,24,215,35,55,36,70,1683,23,106,9925,18,20,4,32,22,13,84,21,51,7,27,46,163,15,37,111,56,24,76,33,27,54,19,9,62,66,15,99,32,64,32,31,114,15,138,51,9,58,180,52,25,15,15,15,50,20,26,34,5,37,7,7,5,64,64,21,70,21,7,2,36,36,36,36,21,21,21,10,90,98,18,18,35,18,11,18,29,19,39,19,19,18,149,418,56,47,161,193,53,18,27,171,9,9,5,33,13,61,61,61,7,4,7,34,47,34,34,13,47,13,10,21,10,10,10,14,31,31,17,17,32,32,32,7,7,42,42,54,54,11,172,4,273,6,10,679,67,33,25,67,3,8,33,142,67,13,37,72,12,7,7,14,60,20,13,20,7,74,23,51,10,10,6,20,34,3,45,6,18,13,77,12,34,21,13,95,147,95,14,151,52,57,5,38,10,10,57,29,29,10,20,20,51,78,21,52,81,20,34,160,9,39,78,414,7,17,9,250,4,70,15,31,15,4,36,43,166,43,12,48,4,43,838,67,919,21,56,27,67,21,276,67,19,7,114,31,108,58,54,9,12,18,7,46,102,140,84,84,12,93,62,62,62,62,62,11,84,84,84,16,79,79,44,79,44,14,14,14,14,30,16,40,40,27,25,56,724,75,34,351,51,39,7,9,25,6,15,51,10,34,35,51,20,22,11,9,40,14,65,68,17,14,16,9,9,9,24,24,24,31,31,46,2,536,9,481,23,9,15,64,15,34,46,46,51,34,64,27,55,18,51,20,5,23,38,10,11,21,11,20,23,23,12,12,12,40,40,12,99,12,87,28,28,4,4,33,23,23,68,23,41,41,29,29,29,29,4,69,69,69,69,14,14,13,13,13,9,17,8,100,7,26,47,81,21,12,12,25,25,25,12,64,12,12,91,25,15,28,176,89,10,44,64,56,90,115,22,49,15,20,29,55,15,14,25,12,11,149,24,20,110,189,46,31,50,59,19,54,28,19,56,10,24,31,24,60,31,240,32,15,37,211,59,7,14,193,26,46,16,148,87,95,124,22,13,30,83,25,20,5,56,127,51,11,110,50,5,11,159,55,88,79,16,52,44,40,52,27,16,149,13,23,13,117,69,18,31,29,133,903,63,117,188,13,101,16,32,29,83,287,18,19,39,51,57,14,16,97,57,60,53,15146,81,12,158,28,80,31,32,42,34,13,58,17,6,39,21,610,185,137,104,15,29,4,64,120,73,49,49,4,63,64,110,99,101,15,46,50,73,32,64,44,52,143,829,20,94,57,83,7,11,6,52,25,7,48,38,16,71,6,20,84,80,48,98,38,116,18,34,13,20,15,223,31,74,77,73,99,31,53,18,26,51,13,306,51,82,6,83,3,31,33,85,52,34,98,24,27,25,30,38,90,62,113,6,26,109,20,391,20,62,18,7,74,19,12,12,38,54,54,38,29,21,21,21,8,4,11,42,4,42,6,27,11,50,50,24,6,13,11,23,38,29,20,42,20,34,62,27,62,103,8,6,337,25,23,31,21,17,26,12,7,26,14,64,79,48,48,32,4,13,17,76,73,73,73,73,49,12,34,55,18,10,8,164,13,6,18,23,13,12,19,4,15,9,68,41,3,5,32,3,36,16,22,43,11,73,93,73,20,64,64,64,64,64,63,56,51,13,10,5,31,20,9,6,62,19,17,64,26,24,13,12,64,64,16,5,7,1552,67,67,33,67,16,23,27,83,22,23,50,62,64,16,24,12,19,7,7,23,21,13,18,18,7,99,99,99,6,7,39,39,12,247,17,22,77,16,33,45,3,20,24,9,147,14,15,31,31,31,31,21,27,41,30,21,12,12,12,12,24,24,20,20,20,20,34,875,27,67,67,4,19,21,24,123,31,30,108,58,54,21,128,6,67,16,46,80,19,19,19,33,96,9,9,24,9,12,12,158,21,13,37,63,26,30,20,22,62,62,6,35,18,18,18,18,158,99,15,14,14,4,18,33,18,18,24,16,11,22,11,18,18,36,206,7,58,12,12,12,25,22,28,21,51,168,27,21,41,51,48,78,17,17,19,29,9,58,9,44,44,44,57,64,64,64,9,9,26,16,82,26,25,16,40,16,139,44,81,44,48,51,23,39,23,220,72,44,19,26,74,13,11,11,43,19,66,3,10,97,15,15,37,23,19,20,28,34,34,34,13,43,44,3,55,12,5,24,11,59,100,81,10,5,38,33,33,33,20,75,46,66,159,96,14,20,46,46,46,50,50,50,65,17,20,69,56,25,9,21,197,18,41,22,12,12,95,27,31,57,46,14,46,31,209,32,52,16,104,38,4,26,26,60,303,117,57,70,57,59,59,12,12,54,54,54,33,33,8,8,20,20,55,46,46,46,37,50,5,89,16,46,106,34,47,47,31,34,13,31,30,30,56,12,44,48,15,15,29,21,31,13,4,6,63,23,31,25,17,7,13,18,71,35,29,51,129,15,7,40,103,52,23,41,12,12,29,19,190,19,21,19,19,4,12,77,27,14,107,8,58,52,9,18,25,71,31,29,31,29,4,44,16,9,22,22,13,11,57,106,106,18,28,14,33,8,15,93,32,33,33,6,100,69,14,60,16,18,18,21,85,20,40,20,20,20,42,16,149,31,4,90,289,109,10,6,53,40,74,44,16,27,3,80,51,16,12,23,12,81,3,12,7,77,34,37,31,31,57,46,16,17,9,97,122,30,38,9,11,132,100,81,186,8,80,12,98,13,18,4,15,412,140,51,19,78,31,167,60,47,58,110,63,8,45,108,18,184,88,6,43,12,36,60,965,106,118,32,16,36,83,31,72,498,207,26,47,107,12,44,76,57,129,6,20,62,27,24,16,2,41,51,16,16,12,15,156,12,51,19,13,111,91,19,19,48,11,13,6,57,57,7,3,18,36,5,22,13,22,53,51,29,21,10,26,44,18,11,39,39,53,57,32,1062,26,58,20,34,8,11]},\"selected\":{\"id\":\"9056\",\"type\":\"Selection\"},\"selection_policy\":{\"id\":\"9057\",\"type\":\"UnionRenderers\"}},\"id\":\"8648\",\"type\":\"ColumnDataSource\"},{\"attributes\":{\"callback\":null,\"tooltips\":[[\"name\",\"@index\"]]},\"id\":\"8660\",\"type\":\"HoverTool\"},{\"attributes\":{\"data_source\":{\"id\":\"8648\",\"type\":\"ColumnDataSource\"},\"glyph\":{\"id\":\"8647\",\"type\":\"MultiLine\"},\"hover_glyph\":null,\"muted_glyph\":null,\"view\":{\"id\":\"8650\",\"type\":\"CDSView\"}},\"id\":\"8649\",\"type\":\"GlyphRenderer\"},{\"attributes\":{},\"id\":\"9048\",\"type\":\"NodesOnly\"},{\"attributes\":{},\"id\":\"9041\",\"type\":\"BasicTickFormatter\"},{\"attributes\":{},\"id\":\"9049\",\"type\":\"NodesOnly\"},{\"attributes\":{\"callback\":null,\"end\":2.1,\"start\":-2.1},\"id\":\"8615\",\"type\":\"Range1d\"},{\"attributes\":{},\"id\":\"8621\",\"type\":\"LinearScale\"},{\"attributes\":{\"source\":{\"id\":\"8648\",\"type\":\"ColumnDataSource\"}},\"id\":\"8650\",\"type\":\"CDSView\"},{\"attributes\":{\"graph_layout\":{\"\\\"SALMAN\\\"\":[-0.03456715866923332,-1.0288945436477661],\"ABBY\":[0.1298929899930954,0.2915436327457428],\"ADAM\":[0.5498272776603699,0.42096376419067383],\"ADE\":[0.06860540807247162,-0.15921232104301453],\"AENT\":[0.783605694770813,-1.0609917640686035],\"AGENCYREP\":[-0.1624617725610733,-0.13280852138996124],\"AGENT\":[0.8991573452949524,0.1195659264922142],\"AL\":[-0.39396676421165466,-0.019459081813693047],\"ALAN\":[0.13063636422157288,-0.052608080208301544],\"ALEC\":[0.4652431607246399,-0.07449597865343094],\"ALEX\":[-0.10801742225885391,0.3190009593963623],\"ALEXTREBEK\":[-0.379449725151062,0.14248287677764893],\"ALISON\":[0.2950421869754791,0.3982502520084381],\"ALL\":[-0.16648642718791962,-0.025683581829071045],\"ALLBRIGHT\":[0.6372825503349304,-1.7854090929031372],\"ALLISON\":[-0.08296187967061996,0.14843685925006866],\"ALLTHREE\":[0.2233838438987732,-0.7662352323532104],\"ALROKER\":[1.5923305749893188,0.0020126502495259047],\"AMANDA\":[-0.3533090651035309,-0.3807626962661743],\"AMY\":[0.4229794442653656,-0.12327266484498978],\"ANNA\":[0.10104824602603912,0.2108735889196396],\"ANNOUNCER\":[-0.1827787309885025,-0.27394571900367737],\"ANNOUNCERONTV\":[-0.9789037704467773,-0.6430954337120056],\"ANOTHERMAN\":[0.35584911704063416,-0.1906365007162094],\"ANSWERING MACHINE\":[-0.6342616081237793,-0.10021137446165085],\"APPLICANT\":[0.11957544833421707,-0.22546617686748505],\"ARNIE\":[0.38895246386528015,0.5819050073623657],\"ARONSON\":[0.09774252027273178,-0.24320843815803528],\"ATTENDANT\":[0.06702449917793274,-0.25857728719711304],\"AUDIENCE\":[0.4915173351764679,-0.26902490854263306],\"AUDREY\":[0.5236517786979675,-0.17880602180957794],\"AUNTMAY\":[-0.7237178683280945,0.5219656825065613],\"BABU\":[0.1991158276796341,0.027116890996694565],\"BANIA\":[0.07880131900310516,0.054770488291978836],\"BANKEMPLOYEE\":[-0.7439469695091248,-1.0806221961975098],\"BARBARA\":[0.3302365243434906,-0.26756173372268677],\"BARRY\":[-0.04106304422020912,0.22674410045146942],\"BARTENDER\":[-0.10102855414152145,0.8771681785583496],\"BECK\":[0.029338814318180084,-0.2544892430305481],\"BECKY\":[-0.45962288975715637,0.48085957765579224],\"BEN\":[0.09899339079856873,0.06584807485342026],\"BETH\":[-0.1299659162759781,0.417427122592926],\"BETSY\":[-0.3390863537788391,0.40645840764045715],\"BILL\":[0.11613771319389343,0.44134628772735596],\"BILLY\":[0.6259744763374329,0.27792298793792725],\"BLINDMAN\":[-0.44976696372032166,0.5987671613693237],\"BOB\":[-0.29157525300979614,0.05843524634838104],\"BOBBY\":[0.04851461201906204,-0.22534412145614624],\"BOMBCOP\":[-0.2756859064102173,-1.5947046279907227],\"BONNIE\":[-0.14647722244262695,0.36010122299194336],\"BOOKIE\":[0.10249865055084229,0.15649978816509247],\"BOTH\":[-0.47000253200531006,-0.057901568710803986],\"BOUNCER\":[-0.6147250533103943,-0.8265450596809387],\"BOY\":[0.17384688556194305,-0.2615151107311249],\"BOYSENBERRY\":[-0.8022845983505249,-0.721579909324646],\"BRADY\":[-0.5212591290473938,0.1524132490158081],\"BRIDGET\":[-1.3219597339630127,-0.3449764847755432],\"BRODY\":[-0.21618634462356567,-0.09926542639732361],\"BRYANT\":[0.13349649310112,-0.7353062033653259],\"BUDDY\":[0.2909684181213379,-0.01363797765225172],\"BUSINESSMAN\":[-1.0308548212051392,1.8995304107666016],\"BUXOMWOMAN\":[-1.51999831199646,0.5279677510261536],\"BUZZER\":[-0.5179235339164734,-0.0972166359424591],\"CABBIE\":[-0.19669610261917114,-0.12410261482000351],\"CALVINKLEIN\":[-0.21537695825099945,-0.32555678486824036],\"CAPTAIN\":[0.13116246461868286,-0.37259262800216675],\"CARL\":[0.14945508539676666,0.4812396168708801],\"CAROL\":[0.11784911155700684,-0.005897281691431999],\"CARRERAS\":[0.43599459528923035,0.2091463953256607],\"CARSALESMAN\":[-0.6008923053741455,0.897089958190918],\"CARWASHER\":[0.4168107807636261,-1.0966485738754272],\"CASHIER\":[-0.2302904725074768,-0.18502120673656464],\"CEDRIC\":[-0.7370327711105347,0.1845080852508545],\"CELIA\":[0.15474337339401245,0.3895060420036316],\"CHARLIE\":[0.3946991264820099,0.41037505865097046],\"CHERYL\":[-0.05928942933678627,-0.17008604109287262],\"CINDY\":[0.26730960607528687,-0.1718074083328247],\"CLARE\":[-0.30148181319236755,-0.2636805474758148],\"CLAYTON\":[-0.2997108995914459,0.5777429342269897],\"CLERK\":[0.0798305794596672,-0.10435418784618378],\"CO-WORKER:\":[1.0488816499710083,0.0572676919400692],\"COCO\":[0.0937245786190033,0.6075106859207153],\"COMPUTERVOICE\":[-0.6790305376052856,-0.15041400492191315],\"CONRAD\":[0.21273496747016907,-0.031343456357717514],\"CONTEST WINNER\":[1.3950151205062866,-0.24564029276371002],\"CONTESTWINNER\":[1.340093970298767,-0.3936161696910858],\"COP\":[-0.27369531989097595,0.1952865868806839],\"CORINNE\":[0.32940831780433655,0.24988026916980743],\"COUNTERPERSON\":[0.7502723336219788,0.03265795484185219],\"COWORKER\":[0.8012001514434814,-0.7518464922904968],\"CUSTOMER\":[-0.20001177489757538,0.4843754470348358],\"CYNTHIA\":[0.061142366379499435,0.44510215520858765],\"DANA\":[-0.34614771604537964,0.210556760430336],\"DAPHNE\":[-0.29147785902023315,-0.02500663883984089],\"DARREN\":[-0.19169194996356964,-0.0917285904288292],\"DARRYL\":[0.1925102174282074,0.19336678087711334],\"DAVID\":[0.3572099208831787,-0.30470746755599976],\"DAVOLA\":[0.23767343163490295,-0.5090271830558777],\"DEANJONES\":[-0.9433698654174805,-0.39451301097869873],\"DEBBY\":[-0.25136855244636536,-0.07646383345127106],\"DEENA\":[-0.18926313519477844,0.05599517747759819],\"DEENSFREI\":[-0.6748691201210022,-0.7198200225830078],\"DELIVERYGUY\":[-0.27091115713119507,-1.1412659883499146],\"DELIVERYMAN\":[-0.23262082040309906,-0.24536673724651337],\"DENIMVEST\":[0.12479621917009354,-0.04930517077445984],\"DENISE\":[0.13050414621829987,0.6325095295906067],\"DENTIST\":[-0.36380037665367126,-0.20913730561733246],\"DETECTIVE 1\":[0.5093916058540344,0.9800540208816528],\"DETECTIVE 2\":[0.5900441408157349,0.9237937331199646],\"DIANE\":[0.27442076802253723,0.21124322712421417],\"DIRECTOR\":[-0.18605156242847443,-0.8327792882919312],\"DISPATCHER\":[0.40622618794441223,-1.1935081481933594],\"DJONRADIO\":[0.6989575028419495,0.08994555473327637],\"DOCTER\":[1.1251386404037476,0.2978367507457733],\"DOCTOR\":[0.11881539970636368,-0.1839897781610489],\"DOGOWNER\":[0.18198470771312714,0.3506837487220764],\"DOLL\":[0.16985902190208435,0.08782296627759933],\"DOLORES\":[-0.06364475935697556,0.08912794291973114],\"DONALD\":[0.1999349445104599,0.23312030732631683],\"DONNA\":[0.1594679057598114,-0.1883316934108734],\"DOORMAN\":[0.24222873151302338,-0.07461348921060562],\"DR.ALLENWOOD\":[-0.3945532441139221,0.0991634950041771],\"DR.BAKERSOLL\":[0.2728450298309326,1.5505684614181519],\"DR.BURKE\":[1.4830882549285889,-0.9443848729133606],\"DR.RESNICK\":[0.5051639676094055,0.25554317235946655],\"DR.WEXLER\":[-0.7302464246749878,-0.18073037266731262],\"DRIVER\":[0.4833611249923706,0.11207929998636246],\"DUGAN\":[0.6870850324630737,0.46791717410087585],\"DUSTIN\":[0.9385672211647034,-0.502009928226471],\"DWAYNE\":[-0.08500093221664429,0.2811540365219116],\"EALINE\":[0.48370176553726196,-0.2452903389930725],\"EARL\":[-0.010256076231598854,-0.3452011048793793],\"EDDIE\":[-0.05348563939332962,0.17077034711837769],\"ELAIEN\":[-0.24009186029434204,-0.4259614050388336],\"ELAINE\":[0.07646036893129349,-0.00018849660409614444],\"ELAINE AND JERRY\":[0.4392193853855133,0.21091926097869873],\"ELAINE AND PUDDY\":[0.39134836196899414,-0.5870015621185303],\"ELANE\":[-0.4322512745857239,0.2405463308095932],\"ELDRIDGE\":[-0.2546561062335968,0.08884768933057785],\"ELECTRICIAN\":[-1.2346971035003662,0.6283825039863586],\"ELIANE\":[0.2866806089878082,-0.8195552825927734],\"ELLEN\":[-0.21749867498874664,0.38586747646331787],\"EMILY\":[-0.0848609134554863,0.05551668629050255],\"EMPLOYEE\":[0.06581063568592072,0.3368198275566101],\"ENZO\":[-0.3916059136390686,-0.021403128281235695],\"ERIC\":[-0.48936986923217773,0.25398844480514526],\"ESTELLE\":[0.008862802758812904,0.08875355124473572],\"EVERYBODY\":[0.1304762214422226,-0.12296081334352493],\"FAN\":[0.02332986332476139,-0.16385418176651],\"FARKUS\":[-0.03828255459666252,0.07157200574874878],\"FATHER\":[-0.03640430048108101,-0.5055602192878723],\"FATHER HERNANDEZ\":[-0.2292964905500412,0.5262524485588074],\"FATHER-PRIEST2:\":[1.4340821504592896,0.7049026489257812],\"FATHERCURTIS\":[0.6973248720169067,-0.3171144723892212],\"FATHERJESSUP\":[-0.3924838900566101,0.22817784547805786],\"FELDMAN\":[0.5373440980911255,-0.3985510766506195],\"FEMALECUSTOMER\":[0.5961539149284363,-0.688992977142334],\"FEMALEWORKER\":[-0.3493426442146301,0.3325982391834259],\"FIREMAN\":[-0.2713128328323364,-0.8293015360832214],\"FLIGHT ATTENDANT\":[0.11875221133232117,0.8490464687347412],\"FLORIST\":[-1.0043799877166748,0.7983692288398743],\"FOWLER\":[-0.032399557530879974,0.6615484356880188],\"FRANK\":[0.00795927457511425,0.08647449314594269],\"FRANKIE\":[-0.03732384368777275,0.3885655105113983],\"FRED\":[0.40516185760498047,0.10756382346153259],\"FRIEND\":[-0.1799534410238266,0.2809467315673828],\"FULTON\":[-0.218381866812706,-0.6172402501106262],\"FURNITUREGUY\":[0.6318920850753784,0.016612805426120758],\"GAIL\":[0.16544483602046967,0.11395041644573212],\"GARDNER\":[-0.3675999641418457,0.898277223110199],\"GARY\":[-0.27407145500183105,0.10540357977151871],\"GAURD\":[0.48736780881881714,-0.5430580377578735],\"GENE\":[0.4544185698032379,-0.30956703424453735],\"GEOGE\":[0.3946649134159088,-1.8017866611480713],\"GEORGE\":[-0.008043892681598663,0.04403245821595192],\"GEORGE AND JERRY\":[-0.20749731361865997,-0.2729891836643219],\"GEORGE&JERRY:\":[-0.5384867191314697,0.2862962484359741],\"GEORGE(O.C.):\":[-1.0408706665039062,0.45233795046806335],\"GEPETTO\":[-0.19154933094978333,-0.49377259612083435],\"GERMANWOMAN\":[-0.9964005947113037,-0.022044364362955093],\"GIGGIO\":[0.059398502111434937,-1.0177528858184814],\"GILLIAN\":[0.24292926490306854,-0.6761766672134399],\"GINO\":[-0.40684774518013,0.14320959150791168],\"GIRL\":[0.00956636480987072,0.6814078688621521],\"GIULIANI\":[-0.11357147246599197,0.05793013423681259],\"GLADYS\":[0.16991789638996124,-0.46154919266700745],\"GLENN\":[0.15408742427825928,0.22014498710632324],\"GOERGE\":[-0.34653639793395996,0.14343379437923431],\"GREG\":[0.5319198966026306,-0.018726088106632233],\"GUAD\":[0.569965660572052,-0.8686659336090088],\"GUARD\":[0.2229507863521576,-0.2950882911682129],\"GUY\":[-0.1390453577041626,-0.10430029779672623],\"GUYONPHONE\":[-0.3475615382194519,-0.6277274489402771],\"GWEN\":[0.043880753219127655,0.0631985142827034],\"HAARWOOD\":[-0.39093199372291565,-0.2499646693468094],\"HAIRDRESSER\":[0.8027696013450623,-0.4552266597747803],\"HAL\":[0.13948683440685272,-0.13012412190437317],\"HANKE\":[0.26191288232803345,-0.1240534856915474],\"HEALTH INSPECTOR\":[0.7572205066680908,-0.22900129854679108],\"HEATHER\":[0.22749462723731995,0.4424341917037964],\"HELEN\":[0.07093964517116547,-0.003646576078608632],\"HILDE\":[-0.11610611528158188,-0.30049386620521545],\"HOLEDIGGER\":[-0.37946444749832153,1.1778970956802368],\"HOLLY\":[0.04296597093343735,-0.09299677610397339],\"HOMELESSMAN\":[-0.5865283012390137,-0.3428354859352112],\"HOMELESSMAN2:\":[-1.4681892395019531,-1.3768357038497925],\"HORST\":[-0.9611396193504333,-0.08838629722595215],\"HOTELCLERK\":[1.173744797706604,0.9131703972816467],\"HOUSEKEEPER\":[-0.12039566040039062,-0.5500475764274597],\"HUCKLEBERRY\":[-0.8197624087333679,-0.6866833567619324],\"INTERCOM\":[-0.05038096383213997,-0.4198472797870636],\"IPSWITCH\":[0.9765452742576599,0.3814253509044647],\"IZZY\":[0.42365768551826477,-0.2238125503063202],\"IZZYJR.\":[0.6254027485847473,-0.4421301484107971],\"J.PETERMAN\":[0.07868099212646484,0.1574070006608963],\"JACK\":[-0.0596538707613945,-0.1163482815027237],\"JACKIE\":[-0.13194134831428528,0.09558919817209244],\"JAKE\":[0.4438527822494507,0.09212138503789902],\"JAMES\":[0.27509012818336487,0.13661393523216248],\"JANE\":[-0.08489792048931122,-0.05064672231674194],\"JANET\":[0.2562395930290222,0.3115370571613312],\"JAYLENO\":[0.12590447068214417,-0.9241694211959839],\"JEAN-PAUL:\":[0.9153857827186584,-0.1324581354856491],\"JEANINE\":[0.3766649067401886,0.30474382638931274],\"JEFF\":[0.04494139924645424,0.974479615688324],\"JERRY\":[0.02250402793288231,-0.007764934562146664],\"JERRY AND ELAINE\":[0.2873631715774536,-0.33601412177085876],\"JERRY AND GEORGE\":[-0.2386968582868576,0.3196426331996918],\"JERRY& ELAINE\":[0.4188065528869629,0.0009128343081101775],\"JERRY&GEORGE:\":[0.2730359137058258,-0.012219817377626896],\"JERRY&JEANNIE:\":[0.3509047031402588,-0.447907954454422],\"JERRY, GEORGE, & KRAMER\":[-0.3060249984264374,0.2311766892671585],\"JERRY, GEORGE, ELAINE\":[-1.3648256063461304,-0.11288587749004364],\"JERY\":[0.1447160542011261,0.11342344433069229],\"JETER\":[-0.12514010071754456,-1.1989799737930298],\"JIMMY\":[-0.18296223878860474,0.2001115381717682],\"JOAN\":[0.8018450736999512,0.6182253360748291],\"JOANNE\":[0.03895430639386177,-0.26360243558883667],\"JODI\":[-0.16827920079231262,-0.04337391257286072],\"JOE\":[-0.40162891149520874,-0.47249606251716614],\"JOEDIVOLA\":[0.023094620555639267,-0.1558988094329834],\"JOEL\":[-0.01085965521633625,-0.3544696867465973],\"JOEY\":[0.4233964681625366,0.24762263894081116],\"JOHNNY\":[-0.4188000559806824,-0.19231046736240387],\"JOHNTYLER\":[0.21131205558776855,1.2400317192077637],\"JOYCE\":[0.6904831528663635,0.10997835546731949],\"JOYMAYO\":[-0.034691598266363144,-0.2853407859802246],\"JUDGE\":[-0.17796286940574646,0.16072073578834534],\"JUDY\":[0.46897390484809875,-0.08560386300086975],\"JULIE\":[-0.6932151913642883,0.08368794620037079],\"JULIO\":[1.1160643100738525,-0.20587702095508575],\"KAREN\":[-0.2905026972293854,0.00395951047539711],\"KARL\":[0.2418287992477417,0.16738368570804596],\"KATE\":[0.08663420379161835,0.4999222159385681],\"KATIE\":[-0.16695021092891693,0.0680258497595787],\"KATYA\":[-0.06197686120867729,-0.6252300143241882],\"KELLY\":[0.34168460965156555,0.008904354646801949],\"KERI\":[-0.11688628792762756,-0.18415598571300507],\"KEVIN\":[0.23429521918296814,-0.16590751707553864],\"KID\":[0.07441157847642899,-0.05861876532435417],\"KID2:\":[0.4089268147945404,-0.34316834807395935],\"KIM\":[-0.37189796566963196,0.9153552651405334],\"KLEIN\":[-0.17975889146327972,-0.353742778301239],\"KRAMER\":[-0.04073604196310043,-0.04283330962061882],\"KRUGER\":[0.02988201379776001,0.11060227453708649],\"KURT\":[0.18544992804527283,0.2784627079963684],\"LABTECHNICIAN\":[-0.21857209503650665,-0.5127888917922974],\"LADY\":[-0.6389641165733337,0.7238509654998779],\"LARRY\":[0.3102673590183258,-0.6259273290634155],\"LAURA\":[0.5363963842391968,0.36393433809280396],\"LEADER\":[-0.24925222992897034,1.1330854892730713],\"LELAND\":[-0.5856368541717529,-0.9339275360107422],\"LENA\":[-0.11162028461694717,0.39730992913246155],\"LEO\":[0.11685014516115189,-0.04659934714436531],\"LESLIE\":[0.13975994288921356,-0.5367333889007568],\"LETTERMAN\":[-0.6199820041656494,0.6387370824813843],\"LINDSAY\":[-0.5682163834571838,-0.036870237439870834],\"LIPPMAN\":[0.08638835698366165,0.1336391121149063],\"LISA\":[0.28369927406311035,0.11729098111391068],\"LISI\":[-0.02367980405688286,0.3922010362148285],\"LLOYD\":[-0.10158776491880417,-0.020487913861870766],\"LORETTA\":[0.23265284299850464,0.649681568145752],\"LOU\":[0.1862114816904068,-0.332370787858963],\"LOUISE\":[0.41487061977386475,0.36708468198776245],\"LUBECK\":[0.6621018052101135,-0.15481002628803253],\"MACHINE\":[-0.8764392733573914,0.7538918256759644],\"MACKENZIE\":[-0.37381666898727417,0.7020230293273926],\"MAESTRO\":[0.13367417454719543,0.06487507373094559],\"MAESTRO AND ELAINE\":[0.711228609085083,0.22404086589813232],\"MAHJONGLADY\":[-0.27534550428390503,0.3348682224750519],\"MAID\":[0.6464753746986389,1.4470771551132202],\"MAILMAN\":[0.31599366664886475,-0.34612563252449036],\"MALEWORKER\":[-0.21394969522953033,0.21548645198345184],\"MAN\":[0.10501229763031006,-0.08356589078903198],\"MAN 2\":[0.9028325080871582,-0.6657325625419617],\"MAN ON THE STREET\":[0.4055522680282593,-0.6615806818008423],\"MAN1:\":[-0.44000884890556335,-0.2277090847492218],\"MAN3\":[-0.39963269233703613,-0.5532814860343933],\"MANAGER\":[0.13644838333129883,0.06210064888000488],\"MANDEL\":[0.14776857197284698,0.3030702769756317],\"MANINCAR\":[0.04927162826061249,-0.19208365678787231],\"MANINSHOWER\":[-0.4649548828601837,-0.6825847029685974],\"MAR\":[0.06090734153985977,-0.45753902196884155],\"MARCELINO\":[-0.03380538150668144,-0.5993365049362183],\"MARCY\":[-0.26651623845100403,0.01754208654165268],\"MARIO\":[0.07891666889190674,-0.4826439321041107],\"MARLA\":[-0.08433978259563446,0.09154745191335678],\"MARTY\":[0.4213531017303467,-0.17958509922027588],\"MARY\":[-0.07874093949794769,0.5606449246406555],\"MARYANNE\":[0.12932705879211426,0.3883807063102722],\"MARYEDITH\":[-0.017445998266339302,0.4688144326210022],\"MATTHEW\":[-0.6857865452766418,0.7100138664245605],\"MAURA\":[0.1540820151567459,0.4960379898548126],\"MAXWELL\":[-0.9864208698272705,-0.18460071086883545],\"MCADAM\":[0.5387384295463562,0.9370144605636597],\"MECHANIC\":[-0.028955113142728806,-0.12462048977613449],\"MEL\":[0.381547212600708,0.1660795658826828],\"MELANIE\":[-0.26291877031326294,-2.0],\"MELISSA\":[-0.07580982893705368,0.4399919807910919],\"MEMBER1:\":[-0.2385808676481247,-0.5736947059631348],\"MERYL\":[0.2925623059272766,-0.08108946681022644],\"MICHAEL\":[-0.0661112368106842,-0.17484433948993683],\"MICKEY\":[-0.1831503063440323,-0.03834250196814537],\"MIKE\":[-0.20774532854557037,0.10060546547174454],\"MILOS\":[0.2484508603811264,-0.3565347194671631],\"MINKLER\":[-0.8118702173233032,0.35871097445487976],\"MIRANDA\":[0.06639127433300018,-0.44533565640449524],\"MISHA\":[-0.4194040596485138,-0.4348311424255371],\"MODEL2:\":[-0.4785565137863159,-0.5211039185523987],\"MOHEL\":[-0.07836524397134781,-0.1885041743516922],\"MOLLY\":[0.12021343410015106,0.7037370204925537],\"MOM\":[-0.1891791671514511,0.0580969899892807],\"MONA\":[-0.2289084494113922,0.6062836050987244],\"MONICA\":[-0.2348795384168625,1.2586926221847534],\"MONK'SMANAGER:\":[1.1375923156738281,-0.3126487731933594],\"MOONEY\":[-0.8516373634338379,0.2371903955936432],\"MORGAN\":[0.12482976168394089,0.1308744251728058],\"MORGANEWMAN\":[0.33431485295295715,1.1884260177612305],\"MORTY\":[0.06313315778970718,0.010581346228718758],\"MOVIEPATRON\":[0.22527854144573212,-1.0289877653121948],\"MR. PITT\":[0.40755733847618103,0.0434284470975399],\"MR. STEINBRENNER\":[0.05410999432206154,0.35481032729148865],\"MR.ABBOTT\":[-0.4773913323879242,0.4583434462547302],\"MR.CROSS\":[-0.555578887462616,0.09924054145812988],\"MR.ELINOFF\":[0.6853498220443726,0.3400433361530304],\"MR.GREEN\":[0.2762161195278168,-1.2774064540863037],\"MR.LIPPMAN\":[0.21572646498680115,0.14899498224258423],\"MR.MORGAN\":[0.43375924229621887,0.9590800404548645],\"MR.PETERMAN\":[0.5140085816383362,0.020896287634968758],\"MR.PITT\":[0.25103050470352173,0.016660848632454872],\"MR.PLESS\":[-0.8270860910415649,-0.14731885492801666],\"MR.ROSS\":[0.05212331563234329,0.20820261538028717],\"MR.S\":[0.6389706134796143,-0.26575878262519836],\"MR.TUTTLE\":[-0.3233177661895752,0.7226671576499939],\"MRBURNS\":[-0.7810407280921936,1.0563451051712036],\"MRREICHMAN\":[-0.04269350692629814,-0.17290548980236053],\"MRROSS\":[0.3258790373802185,0.7423015832901001],\"MRS.C\":[0.6093400716781616,0.7618736028671265],\"MRS.COSTANZA\":[-0.19646410644054413,0.4102742075920105],\"MRS.ENRIGHT\":[-0.804186224937439,0.20882286131381989],\"MRS.O\":[-0.11355242878198624,-0.1643030345439911],\"MRS.PAYTON\":[0.6229321360588074,-0.07272354513406754],\"MRS.PETERMAN\":[0.7990580797195435,0.317574143409729],\"MRS.ROSS\":[0.04693392291665077,0.22814927995204926],\"MRS.S\":[0.6159125566482544,-0.3042250871658325],\"MRS.SANGER\":[0.26899245381355286,0.32427194714546204],\"MRS.SWEEDLER\":[-0.41399675607681274,-0.023860294371843338],\"MRS.ZANFINO\":[0.5158249735832214,0.11539995670318604],\"MRSHAMILTON\":[0.025396401062607765,-0.15925408899784088],\"MRSREICHMAN\":[-0.010359305888414383,-0.17940591275691986],\"MRSTAR\":[-0.7060476541519165,0.8609609603881836],\"MS.BAINES\":[-0.5804195404052734,0.008723432198166847],\"MS.DEGRANMONT\":[-0.04684735834598541,0.15865115821361542],\"MS.JORDAN\":[-0.7017754316329956,1.101388692855835],\"MYRA\":[-0.0678570419549942,-0.2672044336795807],\"NANA\":[0.331850528717041,-0.16340188682079315],\"NANCY\":[-0.6495358943939209,0.5000788569450378],\"NAOMI\":[-0.2599917948246002,-0.3269115388393402],\"NEMWAN\":[-0.7762294411659241,-0.33000364899635315],\"NEWMAN\":[-0.06781549006700516,-0.0472840815782547],\"NEWMANEWMAN\":[0.1239377036690712,-0.5771791934967041],\"NEWS\":[-0.10760948807001114,0.05874558165669441],\"NIKKI\":[0.23756393790245056,0.3168058693408966],\"NUN\":[-0.40431851148605347,-1.3186984062194824],\"NURSE\":[0.14287912845611572,0.46201080083847046],\"OFFSTAGE\":[0.20740361511707306,0.9234058856964111],\"OLDMAN\":[-0.21618850529193878,-0.382852166891098],\"OLDWOMAN\":[-1.2639137506484985,-0.6329464912414551],\"OLIVE\":[-0.2924986779689789,-0.16621461510658264],\"ORGANIZER\":[-0.3909904360771179,-0.9363972544670105],\"OTHER CO-WORKERS IN HALLWAY\":[0.010590002872049809,-0.3317602872848511],\"OWNER\":[0.15600809454917908,-0.44810619950294495],\"PAM\":[-0.30872517824172974,-0.3022550642490387],\"PARAMEDIC\":[-0.5139343738555908,0.5661353468894958],\"PASSERBY\":[-0.8727377653121948,-0.5491944551467896],\"PATIENT\":[0.3437466025352478,-0.41790345311164856],\"PATTY\":[0.3579574227333069,0.04085831716656685],\"PAUL\":[0.7914139032363892,-0.6495029926300049],\"PAULA\":[0.2192678600549698,-0.006155247334390879],\"PEGGY\":[0.35841816663742065,-0.09402409940958023],\"PENSKY\":[-0.3401487171649933,0.2950049638748169],\"PETE\":[-0.042844779789447784,0.9721561670303345],\"PETERMAN\":[0.09347808361053467,-0.02992508001625538],\"PHARMACIST\":[0.9136475920677185,-0.06652761250734329],\"PHIL\":[0.08386172354221344,0.10908780992031097],\"PHONE\":[0.13180391490459442,0.7130943536758423],\"PHONEMAN\":[0.20698203146457672,-0.204884335398674],\"PHOTOGRAPHER\":[0.06843681633472443,-0.5889575481414795],\"PING\":[-0.14811331033706665,0.2126137763261795],\"PITT\":[0.19186031818389893,-0.34845274686813354],\"PLAYER\":[0.6708877682685852,-0.3861953318119049],\"POLICE\":[-0.6149681210517883,-0.48520562052726746],\"POLICEOFFICER\":[0.41922467947006226,0.7118140459060669],\"POP\":[-0.20642434060573578,0.1107468381524086],\"POPPIE\":[0.5016379356384277,-0.12499683350324631],\"POSTAL WORKER DANNY\":[0.4659744203090668,0.02820112556219101],\"POSTALEMPLOYEE\":[-0.5834545493125916,-0.24846038222312927],\"POSTALWORKER\":[0.9811981916427612,0.06120815873146057],\"POSTMASTER GENERAL\":[-0.5370789766311646,-0.5341472029685974],\"PRIEST\":[-0.16575559973716736,0.749628484249115],\"PRISONER\":[-0.03494112193584442,-0.4980054199695587],\"PUDDY\":[0.09560218453407288,-0.0625237375497818],\"RABBI\":[0.3922255039215088,-0.032753609120845795],\"RACHEL\":[-0.17364606261253357,-0.1651020348072052],\"RADIO\":[0.8660005927085876,0.21382395923137665],\"RADIOANNOUNCER\":[-1.103581428527832,0.3074559271335602],\"RALPH\":[-0.3274843990802765,-0.1534864455461502],\"RAMON\":[0.12336269021034241,-0.4452395737171173],\"RAY\":[-0.36817800998687744,0.09035760909318924],\"RAYMOND\":[-0.007817739620804787,0.40684404969215393],\"READERS\":[-0.15465940535068512,1.0206454992294312],\"REBECCA\":[0.26870524883270264,0.3774755895137787],\"RECEPTIONIST\":[0.285171777009964,0.03133133798837662],\"REILLY\":[0.20968851447105408,0.4264022409915924],\"RENE\":[0.3039298951625824,-0.4462333619594574],\"REPORTER\":[0.7117220759391785,0.35402712225914],\"RESIDENT\":[-0.32195499539375305,-0.5224643349647522],\"RESTAURATEUR\":[-0.384056955575943,0.301523357629776],\"RESTON\":[-0.0007628593593835831,-0.48783525824546814],\"RHISA\":[-0.005431991536170244,0.5870690941810608],\"RICARDI\":[-0.1230921745300293,-0.335199773311615],\"RICK\":[-0.07525364309549332,-0.1151573583483696],\"RICKEY\":[0.24645790457725525,0.5984870791435242],\"RICKY\":[-0.0008879466913640499,0.25512421131134033],\"RITA\":[-0.0777592882514,0.4739062190055847],\"ROBIN\":[-0.1229926273226738,0.05109729617834091],\"ROGER\":[0.5761425495147705,0.060694608837366104],\"RON\":[-0.14847688376903534,-0.11293002218008041],\"RONNIE\":[-0.13383172452449799,-0.19434496760368347],\"ROY\":[0.27710795402526855,-0.13863545656204224],\"RUSSELL\":[-0.004623901564627886,0.26752927899360657],\"RUSTY\":[-1.1168745756149292,-0.3677629232406616],\"RUTHIE\":[-0.5850958228111267,-0.7611916661262512],\"SAILOR\":[0.7893986701965332,1.1320562362670898],\"SALESMAN\":[-0.004080702550709248,0.12159307301044464],\"SALESWOMAN\":[0.0037839990109205246,-0.06767135858535767],\"SALLY\":[0.11841070652008057,0.0762207955121994],\"SANDRA\":[-0.06274361163377762,0.547423779964447],\"SANDY\":[0.08532316982746124,0.16267970204353333],\"SARA\":[0.06079891696572304,0.3611530065536499],\"SASHA\":[-0.06421003490686417,0.7692515850067139],\"SCOTT\":[-0.2269795536994934,0.6544907093048096],\"SECONRAD\":[-0.8263437747955322,-0.41555535793304443],\"SECRETARY\":[-0.12920629978179932,0.21573230624198914],\"SECURITYGUARD\":[-1.5819159746170044,0.06414121389389038],\"SETH\":[0.1273198276758194,-0.17371314764022827],\"SHARON\":[0.020156368613243103,0.20613932609558105],\"SHEILA\":[0.10727058351039886,0.16381393373012543],\"SHELLBACH\":[-0.7542086839675903,-0.033749982714653015],\"SHELLY\":[0.17137934267520905,0.3249415159225464],\"SHLOMO\":[-0.38603606820106506,0.017553988844156265],\"SID\":[-0.09336057305335999,-0.3324173390865326],\"SIDRA\":[-0.01846790499985218,0.2455623745918274],\"SIENA\":[-0.7120720148086548,0.16598716378211975],\"SILVIO\":[-0.16896632313728333,-0.12029632180929184],\"SIMON\":[0.19821661710739136,0.02335972897708416],\"SISTERROBERTA\":[-0.3675060570240021,-0.09717768430709839],\"SKYCAP\":[0.4614033102989197,0.15492884814739227],\"SLIPPERTPETE\":[-0.46026086807250977,0.0444629080593586],\"SLIPPERY PETE\":[-0.6910610198974609,0.037973299622535706],\"SLIPPERYPETE\":[-0.3930188715457916,-0.0014004150871187449],\"SON\":[-0.11245975643396378,-0.9190369248390198],\"SOPHIE\":[-0.2281665802001953,-0.012950646691024303],\"SOUPNAZI\":[-0.052742041647434235,0.14930078387260437],\"SPIKE\":[-0.03560551628470421,0.334982693195343],\"SPONER\":[-0.44831913709640503,0.7497219443321228],\"SPONSER\":[-0.11313929408788681,1.2176085710525513],\"SPONSOR\":[-0.5141726136207581,0.7263756394386292],\"STACEY\":[-0.24307383596897125,0.23460359871387482],\"STAGE HAND\":[-0.14468467235565186,-0.9234703779220581],\"STAGEHAND\":[0.4146568179130554,0.41811057925224304],\"STAN\":[-0.053564198315143585,-0.05760464817285538],\"STEFANIE\":[-0.4505908489227295,-0.3759715259075165],\"STEIN\":[-0.19789178669452667,-0.7213224172592163],\"STEINBRENNER\":[-0.08535022288560867,-0.04414629191160202],\"STEVE\":[-0.35696280002593994,0.4898606836795807],\"STEVEN\":[-0.2678569257259369,-0.18777139484882355],\"STEWARDESS\":[-0.03044036217033863,0.1733783483505249],\"STRANGER\":[1.1282930374145508,1.125533103942871],\"STUDENT3:\":[-0.4546985924243927,-0.8223338723182678],\"SUEELLEN\":[0.39407476782798767,0.2691941261291504],\"SUPER\":[0.1488361358642578,-0.008680582046508789],\"SUPERVISOR\":[-0.5675113201141357,-0.24630749225616455],\"SUSAN\":[0.022669799625873566,0.13081686198711395],\"SYLVIA\":[-0.03906770423054695,-0.3521363139152527],\"TAMMY\":[-0.3362400531768799,-0.15646213293075562],\"TANNOY\":[0.21310222148895264,-0.3824091851711273],\"TAPEPLAYER\":[-0.514449417591095,-0.4121306240558624],\"TAPERECORDER\":[-1.7729688882827759,-1.0540350675582886],\"TARA\":[-0.618439793586731,-0.4092135727405548],\"TAWNI\":[-0.19106997549533844,0.37900498509407043],\"TEACHER\":[0.22013244032859802,-0.15581808984279633],\"TESTIKOV\":[0.2552613914012909,0.17863179743289948],\"THEDRAKE\":[0.4408922493457794,-0.3298521637916565],\"THEGIRLS\":[-0.06394016742706299,0.7130545377731323],\"THOMASSOULO\":[0.38927578926086426,0.18903829157352448],\"TIA\":[-0.07113377004861832,-0.2374793142080307],\"TICKETLADY\":[0.5674184560775757,-0.15427635610103607],\"TICKETMAN\":[-0.10852967947721481,-0.6151451468467712],\"TIM\":[-0.04801837354898453,-0.04455813020467758],\"TIMMY\":[0.20688442885875702,0.7531611919403076],\"TOBY\":[-0.046630509197711945,-0.20459607243537903],\"TODD\":[0.06439117342233658,0.13540677726268768],\"TONY\":[-0.08199753612279892,0.00750047666952014],\"TUTTLE\":[-0.6954228281974792,-0.5147506594657898],\"TV\":[0.1019948422908783,-0.3805508315563202],\"TVANNOUNCER\":[0.7221397757530212,-0.07194726914167404],\"UKRAINIAN\":[-0.6398319005966187,-0.3646104335784912],\"UNCLE LEO\":[0.7835584878921509,-0.004981417674571276],\"UNCLELEO\":[0.2447252869606018,0.013766528107225895],\"USHER\":[-0.00812483113259077,0.2459954172372818],\"VALERIE\":[-0.006070413161069155,-0.10533670336008072],\"VARGUS\":[0.6680557727813721,-0.5095812082290649],\"VENDER\":[0.5073609948158264,0.5046603679656982],\"VET\":[0.3425206243991852,-0.2476988136768341],\"VINCENT\":[0.4926084876060486,0.17466753721237183],\"VIVIAN\":[0.372142493724823,-0.07853101938962936],\"VOICE\":[0.15346631407737732,0.13391396403312683],\"VOICE FROM POKER GAME\":[-0.8823164701461792,-0.3454112708568573],\"VOICE ON SPEAKER\":[-0.8665140867233276,0.5213004350662231],\"VOICE ON THE PHONE\":[0.2783101499080658,-0.13129469752311707],\"WAITER\":[-0.20959068834781647,0.2005973905324936],\"WAITRESS\":[0.13484995067119598,0.0796191468834877],\"WALTER\":[0.3581100106239319,0.1260310858488083],\"WATKINS\":[0.31140050292015076,0.3407813012599945],\"WENDY\":[0.10741406679153442,0.005679569207131863],\"WHATLEY\":[-0.4813653528690338,-0.11329013854265213],\"WILHELM\":[-0.08559910207986832,0.14543497562408447],\"WILKIE\":[-0.8079466223716736,0.27979952096939087],\"WILLIAMS\":[-0.2574365735054016,-1.1597427129745483],\"WILLIE\":[0.05973178148269653,-0.16123276948928833],\"WILLIESR\":[0.5651296973228455,-0.1688925176858902],\"WINONA\":[0.23653510212898254,-0.24234625697135925],\"WOMAN\":[0.09621918201446533,-0.0216989666223526],\"WOMANATBEACH\":[1.2918314933776855,0.8769690990447998],\"WOMANEWMAN\":[0.3866063058376312,-0.7954333424568176],\"WORKER\":[-0.16502586007118225,0.2556098401546478],\"WORKERS\":[-0.48670557141304016,0.46673640608787537],\"WYCK\":[-0.21536114811897278,-0.006414078176021576],\"ZACH\":[0.5550846457481384,-0.5226274728775024],\"ZEKE\":[-0.3289622664451599,0.5763929486274719]}},\"id\":\"8651\",\"type\":\"StaticLayoutProvider\"},{\"attributes\":{},\"id\":\"8662\",\"type\":\"ResetTool\"},{\"attributes\":{\"dimension\":1,\"plot\":{\"id\":\"8613\",\"subtype\":\"Figure\",\"type\":\"Plot\"},\"ticker\":{\"id\":\"8629\",\"type\":\"BasicTicker\"}},\"id\":\"8632\",\"type\":\"Grid\"},{\"attributes\":{\"line_width\":{\"field\":\"line_width\"}},\"id\":\"8647\",\"type\":\"MultiLine\"},{\"attributes\":{\"bottom_units\":\"screen\",\"fill_alpha\":{\"value\":0.5},\"fill_color\":{\"value\":\"lightgrey\"},\"left_units\":\"screen\",\"level\":\"overlay\",\"line_alpha\":{\"value\":1.0},\"line_color\":{\"value\":\"black\"},\"line_dash\":[4,4],\"line_width\":{\"value\":2},\"plot\":null,\"render_mode\":\"css\",\"right_units\":\"screen\",\"top_units\":\"screen\"},\"id\":\"8664\",\"type\":\"BoxAnnotation\"},{\"attributes\":{\"plot\":null,\"text\":\"senfiled charcters scenes\"},\"id\":\"8612\",\"type\":\"Title\"},{\"attributes\":{\"formatter\":{\"id\":\"9043\",\"type\":\"BasicTickFormatter\"},\"plot\":{\"id\":\"8613\",\"subtype\":\"Figure\",\"type\":\"Plot\"},\"ticker\":{\"id\":\"8629\",\"type\":\"BasicTicker\"}},\"id\":\"8628\",\"type\":\"LinearAxis\"}],\"root_ids\":[\"8613\"]},\"title\":\"Bokeh Application\",\"version\":\"1.0.4\"}};\n",
       "  var render_items = [{\"docid\":\"664a0fe6-7380-42af-91c4-26349db3cea6\",\"roots\":{\"8613\":\"e036a452-f3fd-48ad-8995-71933fdad969\"}}];\n",
       "  root.Bokeh.embed.embed_items_notebook(docs_json, render_items);\n",
       "\n",
       "  }\n",
       "  if (root.Bokeh !== undefined) {\n",
       "    embed_document(root);\n",
       "  } else {\n",
       "    var attempts = 0;\n",
       "    var timer = setInterval(function(root) {\n",
       "      if (root.Bokeh !== undefined) {\n",
       "        embed_document(root);\n",
       "        clearInterval(timer);\n",
       "      }\n",
       "      attempts++;\n",
       "      if (attempts > 100) {\n",
       "        console.log(\"Bokeh: ERROR: Unable to run BokehJS code because BokehJS library is missing\");\n",
       "        clearInterval(timer);\n",
       "      }\n",
       "    }, 10, root)\n",
       "  }\n",
       "})(window);"
      ],
      "application/vnd.bokehjs_exec.v0+json": ""
     },
     "metadata": {
      "application/vnd.bokehjs_exec.v0+json": {
       "id": "8613"
      }
     },
     "output_type": "display_data"
    }
   ],
   "source": [
    "\n",
    "g = nx.from_pandas_edgelist(weight_graph, source='char_1', target='char_2', \n",
    "                            edge_attr='weight')\n",
    "plot = figure(title=\"senfiled charcters scenes\", x_range=(-2.1,2.1), \n",
    "              y_range=(-2.1,2.1), tools=\"pan,box_select\")\n",
    "\n",
    "\n",
    "pos = nx.spring_layout\n",
    "graph = from_networkx(g, pos, scale=2, center=(0,0))\n",
    "\n",
    "edge_weight = np.array([g.get_edge_data(a,b)['weight'] for a, b in g.edges()])\n",
    "edge_weight = edge_weight * 100 / np.sum(edge_weight)\n",
    "\n",
    "# nx.draw_networkx_edges(g, pos, width=edge_weight)\n",
    "graph.edge_renderer.data_source.data[\"line_width\"] = edge_weight\n",
    "\n",
    "graph.edge_renderer.glyph.line_width = {'field': 'line_width'}\n",
    "\n",
    "# edge_attrs = {}\n",
    "\n",
    "node_hover_tool = HoverTool(tooltips=[(\"name\", \"@index\")])\n",
    "plot.add_tools(node_hover_tool, BoxZoomTool(), ResetTool())\n",
    "\n",
    "# for start_node, end_node, _ in g.edges(data=True):\n",
    "#     print(start_node)\n",
    "#     print(end_node)\n",
    "#     edge_color = SAME_CLUB_COLOR if G.nodes[start_node][\"club\"] == G.nodes[end_node][\"club\"] else DIFFERENT_CLUB_COLOR\n",
    "#     edge_attrs[(start_node, end_node)] = edge_color\n",
    "\n",
    "plot.renderers.append(graph)\n",
    "show(plot)"
   ]
  },
  {
   "cell_type": "code",
   "execution_count": 96,
   "metadata": {},
   "outputs": [
    {
     "data": {
      "text/plain": [
       "17186"
      ]
     },
     "execution_count": 96,
     "metadata": {},
     "output_type": "execute_result"
    }
   ],
   "source": [
    "np.max(edge_weight)"
   ]
  },
  {
   "cell_type": "code",
   "execution_count": 138,
   "metadata": {},
   "outputs": [
    {
     "data": {
      "text/plain": [
       "[('HELEN', 'JERRY'), ('HELEN', 'MORTY'), ('JERRY', 'MORTY')]"
      ]
     },
     "execution_count": 138,
     "metadata": {},
     "output_type": "execute_result"
    }
   ],
   "source": [
    "import itertools\n",
    "def scene_chars(x, df):\n",
    "    cur_df = pd.DataFrame()\n",
    "    for comb in list(itertools.combinations(df.loc['scene_characters'], 2)):\n",
    "        \n",
    "    \n",
    "# create dataframe with graph layout\n",
    "community_df.apply(lambda x: )"
   ]
  },
  {
   "cell_type": "code",
   "execution_count": 23,
   "metadata": {},
   "outputs": [
    {
     "name": "stdout",
     "output_type": "stream",
     "text": [
      "scene with 1 charcters funny precentage:  0.5032030749519538 amount:  3122\n",
      "scene with 2 charcters funny precentage:  0.2943139678615575 amount:  16180\n",
      "scene with 3 charcters funny precentage:  0.27437231395611855 amount:  13263\n",
      "scene with 4 charcters funny precentage:  0.259865005192108 amount:  7704\n",
      "scene with 5 charcters funny precentage:  0.2531400966183575 amount:  3105\n",
      "scene with 6 charcters funny precentage:  0.25443425076452597 amount:  1635\n",
      "scene with 7 charcters funny precentage:  0.25895598771750256 amount:  977\n",
      "scene with 8 charcters funny precentage:  0.2864864864864865 amount:  185\n",
      "scene with 9 charcters funny precentage:  0.22510822510822512 amount:  231\n",
      "scene with 10 charcters funny precentage:  0.2736842105263158 amount:  95\n",
      "total funny: 0.29163171817536615\n"
     ]
    }
   ],
   "source": [
    "for i in sorted(df.n_scene_characters.unique()):\n",
    "    print('scene with %d charcters funny precentage: ' % i, sum(df[(df.n_scene_characters == i)].is_funny) / len(df[(df.n_scene_characters == i)]), 'amount: ', len(df[(df.n_scene_characters == i)]))\n",
    "print('total funny:', sum(df.is_funny) / len(df))"
   ]
  },
  {
   "cell_type": "code",
   "execution_count": 24,
   "metadata": {},
   "outputs": [
    {
     "ename": "NameError",
     "evalue": "name 'number_rows_scence' is not defined",
     "output_type": "error",
     "traceback": [
      "\u001b[0;31m---------------------------------------------------------------------------\u001b[0m",
      "\u001b[0;31mNameError\u001b[0m                                 Traceback (most recent call last)",
      "\u001b[0;32m<ipython-input-24-c45e897de6f8>\u001b[0m in \u001b[0;36m<module>\u001b[0;34m\u001b[0m\n\u001b[1;32m      1\u001b[0m \u001b[0;31m# Add to the df\u001b[0m\u001b[0;34m\u001b[0m\u001b[0;34m\u001b[0m\u001b[0m\n\u001b[0;32m----> 2\u001b[0;31m \u001b[0mdf\u001b[0m\u001b[0;34m[\u001b[0m\u001b[0;34m'scence_text'\u001b[0m\u001b[0;34m]\u001b[0m \u001b[0;34m=\u001b[0m \u001b[0;34m[\u001b[0m\u001b[0mtext_for_scene\u001b[0m\u001b[0;34m[\u001b[0m\u001b[0mi\u001b[0m\u001b[0;34m]\u001b[0m \u001b[0;32mfor\u001b[0m \u001b[0mi\u001b[0m \u001b[0;32min\u001b[0m \u001b[0mrange\u001b[0m\u001b[0;34m(\u001b[0m\u001b[0mlen\u001b[0m\u001b[0;34m(\u001b[0m\u001b[0mnumber_rows_scence\u001b[0m\u001b[0;34m)\u001b[0m\u001b[0;34m)\u001b[0m \u001b[0;32mfor\u001b[0m \u001b[0m_\u001b[0m \u001b[0;32min\u001b[0m \u001b[0mrange\u001b[0m\u001b[0;34m(\u001b[0m\u001b[0mnumber_rows_scence\u001b[0m\u001b[0;34m[\u001b[0m\u001b[0mi\u001b[0m\u001b[0;34m]\u001b[0m\u001b[0;34m)\u001b[0m\u001b[0;34m]\u001b[0m\u001b[0;34m\u001b[0m\u001b[0m\n\u001b[0m\u001b[1;32m      3\u001b[0m \u001b[0mdf\u001b[0m\u001b[0;34m[\u001b[0m\u001b[0;34m'scence_charcteres'\u001b[0m\u001b[0;34m]\u001b[0m \u001b[0;34m=\u001b[0m \u001b[0;34m[\u001b[0m\u001b[0mcharcteres_scence\u001b[0m\u001b[0;34m[\u001b[0m\u001b[0mi\u001b[0m\u001b[0;34m]\u001b[0m \u001b[0;32mfor\u001b[0m \u001b[0mi\u001b[0m \u001b[0;32min\u001b[0m \u001b[0mrange\u001b[0m\u001b[0;34m(\u001b[0m\u001b[0mlen\u001b[0m\u001b[0;34m(\u001b[0m\u001b[0mnumber_rows_scence\u001b[0m\u001b[0;34m)\u001b[0m\u001b[0;34m)\u001b[0m \u001b[0;32mfor\u001b[0m \u001b[0m_\u001b[0m \u001b[0;32min\u001b[0m \u001b[0mrange\u001b[0m\u001b[0;34m(\u001b[0m\u001b[0mnumber_rows_scence\u001b[0m\u001b[0;34m[\u001b[0m\u001b[0mi\u001b[0m\u001b[0;34m]\u001b[0m\u001b[0;34m)\u001b[0m\u001b[0;34m]\u001b[0m\u001b[0;34m\u001b[0m\u001b[0m\n\u001b[1;32m      4\u001b[0m \u001b[0mdf\u001b[0m\u001b[0;34m[\u001b[0m\u001b[0;34m'n_scence_charcteres'\u001b[0m\u001b[0;34m]\u001b[0m \u001b[0;34m=\u001b[0m \u001b[0mdf\u001b[0m\u001b[0;34m.\u001b[0m\u001b[0mscence_charcteres\u001b[0m\u001b[0;34m.\u001b[0m\u001b[0mstr\u001b[0m\u001b[0;34m.\u001b[0m\u001b[0mlen\u001b[0m\u001b[0;34m(\u001b[0m\u001b[0;34m)\u001b[0m\u001b[0;34m\u001b[0m\u001b[0m\n",
      "\u001b[0;31mNameError\u001b[0m: name 'number_rows_scence' is not defined"
     ]
    }
   ],
   "source": [
    "# Add to the df\n",
    "df['scence_text'] = [text_for_scene[i] for i in range(len(number_rows_scence)) for _ in range(number_rows_scence[i])]\n",
    "df['scence_charcteres'] = [charcteres_scence[i] for i in range(len(number_rows_scence)) for _ in range(number_rows_scence[i])]\n",
    "df['n_scence_charcteres'] = df.scence_charcteres.str.len()"
   ]
  },
  {
   "cell_type": "code",
   "execution_count": null,
   "metadata": {},
   "outputs": [],
   "source": [
    "from seinfeld_laugh_corpus import corpus\n",
    "seinfeld = corpus.load(fold_laughs=True)"
   ]
  },
  {
   "cell_type": "code",
   "execution_count": null,
   "metadata": {},
   "outputs": [],
   "source": [
    "a = seinfeld.screenplays[0]"
   ]
  },
  {
   "cell_type": "markdown",
   "metadata": {},
   "source": [
    "# Plots"
   ]
  },
  {
   "cell_type": "code",
   "execution_count": null,
   "metadata": {},
   "outputs": [],
   "source": [
    "df.n_scene_characters"
   ]
  },
  {
   "cell_type": "code",
   "execution_count": 7,
   "metadata": {},
   "outputs": [
    {
     "name": "stderr",
     "output_type": "stream",
     "text": [
      "/usr/local/lib/python3.5/dist-packages/matplotlib/axes/_axes.py:6510: MatplotlibDeprecationWarning: \n",
      "The 'normed' kwarg was deprecated in Matplotlib 2.1 and will be removed in 3.1. Use 'density' instead.\n",
      "  alternative=\"'density'\", removal=\"3.1\")\n"
     ]
    },
    {
     "data": {
      "image/png": "[encoded data removed]",
      "text/plain": [
       "<Figure size 432x288 with 1 Axes>"
      ]
     },
     "metadata": {
      "needs_background": "light"
     },
     "output_type": "display_data"
    }
   ],
   "source": [
    "plt.hist(df[df.is_funny].n_scene_characters, bins=100, alpha=0.5, color='b', label='funny', normed=1)\n",
    "plt.hist(df[~df.is_funny].n_scene_characters, bins=100, alpha=0.5, color='g', label='not funny', normed=1)\n",
    "plt.legend()\n",
    "plt.show()"
   ]
  },
  {
   "cell_type": "code",
   "execution_count": 25,
   "metadata": {},
   "outputs": [
    {
     "data": {
      "image/png": "[encoded data removed]",
      "text/plain": [
       "<Figure size 432x288 with 1 Axes>"
      ]
     },
     "metadata": {
      "needs_background": "light"
     },
     "output_type": "display_data"
    }
   ],
   "source": [
    "plt.hist(df[df.is_funny].length, bins=100, alpha=0.5, color='b', label='funny')\n",
    "plt.hist(df[~df.is_funny].length, bins=100, alpha=0.5, color='g', label='not funny')\n",
    "plt.legend()\n",
    "plt.show()"
   ]
  },
  {
   "cell_type": "code",
   "execution_count": 26,
   "metadata": {},
   "outputs": [
    {
     "data": {
      "image/png": "[encoded data removed]",
      "text/plain": [
       "<Figure size 432x288 with 1 Axes>"
      ]
     },
     "metadata": {
      "needs_background": "light"
     },
     "output_type": "display_data"
    }
   ],
   "source": [
    "plt.hist(df[df.is_funny].start, bins=100, alpha=0.5, color='b', label='funny', density=1)\n",
    "plt.hist(df[~df.is_funny].start, bins=100, alpha=0.5, color='g', label='not funny', density=1)\n",
    "plt.legend()\n",
    "plt.show()"
   ]
  },
  {
   "cell_type": "code",
   "execution_count": 27,
   "metadata": {},
   "outputs": [
    {
     "ename": "ValueError",
     "evalue": "Image size of 124416x432 pixels is too large. It must be less than 2^16 in each direction.",
     "output_type": "error",
     "traceback": [
      "\u001b[0;31m---------------------------------------------------------------------------\u001b[0m",
      "\u001b[0;31mValueError\u001b[0m                                Traceback (most recent call last)",
      "\u001b[0;32m<ipython-input-27-f9d99495a1d6>\u001b[0m in \u001b[0;36m<module>\u001b[0;34m\u001b[0m\n\u001b[0;32m----> 1\u001b[0;31m \u001b[0mg\u001b[0m \u001b[0;34m=\u001b[0m \u001b[0msns\u001b[0m\u001b[0;34m.\u001b[0m\u001b[0mFacetGrid\u001b[0m\u001b[0;34m(\u001b[0m\u001b[0mdf\u001b[0m\u001b[0;34m,\u001b[0m \u001b[0mcol\u001b[0m\u001b[0;34m=\u001b[0m\u001b[0;34m'character'\u001b[0m\u001b[0;34m,\u001b[0m \u001b[0mrow\u001b[0m\u001b[0;34m=\u001b[0m\u001b[0;34m'is_funny'\u001b[0m\u001b[0;34m)\u001b[0m\u001b[0;34m\u001b[0m\u001b[0m\n\u001b[0m\u001b[1;32m      2\u001b[0m \u001b[0mg\u001b[0m\u001b[0;34m.\u001b[0m\u001b[0mmap\u001b[0m\u001b[0;34m(\u001b[0m\u001b[0msns\u001b[0m\u001b[0;34m.\u001b[0m\u001b[0mdistplot\u001b[0m\u001b[0;34m,\u001b[0m \u001b[0;34m\"start\"\u001b[0m\u001b[0;34m,\u001b[0m \u001b[0mbins\u001b[0m\u001b[0;34m=\u001b[0m\u001b[0;36m50\u001b[0m\u001b[0;34m,\u001b[0m \u001b[0mcolor\u001b[0m\u001b[0;34m=\u001b[0m\u001b[0;34m'b'\u001b[0m\u001b[0;34m)\u001b[0m\u001b[0;34m\u001b[0m\u001b[0m\n\u001b[1;32m      3\u001b[0m \u001b[0mplt\u001b[0m\u001b[0;34m.\u001b[0m\u001b[0mshow\u001b[0m\u001b[0;34m(\u001b[0m\u001b[0;34m)\u001b[0m\u001b[0;34m\u001b[0m\u001b[0m\n",
      "\u001b[0;32m~/.local/lib/python3.5/site-packages/seaborn/axisgrid.py\u001b[0m in \u001b[0;36m__init__\u001b[0;34m(self, data, row, col, hue, col_wrap, sharex, sharey, height, aspect, palette, row_order, col_order, hue_order, hue_kws, dropna, legend_out, despine, margin_titles, xlim, ylim, subplot_kws, gridspec_kws, size)\u001b[0m\n\u001b[1;32m    373\u001b[0m \u001b[0;34m\u001b[0m\u001b[0m\n\u001b[1;32m    374\u001b[0m         \u001b[0;31m# Make the axes look good\u001b[0m\u001b[0;34m\u001b[0m\u001b[0;34m\u001b[0m\u001b[0m\n\u001b[0;32m--> 375\u001b[0;31m         \u001b[0mfig\u001b[0m\u001b[0;34m.\u001b[0m\u001b[0mtight_layout\u001b[0m\u001b[0;34m(\u001b[0m\u001b[0;34m)\u001b[0m\u001b[0;34m\u001b[0m\u001b[0m\n\u001b[0m\u001b[1;32m    376\u001b[0m         \u001b[0;32mif\u001b[0m \u001b[0mdespine\u001b[0m\u001b[0;34m:\u001b[0m\u001b[0;34m\u001b[0m\u001b[0m\n\u001b[1;32m    377\u001b[0m             \u001b[0mself\u001b[0m\u001b[0;34m.\u001b[0m\u001b[0mdespine\u001b[0m\u001b[0;34m(\u001b[0m\u001b[0;34m)\u001b[0m\u001b[0;34m\u001b[0m\u001b[0m\n",
      "\u001b[0;32m/usr/local/lib/python3.5/dist-packages/matplotlib/figure.py\u001b[0m in \u001b[0;36mtight_layout\u001b[0;34m(self, renderer, pad, h_pad, w_pad, rect)\u001b[0m\n\u001b[1;32m   2361\u001b[0m \u001b[0;34m\u001b[0m\u001b[0m\n\u001b[1;32m   2362\u001b[0m         \u001b[0;32mif\u001b[0m \u001b[0mrenderer\u001b[0m \u001b[0;32mis\u001b[0m \u001b[0;32mNone\u001b[0m\u001b[0;34m:\u001b[0m\u001b[0;34m\u001b[0m\u001b[0m\n\u001b[0;32m-> 2363\u001b[0;31m             \u001b[0mrenderer\u001b[0m \u001b[0;34m=\u001b[0m \u001b[0mget_renderer\u001b[0m\u001b[0;34m(\u001b[0m\u001b[0mself\u001b[0m\u001b[0;34m)\u001b[0m\u001b[0;34m\u001b[0m\u001b[0m\n\u001b[0m\u001b[1;32m   2364\u001b[0m \u001b[0;34m\u001b[0m\u001b[0m\n\u001b[1;32m   2365\u001b[0m         kwargs = get_tight_layout_figure(\n",
      "\u001b[0;32m/usr/local/lib/python3.5/dist-packages/matplotlib/tight_layout.py\u001b[0m in \u001b[0;36mget_renderer\u001b[0;34m(fig)\u001b[0m\n\u001b[1;32m    226\u001b[0m \u001b[0;34m\u001b[0m\u001b[0m\n\u001b[1;32m    227\u001b[0m         \u001b[0;32mif\u001b[0m \u001b[0mcanvas\u001b[0m \u001b[0;32mand\u001b[0m \u001b[0mhasattr\u001b[0m\u001b[0;34m(\u001b[0m\u001b[0mcanvas\u001b[0m\u001b[0;34m,\u001b[0m \u001b[0;34m\"get_renderer\"\u001b[0m\u001b[0;34m)\u001b[0m\u001b[0;34m:\u001b[0m\u001b[0;34m\u001b[0m\u001b[0m\n\u001b[0;32m--> 228\u001b[0;31m             \u001b[0mrenderer\u001b[0m \u001b[0;34m=\u001b[0m \u001b[0mcanvas\u001b[0m\u001b[0;34m.\u001b[0m\u001b[0mget_renderer\u001b[0m\u001b[0;34m(\u001b[0m\u001b[0;34m)\u001b[0m\u001b[0;34m\u001b[0m\u001b[0m\n\u001b[0m\u001b[1;32m    229\u001b[0m         \u001b[0;32melse\u001b[0m\u001b[0;34m:\u001b[0m\u001b[0;34m\u001b[0m\u001b[0m\n\u001b[1;32m    230\u001b[0m             \u001b[0;31m# not sure if this can happen\u001b[0m\u001b[0;34m\u001b[0m\u001b[0;34m\u001b[0m\u001b[0m\n",
      "\u001b[0;32m/usr/local/lib/python3.5/dist-packages/matplotlib/backends/backend_agg.py\u001b[0m in \u001b[0;36mget_renderer\u001b[0;34m(self, cleared)\u001b[0m\n\u001b[1;32m    415\u001b[0m \u001b[0;34m\u001b[0m\u001b[0m\n\u001b[1;32m    416\u001b[0m         \u001b[0;32mif\u001b[0m \u001b[0mneed_new_renderer\u001b[0m\u001b[0;34m:\u001b[0m\u001b[0;34m\u001b[0m\u001b[0m\n\u001b[0;32m--> 417\u001b[0;31m             \u001b[0mself\u001b[0m\u001b[0;34m.\u001b[0m\u001b[0mrenderer\u001b[0m \u001b[0;34m=\u001b[0m \u001b[0mRendererAgg\u001b[0m\u001b[0;34m(\u001b[0m\u001b[0mw\u001b[0m\u001b[0;34m,\u001b[0m \u001b[0mh\u001b[0m\u001b[0;34m,\u001b[0m \u001b[0mself\u001b[0m\u001b[0;34m.\u001b[0m\u001b[0mfigure\u001b[0m\u001b[0;34m.\u001b[0m\u001b[0mdpi\u001b[0m\u001b[0;34m)\u001b[0m\u001b[0;34m\u001b[0m\u001b[0m\n\u001b[0m\u001b[1;32m    418\u001b[0m             \u001b[0mself\u001b[0m\u001b[0;34m.\u001b[0m\u001b[0m_lastKey\u001b[0m \u001b[0;34m=\u001b[0m \u001b[0mkey\u001b[0m\u001b[0;34m\u001b[0m\u001b[0m\n\u001b[1;32m    419\u001b[0m         \u001b[0;32melif\u001b[0m \u001b[0mcleared\u001b[0m\u001b[0;34m:\u001b[0m\u001b[0;34m\u001b[0m\u001b[0m\n",
      "\u001b[0;32m/usr/local/lib/python3.5/dist-packages/matplotlib/backends/backend_agg.py\u001b[0m in \u001b[0;36m__init__\u001b[0;34m(self, width, height, dpi)\u001b[0m\n\u001b[1;32m     85\u001b[0m         \u001b[0mself\u001b[0m\u001b[0;34m.\u001b[0m\u001b[0mwidth\u001b[0m \u001b[0;34m=\u001b[0m \u001b[0mwidth\u001b[0m\u001b[0;34m\u001b[0m\u001b[0m\n\u001b[1;32m     86\u001b[0m         \u001b[0mself\u001b[0m\u001b[0;34m.\u001b[0m\u001b[0mheight\u001b[0m \u001b[0;34m=\u001b[0m \u001b[0mheight\u001b[0m\u001b[0;34m\u001b[0m\u001b[0m\n\u001b[0;32m---> 87\u001b[0;31m         \u001b[0mself\u001b[0m\u001b[0;34m.\u001b[0m\u001b[0m_renderer\u001b[0m \u001b[0;34m=\u001b[0m \u001b[0m_RendererAgg\u001b[0m\u001b[0;34m(\u001b[0m\u001b[0mint\u001b[0m\u001b[0;34m(\u001b[0m\u001b[0mwidth\u001b[0m\u001b[0;34m)\u001b[0m\u001b[0;34m,\u001b[0m \u001b[0mint\u001b[0m\u001b[0;34m(\u001b[0m\u001b[0mheight\u001b[0m\u001b[0;34m)\u001b[0m\u001b[0;34m,\u001b[0m \u001b[0mdpi\u001b[0m\u001b[0;34m)\u001b[0m\u001b[0;34m\u001b[0m\u001b[0m\n\u001b[0m\u001b[1;32m     88\u001b[0m         \u001b[0mself\u001b[0m\u001b[0;34m.\u001b[0m\u001b[0m_filter_renderers\u001b[0m \u001b[0;34m=\u001b[0m \u001b[0;34m[\u001b[0m\u001b[0;34m]\u001b[0m\u001b[0;34m\u001b[0m\u001b[0m\n\u001b[1;32m     89\u001b[0m \u001b[0;34m\u001b[0m\u001b[0m\n",
      "\u001b[0;31mValueError\u001b[0m: Image size of 124416x432 pixels is too large. It must be less than 2^16 in each direction."
     ]
    },
    {
     "name": "stdout",
     "output_type": "stream",
     "text": [
      "Error in callback <function install_repl_displayhook.<locals>.post_execute at 0x7fd2f4c147b8> (for post_execute):\n"
     ]
    },
    {
     "ename": "ValueError",
     "evalue": "Image size of 124416x432 pixels is too large. It must be less than 2^16 in each direction.",
     "output_type": "error",
     "traceback": [
      "\u001b[0;31m---------------------------------------------------------------------------\u001b[0m",
      "\u001b[0;31mValueError\u001b[0m                                Traceback (most recent call last)",
      "\u001b[0;32m/usr/local/lib/python3.5/dist-packages/matplotlib/pyplot.py\u001b[0m in \u001b[0;36mpost_execute\u001b[0;34m()\u001b[0m\n\u001b[1;32m    107\u001b[0m             \u001b[0;32mdef\u001b[0m \u001b[0mpost_execute\u001b[0m\u001b[0;34m(\u001b[0m\u001b[0;34m)\u001b[0m\u001b[0;34m:\u001b[0m\u001b[0;34m\u001b[0m\u001b[0m\n\u001b[1;32m    108\u001b[0m                 \u001b[0;32mif\u001b[0m \u001b[0mmatplotlib\u001b[0m\u001b[0;34m.\u001b[0m\u001b[0mis_interactive\u001b[0m\u001b[0;34m(\u001b[0m\u001b[0;34m)\u001b[0m\u001b[0;34m:\u001b[0m\u001b[0;34m\u001b[0m\u001b[0m\n\u001b[0;32m--> 109\u001b[0;31m                     \u001b[0mdraw_all\u001b[0m\u001b[0;34m(\u001b[0m\u001b[0;34m)\u001b[0m\u001b[0;34m\u001b[0m\u001b[0m\n\u001b[0m\u001b[1;32m    110\u001b[0m \u001b[0;34m\u001b[0m\u001b[0m\n\u001b[1;32m    111\u001b[0m             \u001b[0;31m# IPython >= 2\u001b[0m\u001b[0;34m\u001b[0m\u001b[0;34m\u001b[0m\u001b[0m\n",
      "\u001b[0;32m/usr/local/lib/python3.5/dist-packages/matplotlib/_pylab_helpers.py\u001b[0m in \u001b[0;36mdraw_all\u001b[0;34m(cls, force)\u001b[0m\n\u001b[1;32m    130\u001b[0m         \u001b[0;32mfor\u001b[0m \u001b[0mf_mgr\u001b[0m \u001b[0;32min\u001b[0m \u001b[0mcls\u001b[0m\u001b[0;34m.\u001b[0m\u001b[0mget_all_fig_managers\u001b[0m\u001b[0;34m(\u001b[0m\u001b[0;34m)\u001b[0m\u001b[0;34m:\u001b[0m\u001b[0;34m\u001b[0m\u001b[0m\n\u001b[1;32m    131\u001b[0m             \u001b[0;32mif\u001b[0m \u001b[0mforce\u001b[0m \u001b[0;32mor\u001b[0m \u001b[0mf_mgr\u001b[0m\u001b[0;34m.\u001b[0m\u001b[0mcanvas\u001b[0m\u001b[0;34m.\u001b[0m\u001b[0mfigure\u001b[0m\u001b[0;34m.\u001b[0m\u001b[0mstale\u001b[0m\u001b[0;34m:\u001b[0m\u001b[0;34m\u001b[0m\u001b[0m\n\u001b[0;32m--> 132\u001b[0;31m                 \u001b[0mf_mgr\u001b[0m\u001b[0;34m.\u001b[0m\u001b[0mcanvas\u001b[0m\u001b[0;34m.\u001b[0m\u001b[0mdraw_idle\u001b[0m\u001b[0;34m(\u001b[0m\u001b[0;34m)\u001b[0m\u001b[0;34m\u001b[0m\u001b[0m\n\u001b[0m\u001b[1;32m    133\u001b[0m \u001b[0;34m\u001b[0m\u001b[0m\n\u001b[1;32m    134\u001b[0m \u001b[0matexit\u001b[0m\u001b[0;34m.\u001b[0m\u001b[0mregister\u001b[0m\u001b[0;34m(\u001b[0m\u001b[0mGcf\u001b[0m\u001b[0;34m.\u001b[0m\u001b[0mdestroy_all\u001b[0m\u001b[0;34m)\u001b[0m\u001b[0;34m\u001b[0m\u001b[0m\n",
      "\u001b[0;32m/usr/local/lib/python3.5/dist-packages/matplotlib/backend_bases.py\u001b[0m in \u001b[0;36mdraw_idle\u001b[0;34m(self, *args, **kwargs)\u001b[0m\n\u001b[1;32m   1897\u001b[0m         \u001b[0;32mif\u001b[0m \u001b[0;32mnot\u001b[0m \u001b[0mself\u001b[0m\u001b[0;34m.\u001b[0m\u001b[0m_is_idle_drawing\u001b[0m\u001b[0;34m:\u001b[0m\u001b[0;34m\u001b[0m\u001b[0m\n\u001b[1;32m   1898\u001b[0m             \u001b[0;32mwith\u001b[0m \u001b[0mself\u001b[0m\u001b[0;34m.\u001b[0m\u001b[0m_idle_draw_cntx\u001b[0m\u001b[0;34m(\u001b[0m\u001b[0;34m)\u001b[0m\u001b[0;34m:\u001b[0m\u001b[0;34m\u001b[0m\u001b[0m\n\u001b[0;32m-> 1899\u001b[0;31m                 \u001b[0mself\u001b[0m\u001b[0;34m.\u001b[0m\u001b[0mdraw\u001b[0m\u001b[0;34m(\u001b[0m\u001b[0;34m*\u001b[0m\u001b[0margs\u001b[0m\u001b[0;34m,\u001b[0m \u001b[0;34m**\u001b[0m\u001b[0mkwargs\u001b[0m\u001b[0;34m)\u001b[0m\u001b[0;34m\u001b[0m\u001b[0m\n\u001b[0m\u001b[1;32m   1900\u001b[0m \u001b[0;34m\u001b[0m\u001b[0m\n\u001b[1;32m   1901\u001b[0m     \u001b[0;32mdef\u001b[0m \u001b[0mdraw_cursor\u001b[0m\u001b[0;34m(\u001b[0m\u001b[0mself\u001b[0m\u001b[0;34m,\u001b[0m \u001b[0mevent\u001b[0m\u001b[0;34m)\u001b[0m\u001b[0;34m:\u001b[0m\u001b[0;34m\u001b[0m\u001b[0m\n",
      "\u001b[0;32m/usr/local/lib/python3.5/dist-packages/matplotlib/backends/backend_agg.py\u001b[0m in \u001b[0;36mdraw\u001b[0;34m(self)\u001b[0m\n\u001b[1;32m    394\u001b[0m         \u001b[0mDraw\u001b[0m \u001b[0mthe\u001b[0m \u001b[0mfigure\u001b[0m \u001b[0musing\u001b[0m \u001b[0mthe\u001b[0m \u001b[0mrenderer\u001b[0m\u001b[0;34m.\u001b[0m\u001b[0;34m\u001b[0m\u001b[0m\n\u001b[1;32m    395\u001b[0m         \"\"\"\n\u001b[0;32m--> 396\u001b[0;31m         \u001b[0mself\u001b[0m\u001b[0;34m.\u001b[0m\u001b[0mrenderer\u001b[0m \u001b[0;34m=\u001b[0m \u001b[0mself\u001b[0m\u001b[0;34m.\u001b[0m\u001b[0mget_renderer\u001b[0m\u001b[0;34m(\u001b[0m\u001b[0mcleared\u001b[0m\u001b[0;34m=\u001b[0m\u001b[0;32mTrue\u001b[0m\u001b[0;34m)\u001b[0m\u001b[0;34m\u001b[0m\u001b[0m\n\u001b[0m\u001b[1;32m    397\u001b[0m         \u001b[0;31m# acquire a lock on the shared font cache\u001b[0m\u001b[0;34m\u001b[0m\u001b[0;34m\u001b[0m\u001b[0m\n\u001b[1;32m    398\u001b[0m         \u001b[0mRendererAgg\u001b[0m\u001b[0;34m.\u001b[0m\u001b[0mlock\u001b[0m\u001b[0;34m.\u001b[0m\u001b[0macquire\u001b[0m\u001b[0;34m(\u001b[0m\u001b[0;34m)\u001b[0m\u001b[0;34m\u001b[0m\u001b[0m\n",
      "\u001b[0;32m/usr/local/lib/python3.5/dist-packages/matplotlib/backends/backend_agg.py\u001b[0m in \u001b[0;36mget_renderer\u001b[0;34m(self, cleared)\u001b[0m\n\u001b[1;32m    415\u001b[0m \u001b[0;34m\u001b[0m\u001b[0m\n\u001b[1;32m    416\u001b[0m         \u001b[0;32mif\u001b[0m \u001b[0mneed_new_renderer\u001b[0m\u001b[0;34m:\u001b[0m\u001b[0;34m\u001b[0m\u001b[0m\n\u001b[0;32m--> 417\u001b[0;31m             \u001b[0mself\u001b[0m\u001b[0;34m.\u001b[0m\u001b[0mrenderer\u001b[0m \u001b[0;34m=\u001b[0m \u001b[0mRendererAgg\u001b[0m\u001b[0;34m(\u001b[0m\u001b[0mw\u001b[0m\u001b[0;34m,\u001b[0m \u001b[0mh\u001b[0m\u001b[0;34m,\u001b[0m \u001b[0mself\u001b[0m\u001b[0;34m.\u001b[0m\u001b[0mfigure\u001b[0m\u001b[0;34m.\u001b[0m\u001b[0mdpi\u001b[0m\u001b[0;34m)\u001b[0m\u001b[0;34m\u001b[0m\u001b[0m\n\u001b[0m\u001b[1;32m    418\u001b[0m             \u001b[0mself\u001b[0m\u001b[0;34m.\u001b[0m\u001b[0m_lastKey\u001b[0m \u001b[0;34m=\u001b[0m \u001b[0mkey\u001b[0m\u001b[0;34m\u001b[0m\u001b[0m\n\u001b[1;32m    419\u001b[0m         \u001b[0;32melif\u001b[0m \u001b[0mcleared\u001b[0m\u001b[0;34m:\u001b[0m\u001b[0;34m\u001b[0m\u001b[0m\n",
      "\u001b[0;32m/usr/local/lib/python3.5/dist-packages/matplotlib/backends/backend_agg.py\u001b[0m in \u001b[0;36m__init__\u001b[0;34m(self, width, height, dpi)\u001b[0m\n\u001b[1;32m     85\u001b[0m         \u001b[0mself\u001b[0m\u001b[0;34m.\u001b[0m\u001b[0mwidth\u001b[0m \u001b[0;34m=\u001b[0m \u001b[0mwidth\u001b[0m\u001b[0;34m\u001b[0m\u001b[0m\n\u001b[1;32m     86\u001b[0m         \u001b[0mself\u001b[0m\u001b[0;34m.\u001b[0m\u001b[0mheight\u001b[0m \u001b[0;34m=\u001b[0m \u001b[0mheight\u001b[0m\u001b[0;34m\u001b[0m\u001b[0m\n\u001b[0;32m---> 87\u001b[0;31m         \u001b[0mself\u001b[0m\u001b[0;34m.\u001b[0m\u001b[0m_renderer\u001b[0m \u001b[0;34m=\u001b[0m \u001b[0m_RendererAgg\u001b[0m\u001b[0;34m(\u001b[0m\u001b[0mint\u001b[0m\u001b[0;34m(\u001b[0m\u001b[0mwidth\u001b[0m\u001b[0;34m)\u001b[0m\u001b[0;34m,\u001b[0m \u001b[0mint\u001b[0m\u001b[0;34m(\u001b[0m\u001b[0mheight\u001b[0m\u001b[0;34m)\u001b[0m\u001b[0;34m,\u001b[0m \u001b[0mdpi\u001b[0m\u001b[0;34m)\u001b[0m\u001b[0;34m\u001b[0m\u001b[0m\n\u001b[0m\u001b[1;32m     88\u001b[0m         \u001b[0mself\u001b[0m\u001b[0;34m.\u001b[0m\u001b[0m_filter_renderers\u001b[0m \u001b[0;34m=\u001b[0m \u001b[0;34m[\u001b[0m\u001b[0;34m]\u001b[0m\u001b[0;34m\u001b[0m\u001b[0m\n\u001b[1;32m     89\u001b[0m \u001b[0;34m\u001b[0m\u001b[0m\n",
      "\u001b[0;31mValueError\u001b[0m: Image size of 124416x432 pixels is too large. It must be less than 2^16 in each direction."
     ]
    },
    {
     "ename": "ValueError",
     "evalue": "Image size of 124416x432 pixels is too large. It must be less than 2^16 in each direction.",
     "output_type": "error",
     "traceback": [
      "\u001b[0;31m---------------------------------------------------------------------------\u001b[0m",
      "\u001b[0;31mValueError\u001b[0m                                Traceback (most recent call last)",
      "\u001b[0;32m~/.local/lib/python3.5/site-packages/IPython/core/formatters.py\u001b[0m in \u001b[0;36m__call__\u001b[0;34m(self, obj)\u001b[0m\n\u001b[1;32m    339\u001b[0m                 \u001b[0;32mpass\u001b[0m\u001b[0;34m\u001b[0m\u001b[0m\n\u001b[1;32m    340\u001b[0m             \u001b[0;32melse\u001b[0m\u001b[0;34m:\u001b[0m\u001b[0;34m\u001b[0m\u001b[0m\n\u001b[0;32m--> 341\u001b[0;31m                 \u001b[0;32mreturn\u001b[0m \u001b[0mprinter\u001b[0m\u001b[0;34m(\u001b[0m\u001b[0mobj\u001b[0m\u001b[0;34m)\u001b[0m\u001b[0;34m\u001b[0m\u001b[0m\n\u001b[0m\u001b[1;32m    342\u001b[0m             \u001b[0;31m# Finally look for special method names\u001b[0m\u001b[0;34m\u001b[0m\u001b[0;34m\u001b[0m\u001b[0m\n\u001b[1;32m    343\u001b[0m             \u001b[0mmethod\u001b[0m \u001b[0;34m=\u001b[0m \u001b[0mget_real_method\u001b[0m\u001b[0;34m(\u001b[0m\u001b[0mobj\u001b[0m\u001b[0;34m,\u001b[0m \u001b[0mself\u001b[0m\u001b[0;34m.\u001b[0m\u001b[0mprint_method\u001b[0m\u001b[0;34m)\u001b[0m\u001b[0;34m\u001b[0m\u001b[0m\n",
      "\u001b[0;32m~/.local/lib/python3.5/site-packages/IPython/core/pylabtools.py\u001b[0m in \u001b[0;36m<lambda>\u001b[0;34m(fig)\u001b[0m\n\u001b[1;32m    242\u001b[0m \u001b[0;34m\u001b[0m\u001b[0m\n\u001b[1;32m    243\u001b[0m     \u001b[0;32mif\u001b[0m \u001b[0;34m'png'\u001b[0m \u001b[0;32min\u001b[0m \u001b[0mformats\u001b[0m\u001b[0;34m:\u001b[0m\u001b[0;34m\u001b[0m\u001b[0m\n\u001b[0;32m--> 244\u001b[0;31m         \u001b[0mpng_formatter\u001b[0m\u001b[0;34m.\u001b[0m\u001b[0mfor_type\u001b[0m\u001b[0;34m(\u001b[0m\u001b[0mFigure\u001b[0m\u001b[0;34m,\u001b[0m \u001b[0;32mlambda\u001b[0m \u001b[0mfig\u001b[0m\u001b[0;34m:\u001b[0m \u001b[0mprint_figure\u001b[0m\u001b[0;34m(\u001b[0m\u001b[0mfig\u001b[0m\u001b[0;34m,\u001b[0m \u001b[0;34m'png'\u001b[0m\u001b[0;34m,\u001b[0m \u001b[0;34m**\u001b[0m\u001b[0mkwargs\u001b[0m\u001b[0;34m)\u001b[0m\u001b[0;34m)\u001b[0m\u001b[0;34m\u001b[0m\u001b[0m\n\u001b[0m\u001b[1;32m    245\u001b[0m     \u001b[0;32mif\u001b[0m \u001b[0;34m'retina'\u001b[0m \u001b[0;32min\u001b[0m \u001b[0mformats\u001b[0m \u001b[0;32mor\u001b[0m \u001b[0;34m'png2x'\u001b[0m \u001b[0;32min\u001b[0m \u001b[0mformats\u001b[0m\u001b[0;34m:\u001b[0m\u001b[0;34m\u001b[0m\u001b[0m\n\u001b[1;32m    246\u001b[0m         \u001b[0mpng_formatter\u001b[0m\u001b[0;34m.\u001b[0m\u001b[0mfor_type\u001b[0m\u001b[0;34m(\u001b[0m\u001b[0mFigure\u001b[0m\u001b[0;34m,\u001b[0m \u001b[0;32mlambda\u001b[0m \u001b[0mfig\u001b[0m\u001b[0;34m:\u001b[0m \u001b[0mretina_figure\u001b[0m\u001b[0;34m(\u001b[0m\u001b[0mfig\u001b[0m\u001b[0;34m,\u001b[0m \u001b[0;34m**\u001b[0m\u001b[0mkwargs\u001b[0m\u001b[0;34m)\u001b[0m\u001b[0;34m)\u001b[0m\u001b[0;34m\u001b[0m\u001b[0m\n",
      "\u001b[0;32m~/.local/lib/python3.5/site-packages/IPython/core/pylabtools.py\u001b[0m in \u001b[0;36mprint_figure\u001b[0;34m(fig, fmt, bbox_inches, **kwargs)\u001b[0m\n\u001b[1;32m    126\u001b[0m \u001b[0;34m\u001b[0m\u001b[0m\n\u001b[1;32m    127\u001b[0m     \u001b[0mbytes_io\u001b[0m \u001b[0;34m=\u001b[0m \u001b[0mBytesIO\u001b[0m\u001b[0;34m(\u001b[0m\u001b[0;34m)\u001b[0m\u001b[0;34m\u001b[0m\u001b[0m\n\u001b[0;32m--> 128\u001b[0;31m     \u001b[0mfig\u001b[0m\u001b[0;34m.\u001b[0m\u001b[0mcanvas\u001b[0m\u001b[0;34m.\u001b[0m\u001b[0mprint_figure\u001b[0m\u001b[0;34m(\u001b[0m\u001b[0mbytes_io\u001b[0m\u001b[0;34m,\u001b[0m \u001b[0;34m**\u001b[0m\u001b[0mkw\u001b[0m\u001b[0;34m)\u001b[0m\u001b[0;34m\u001b[0m\u001b[0m\n\u001b[0m\u001b[1;32m    129\u001b[0m     \u001b[0mdata\u001b[0m \u001b[0;34m=\u001b[0m \u001b[0mbytes_io\u001b[0m\u001b[0;34m.\u001b[0m\u001b[0mgetvalue\u001b[0m\u001b[0;34m(\u001b[0m\u001b[0;34m)\u001b[0m\u001b[0;34m\u001b[0m\u001b[0m\n\u001b[1;32m    130\u001b[0m     \u001b[0;32mif\u001b[0m \u001b[0mfmt\u001b[0m \u001b[0;34m==\u001b[0m \u001b[0;34m'svg'\u001b[0m\u001b[0;34m:\u001b[0m\u001b[0;34m\u001b[0m\u001b[0m\n",
      "\u001b[0;32m/usr/local/lib/python3.5/dist-packages/matplotlib/backend_bases.py\u001b[0m in \u001b[0;36mprint_figure\u001b[0;34m(self, filename, dpi, facecolor, edgecolor, orientation, format, bbox_inches, **kwargs)\u001b[0m\n\u001b[1;32m   2047\u001b[0m                         \u001b[0morientation\u001b[0m\u001b[0;34m=\u001b[0m\u001b[0morientation\u001b[0m\u001b[0;34m,\u001b[0m\u001b[0;34m\u001b[0m\u001b[0m\n\u001b[1;32m   2048\u001b[0m                         \u001b[0mdryrun\u001b[0m\u001b[0;34m=\u001b[0m\u001b[0;32mTrue\u001b[0m\u001b[0;34m,\u001b[0m\u001b[0;34m\u001b[0m\u001b[0m\n\u001b[0;32m-> 2049\u001b[0;31m                         **kwargs)\n\u001b[0m\u001b[1;32m   2050\u001b[0m                     \u001b[0mrenderer\u001b[0m \u001b[0;34m=\u001b[0m \u001b[0mself\u001b[0m\u001b[0;34m.\u001b[0m\u001b[0mfigure\u001b[0m\u001b[0;34m.\u001b[0m\u001b[0m_cachedRenderer\u001b[0m\u001b[0;34m\u001b[0m\u001b[0m\n\u001b[1;32m   2051\u001b[0m                     \u001b[0mbbox_artists\u001b[0m \u001b[0;34m=\u001b[0m \u001b[0mkwargs\u001b[0m\u001b[0;34m.\u001b[0m\u001b[0mpop\u001b[0m\u001b[0;34m(\u001b[0m\u001b[0;34m\"bbox_extra_artists\"\u001b[0m\u001b[0;34m,\u001b[0m \u001b[0;32mNone\u001b[0m\u001b[0;34m)\u001b[0m\u001b[0;34m\u001b[0m\u001b[0m\n",
      "\u001b[0;32m/usr/local/lib/python3.5/dist-packages/matplotlib/backends/backend_agg.py\u001b[0m in \u001b[0;36mprint_png\u001b[0;34m(self, filename_or_obj, *args, **kwargs)\u001b[0m\n\u001b[1;32m    508\u001b[0m \u001b[0;34m\u001b[0m\u001b[0m\n\u001b[1;32m    509\u001b[0m         \"\"\"\n\u001b[0;32m--> 510\u001b[0;31m         \u001b[0mFigureCanvasAgg\u001b[0m\u001b[0;34m.\u001b[0m\u001b[0mdraw\u001b[0m\u001b[0;34m(\u001b[0m\u001b[0mself\u001b[0m\u001b[0;34m)\u001b[0m\u001b[0;34m\u001b[0m\u001b[0m\n\u001b[0m\u001b[1;32m    511\u001b[0m         \u001b[0mrenderer\u001b[0m \u001b[0;34m=\u001b[0m \u001b[0mself\u001b[0m\u001b[0;34m.\u001b[0m\u001b[0mget_renderer\u001b[0m\u001b[0;34m(\u001b[0m\u001b[0;34m)\u001b[0m\u001b[0;34m\u001b[0m\u001b[0m\n\u001b[1;32m    512\u001b[0m \u001b[0;34m\u001b[0m\u001b[0m\n",
      "\u001b[0;32m/usr/local/lib/python3.5/dist-packages/matplotlib/backends/backend_agg.py\u001b[0m in \u001b[0;36mdraw\u001b[0;34m(self)\u001b[0m\n\u001b[1;32m    394\u001b[0m         \u001b[0mDraw\u001b[0m \u001b[0mthe\u001b[0m \u001b[0mfigure\u001b[0m \u001b[0musing\u001b[0m \u001b[0mthe\u001b[0m \u001b[0mrenderer\u001b[0m\u001b[0;34m.\u001b[0m\u001b[0;34m\u001b[0m\u001b[0m\n\u001b[1;32m    395\u001b[0m         \"\"\"\n\u001b[0;32m--> 396\u001b[0;31m         \u001b[0mself\u001b[0m\u001b[0;34m.\u001b[0m\u001b[0mrenderer\u001b[0m \u001b[0;34m=\u001b[0m \u001b[0mself\u001b[0m\u001b[0;34m.\u001b[0m\u001b[0mget_renderer\u001b[0m\u001b[0;34m(\u001b[0m\u001b[0mcleared\u001b[0m\u001b[0;34m=\u001b[0m\u001b[0;32mTrue\u001b[0m\u001b[0;34m)\u001b[0m\u001b[0;34m\u001b[0m\u001b[0m\n\u001b[0m\u001b[1;32m    397\u001b[0m         \u001b[0;31m# acquire a lock on the shared font cache\u001b[0m\u001b[0;34m\u001b[0m\u001b[0;34m\u001b[0m\u001b[0m\n\u001b[1;32m    398\u001b[0m         \u001b[0mRendererAgg\u001b[0m\u001b[0;34m.\u001b[0m\u001b[0mlock\u001b[0m\u001b[0;34m.\u001b[0m\u001b[0macquire\u001b[0m\u001b[0;34m(\u001b[0m\u001b[0;34m)\u001b[0m\u001b[0;34m\u001b[0m\u001b[0m\n",
      "\u001b[0;32m/usr/local/lib/python3.5/dist-packages/matplotlib/backends/backend_agg.py\u001b[0m in \u001b[0;36mget_renderer\u001b[0;34m(self, cleared)\u001b[0m\n\u001b[1;32m    415\u001b[0m \u001b[0;34m\u001b[0m\u001b[0m\n\u001b[1;32m    416\u001b[0m         \u001b[0;32mif\u001b[0m \u001b[0mneed_new_renderer\u001b[0m\u001b[0;34m:\u001b[0m\u001b[0;34m\u001b[0m\u001b[0m\n\u001b[0;32m--> 417\u001b[0;31m             \u001b[0mself\u001b[0m\u001b[0;34m.\u001b[0m\u001b[0mrenderer\u001b[0m \u001b[0;34m=\u001b[0m \u001b[0mRendererAgg\u001b[0m\u001b[0;34m(\u001b[0m\u001b[0mw\u001b[0m\u001b[0;34m,\u001b[0m \u001b[0mh\u001b[0m\u001b[0;34m,\u001b[0m \u001b[0mself\u001b[0m\u001b[0;34m.\u001b[0m\u001b[0mfigure\u001b[0m\u001b[0;34m.\u001b[0m\u001b[0mdpi\u001b[0m\u001b[0;34m)\u001b[0m\u001b[0;34m\u001b[0m\u001b[0m\n\u001b[0m\u001b[1;32m    418\u001b[0m             \u001b[0mself\u001b[0m\u001b[0;34m.\u001b[0m\u001b[0m_lastKey\u001b[0m \u001b[0;34m=\u001b[0m \u001b[0mkey\u001b[0m\u001b[0;34m\u001b[0m\u001b[0m\n\u001b[1;32m    419\u001b[0m         \u001b[0;32melif\u001b[0m \u001b[0mcleared\u001b[0m\u001b[0;34m:\u001b[0m\u001b[0;34m\u001b[0m\u001b[0m\n",
      "\u001b[0;32m/usr/local/lib/python3.5/dist-packages/matplotlib/backends/backend_agg.py\u001b[0m in \u001b[0;36m__init__\u001b[0;34m(self, width, height, dpi)\u001b[0m\n\u001b[1;32m     85\u001b[0m         \u001b[0mself\u001b[0m\u001b[0;34m.\u001b[0m\u001b[0mwidth\u001b[0m \u001b[0;34m=\u001b[0m \u001b[0mwidth\u001b[0m\u001b[0;34m\u001b[0m\u001b[0m\n\u001b[1;32m     86\u001b[0m         \u001b[0mself\u001b[0m\u001b[0;34m.\u001b[0m\u001b[0mheight\u001b[0m \u001b[0;34m=\u001b[0m \u001b[0mheight\u001b[0m\u001b[0;34m\u001b[0m\u001b[0m\n\u001b[0;32m---> 87\u001b[0;31m         \u001b[0mself\u001b[0m\u001b[0;34m.\u001b[0m\u001b[0m_renderer\u001b[0m \u001b[0;34m=\u001b[0m \u001b[0m_RendererAgg\u001b[0m\u001b[0;34m(\u001b[0m\u001b[0mint\u001b[0m\u001b[0;34m(\u001b[0m\u001b[0mwidth\u001b[0m\u001b[0;34m)\u001b[0m\u001b[0;34m,\u001b[0m \u001b[0mint\u001b[0m\u001b[0;34m(\u001b[0m\u001b[0mheight\u001b[0m\u001b[0;34m)\u001b[0m\u001b[0;34m,\u001b[0m \u001b[0mdpi\u001b[0m\u001b[0;34m)\u001b[0m\u001b[0;34m\u001b[0m\u001b[0m\n\u001b[0m\u001b[1;32m     88\u001b[0m         \u001b[0mself\u001b[0m\u001b[0;34m.\u001b[0m\u001b[0m_filter_renderers\u001b[0m \u001b[0;34m=\u001b[0m \u001b[0;34m[\u001b[0m\u001b[0;34m]\u001b[0m\u001b[0;34m\u001b[0m\u001b[0m\n\u001b[1;32m     89\u001b[0m \u001b[0;34m\u001b[0m\u001b[0m\n",
      "\u001b[0;31mValueError\u001b[0m: Image size of 124416x432 pixels is too large. It must be less than 2^16 in each direction."
     ]
    },
    {
     "data": {
      "text/plain": [
       "<Figure size 124416x432 with 1152 Axes>"
      ]
     },
     "metadata": {
      "needs_background": "light"
     },
     "output_type": "display_data"
    }
   ],
   "source": [
    "g = sns.FacetGrid(df, col='character', row='is_funny')\n",
    "g.map(sns.distplot, \"start\", bins=50, color='b')\n",
    "plt.show()"
   ]
  },
  {
   "cell_type": "code",
   "execution_count": null,
   "metadata": {},
   "outputs": [
    {
     "ename": "ValueError",
     "evalue": "Image size of 124416x432 pixels is too large. It must be less than 2^16 in each direction.",
     "output_type": "error",
     "traceback": [
      "\u001b[0;31m---------------------------------------------------------------------------\u001b[0m",
      "\u001b[0;31mValueError\u001b[0m                                Traceback (most recent call last)",
      "\u001b[0;32m<ipython-input-252-4f09141c1971>\u001b[0m in \u001b[0;36m<module>\u001b[0;34m\u001b[0m\n\u001b[0;32m----> 1\u001b[0;31m \u001b[0mg\u001b[0m \u001b[0;34m=\u001b[0m \u001b[0msns\u001b[0m\u001b[0;34m.\u001b[0m\u001b[0mFacetGrid\u001b[0m\u001b[0;34m(\u001b[0m\u001b[0mdf\u001b[0m\u001b[0;34m,\u001b[0m \u001b[0mcol\u001b[0m\u001b[0;34m=\u001b[0m\u001b[0;34m'character'\u001b[0m\u001b[0;34m,\u001b[0m \u001b[0mrow\u001b[0m\u001b[0;34m=\u001b[0m\u001b[0;34m'is_funny'\u001b[0m\u001b[0;34m)\u001b[0m\u001b[0;34m\u001b[0m\u001b[0m\n\u001b[0m\u001b[1;32m      2\u001b[0m \u001b[0mg\u001b[0m\u001b[0;34m.\u001b[0m\u001b[0mmap\u001b[0m\u001b[0;34m(\u001b[0m\u001b[0msns\u001b[0m\u001b[0;34m.\u001b[0m\u001b[0mdistplot\u001b[0m\u001b[0;34m,\u001b[0m \u001b[0;34m\"length\"\u001b[0m\u001b[0;34m,\u001b[0m \u001b[0mbins\u001b[0m\u001b[0;34m=\u001b[0m\u001b[0;36m50\u001b[0m\u001b[0;34m,\u001b[0m \u001b[0mcolor\u001b[0m\u001b[0;34m=\u001b[0m\u001b[0;34m'b'\u001b[0m\u001b[0;34m)\u001b[0m\u001b[0;34m\u001b[0m\u001b[0m\n\u001b[1;32m      3\u001b[0m \u001b[0mplt\u001b[0m\u001b[0;34m.\u001b[0m\u001b[0mshow\u001b[0m\u001b[0;34m(\u001b[0m\u001b[0;34m)\u001b[0m\u001b[0;34m\u001b[0m\u001b[0m\n",
      "\u001b[0;32m~/.local/lib/python3.5/site-packages/seaborn/axisgrid.py\u001b[0m in \u001b[0;36m__init__\u001b[0;34m(self, data, row, col, hue, col_wrap, sharex, sharey, height, aspect, palette, row_order, col_order, hue_order, hue_kws, dropna, legend_out, despine, margin_titles, xlim, ylim, subplot_kws, gridspec_kws, size)\u001b[0m\n\u001b[1;32m    373\u001b[0m \u001b[0;34m\u001b[0m\u001b[0m\n\u001b[1;32m    374\u001b[0m         \u001b[0;31m# Make the axes look good\u001b[0m\u001b[0;34m\u001b[0m\u001b[0;34m\u001b[0m\u001b[0m\n\u001b[0;32m--> 375\u001b[0;31m         \u001b[0mfig\u001b[0m\u001b[0;34m.\u001b[0m\u001b[0mtight_layout\u001b[0m\u001b[0;34m(\u001b[0m\u001b[0;34m)\u001b[0m\u001b[0;34m\u001b[0m\u001b[0m\n\u001b[0m\u001b[1;32m    376\u001b[0m         \u001b[0;32mif\u001b[0m \u001b[0mdespine\u001b[0m\u001b[0;34m:\u001b[0m\u001b[0;34m\u001b[0m\u001b[0m\n\u001b[1;32m    377\u001b[0m             \u001b[0mself\u001b[0m\u001b[0;34m.\u001b[0m\u001b[0mdespine\u001b[0m\u001b[0;34m(\u001b[0m\u001b[0;34m)\u001b[0m\u001b[0;34m\u001b[0m\u001b[0m\n",
      "\u001b[0;32m/usr/local/lib/python3.5/dist-packages/matplotlib/figure.py\u001b[0m in \u001b[0;36mtight_layout\u001b[0;34m(self, renderer, pad, h_pad, w_pad, rect)\u001b[0m\n\u001b[1;32m   2361\u001b[0m \u001b[0;34m\u001b[0m\u001b[0m\n\u001b[1;32m   2362\u001b[0m         \u001b[0;32mif\u001b[0m \u001b[0mrenderer\u001b[0m \u001b[0;32mis\u001b[0m \u001b[0;32mNone\u001b[0m\u001b[0;34m:\u001b[0m\u001b[0;34m\u001b[0m\u001b[0m\n\u001b[0;32m-> 2363\u001b[0;31m             \u001b[0mrenderer\u001b[0m \u001b[0;34m=\u001b[0m \u001b[0mget_renderer\u001b[0m\u001b[0;34m(\u001b[0m\u001b[0mself\u001b[0m\u001b[0;34m)\u001b[0m\u001b[0;34m\u001b[0m\u001b[0m\n\u001b[0m\u001b[1;32m   2364\u001b[0m \u001b[0;34m\u001b[0m\u001b[0m\n\u001b[1;32m   2365\u001b[0m         kwargs = get_tight_layout_figure(\n",
      "\u001b[0;32m/usr/local/lib/python3.5/dist-packages/matplotlib/tight_layout.py\u001b[0m in \u001b[0;36mget_renderer\u001b[0;34m(fig)\u001b[0m\n\u001b[1;32m    226\u001b[0m \u001b[0;34m\u001b[0m\u001b[0m\n\u001b[1;32m    227\u001b[0m         \u001b[0;32mif\u001b[0m \u001b[0mcanvas\u001b[0m \u001b[0;32mand\u001b[0m \u001b[0mhasattr\u001b[0m\u001b[0;34m(\u001b[0m\u001b[0mcanvas\u001b[0m\u001b[0;34m,\u001b[0m \u001b[0;34m\"get_renderer\"\u001b[0m\u001b[0;34m)\u001b[0m\u001b[0;34m:\u001b[0m\u001b[0;34m\u001b[0m\u001b[0m\n\u001b[0;32m--> 228\u001b[0;31m             \u001b[0mrenderer\u001b[0m \u001b[0;34m=\u001b[0m \u001b[0mcanvas\u001b[0m\u001b[0;34m.\u001b[0m\u001b[0mget_renderer\u001b[0m\u001b[0;34m(\u001b[0m\u001b[0;34m)\u001b[0m\u001b[0;34m\u001b[0m\u001b[0m\n\u001b[0m\u001b[1;32m    229\u001b[0m         \u001b[0;32melse\u001b[0m\u001b[0;34m:\u001b[0m\u001b[0;34m\u001b[0m\u001b[0m\n\u001b[1;32m    230\u001b[0m             \u001b[0;31m# not sure if this can happen\u001b[0m\u001b[0;34m\u001b[0m\u001b[0;34m\u001b[0m\u001b[0m\n",
      "\u001b[0;32m/usr/local/lib/python3.5/dist-packages/matplotlib/backends/backend_agg.py\u001b[0m in \u001b[0;36mget_renderer\u001b[0;34m(self, cleared)\u001b[0m\n\u001b[1;32m    415\u001b[0m \u001b[0;34m\u001b[0m\u001b[0m\n\u001b[1;32m    416\u001b[0m         \u001b[0;32mif\u001b[0m \u001b[0mneed_new_renderer\u001b[0m\u001b[0;34m:\u001b[0m\u001b[0;34m\u001b[0m\u001b[0m\n\u001b[0;32m--> 417\u001b[0;31m             \u001b[0mself\u001b[0m\u001b[0;34m.\u001b[0m\u001b[0mrenderer\u001b[0m \u001b[0;34m=\u001b[0m \u001b[0mRendererAgg\u001b[0m\u001b[0;34m(\u001b[0m\u001b[0mw\u001b[0m\u001b[0;34m,\u001b[0m \u001b[0mh\u001b[0m\u001b[0;34m,\u001b[0m \u001b[0mself\u001b[0m\u001b[0;34m.\u001b[0m\u001b[0mfigure\u001b[0m\u001b[0;34m.\u001b[0m\u001b[0mdpi\u001b[0m\u001b[0;34m)\u001b[0m\u001b[0;34m\u001b[0m\u001b[0m\n\u001b[0m\u001b[1;32m    418\u001b[0m             \u001b[0mself\u001b[0m\u001b[0;34m.\u001b[0m\u001b[0m_lastKey\u001b[0m \u001b[0;34m=\u001b[0m \u001b[0mkey\u001b[0m\u001b[0;34m\u001b[0m\u001b[0m\n\u001b[1;32m    419\u001b[0m         \u001b[0;32melif\u001b[0m \u001b[0mcleared\u001b[0m\u001b[0;34m:\u001b[0m\u001b[0;34m\u001b[0m\u001b[0m\n",
      "\u001b[0;32m/usr/local/lib/python3.5/dist-packages/matplotlib/backends/backend_agg.py\u001b[0m in \u001b[0;36m__init__\u001b[0;34m(self, width, height, dpi)\u001b[0m\n\u001b[1;32m     85\u001b[0m         \u001b[0mself\u001b[0m\u001b[0;34m.\u001b[0m\u001b[0mwidth\u001b[0m \u001b[0;34m=\u001b[0m \u001b[0mwidth\u001b[0m\u001b[0;34m\u001b[0m\u001b[0m\n\u001b[1;32m     86\u001b[0m         \u001b[0mself\u001b[0m\u001b[0;34m.\u001b[0m\u001b[0mheight\u001b[0m \u001b[0;34m=\u001b[0m \u001b[0mheight\u001b[0m\u001b[0;34m\u001b[0m\u001b[0m\n\u001b[0;32m---> 87\u001b[0;31m         \u001b[0mself\u001b[0m\u001b[0;34m.\u001b[0m\u001b[0m_renderer\u001b[0m \u001b[0;34m=\u001b[0m \u001b[0m_RendererAgg\u001b[0m\u001b[0;34m(\u001b[0m\u001b[0mint\u001b[0m\u001b[0;34m(\u001b[0m\u001b[0mwidth\u001b[0m\u001b[0;34m)\u001b[0m\u001b[0;34m,\u001b[0m \u001b[0mint\u001b[0m\u001b[0;34m(\u001b[0m\u001b[0mheight\u001b[0m\u001b[0;34m)\u001b[0m\u001b[0;34m,\u001b[0m \u001b[0mdpi\u001b[0m\u001b[0;34m)\u001b[0m\u001b[0;34m\u001b[0m\u001b[0m\n\u001b[0m\u001b[1;32m     88\u001b[0m         \u001b[0mself\u001b[0m\u001b[0;34m.\u001b[0m\u001b[0m_filter_renderers\u001b[0m \u001b[0;34m=\u001b[0m \u001b[0;34m[\u001b[0m\u001b[0;34m]\u001b[0m\u001b[0;34m\u001b[0m\u001b[0m\n\u001b[1;32m     89\u001b[0m \u001b[0;34m\u001b[0m\u001b[0m\n",
      "\u001b[0;31mValueError\u001b[0m: Image size of 124416x432 pixels is too large. It must be less than 2^16 in each direction."
     ]
    },
    {
     "name": "stdout",
     "output_type": "stream",
     "text": [
      "Error in callback <function install_repl_displayhook.<locals>.post_execute at 0x7fea4fbf9bf8> (for post_execute):\n"
     ]
    },
    {
     "ename": "ValueError",
     "evalue": "Image size of 124416x432 pixels is too large. It must be less than 2^16 in each direction.",
     "output_type": "error",
     "traceback": [
      "\u001b[0;31m---------------------------------------------------------------------------\u001b[0m",
      "\u001b[0;31mValueError\u001b[0m                                Traceback (most recent call last)",
      "\u001b[0;32m/usr/local/lib/python3.5/dist-packages/matplotlib/pyplot.py\u001b[0m in \u001b[0;36mpost_execute\u001b[0;34m()\u001b[0m\n\u001b[1;32m    107\u001b[0m             \u001b[0;32mdef\u001b[0m \u001b[0mpost_execute\u001b[0m\u001b[0;34m(\u001b[0m\u001b[0;34m)\u001b[0m\u001b[0;34m:\u001b[0m\u001b[0;34m\u001b[0m\u001b[0m\n\u001b[1;32m    108\u001b[0m                 \u001b[0;32mif\u001b[0m \u001b[0mmatplotlib\u001b[0m\u001b[0;34m.\u001b[0m\u001b[0mis_interactive\u001b[0m\u001b[0;34m(\u001b[0m\u001b[0;34m)\u001b[0m\u001b[0;34m:\u001b[0m\u001b[0;34m\u001b[0m\u001b[0m\n\u001b[0;32m--> 109\u001b[0;31m                     \u001b[0mdraw_all\u001b[0m\u001b[0;34m(\u001b[0m\u001b[0;34m)\u001b[0m\u001b[0;34m\u001b[0m\u001b[0m\n\u001b[0m\u001b[1;32m    110\u001b[0m \u001b[0;34m\u001b[0m\u001b[0m\n\u001b[1;32m    111\u001b[0m             \u001b[0;31m# IPython >= 2\u001b[0m\u001b[0;34m\u001b[0m\u001b[0;34m\u001b[0m\u001b[0m\n",
      "\u001b[0;32m/usr/local/lib/python3.5/dist-packages/matplotlib/_pylab_helpers.py\u001b[0m in \u001b[0;36mdraw_all\u001b[0;34m(cls, force)\u001b[0m\n\u001b[1;32m    130\u001b[0m         \u001b[0;32mfor\u001b[0m \u001b[0mf_mgr\u001b[0m \u001b[0;32min\u001b[0m \u001b[0mcls\u001b[0m\u001b[0;34m.\u001b[0m\u001b[0mget_all_fig_managers\u001b[0m\u001b[0;34m(\u001b[0m\u001b[0;34m)\u001b[0m\u001b[0;34m:\u001b[0m\u001b[0;34m\u001b[0m\u001b[0m\n\u001b[1;32m    131\u001b[0m             \u001b[0;32mif\u001b[0m \u001b[0mforce\u001b[0m \u001b[0;32mor\u001b[0m \u001b[0mf_mgr\u001b[0m\u001b[0;34m.\u001b[0m\u001b[0mcanvas\u001b[0m\u001b[0;34m.\u001b[0m\u001b[0mfigure\u001b[0m\u001b[0;34m.\u001b[0m\u001b[0mstale\u001b[0m\u001b[0;34m:\u001b[0m\u001b[0;34m\u001b[0m\u001b[0m\n\u001b[0;32m--> 132\u001b[0;31m                 \u001b[0mf_mgr\u001b[0m\u001b[0;34m.\u001b[0m\u001b[0mcanvas\u001b[0m\u001b[0;34m.\u001b[0m\u001b[0mdraw_idle\u001b[0m\u001b[0;34m(\u001b[0m\u001b[0;34m)\u001b[0m\u001b[0;34m\u001b[0m\u001b[0m\n\u001b[0m\u001b[1;32m    133\u001b[0m \u001b[0;34m\u001b[0m\u001b[0m\n\u001b[1;32m    134\u001b[0m \u001b[0matexit\u001b[0m\u001b[0;34m.\u001b[0m\u001b[0mregister\u001b[0m\u001b[0;34m(\u001b[0m\u001b[0mGcf\u001b[0m\u001b[0;34m.\u001b[0m\u001b[0mdestroy_all\u001b[0m\u001b[0;34m)\u001b[0m\u001b[0;34m\u001b[0m\u001b[0m\n",
      "\u001b[0;32m/usr/local/lib/python3.5/dist-packages/matplotlib/backend_bases.py\u001b[0m in \u001b[0;36mdraw_idle\u001b[0;34m(self, *args, **kwargs)\u001b[0m\n\u001b[1;32m   1897\u001b[0m         \u001b[0;32mif\u001b[0m \u001b[0;32mnot\u001b[0m \u001b[0mself\u001b[0m\u001b[0;34m.\u001b[0m\u001b[0m_is_idle_drawing\u001b[0m\u001b[0;34m:\u001b[0m\u001b[0;34m\u001b[0m\u001b[0m\n\u001b[1;32m   1898\u001b[0m             \u001b[0;32mwith\u001b[0m \u001b[0mself\u001b[0m\u001b[0;34m.\u001b[0m\u001b[0m_idle_draw_cntx\u001b[0m\u001b[0;34m(\u001b[0m\u001b[0;34m)\u001b[0m\u001b[0;34m:\u001b[0m\u001b[0;34m\u001b[0m\u001b[0m\n\u001b[0;32m-> 1899\u001b[0;31m                 \u001b[0mself\u001b[0m\u001b[0;34m.\u001b[0m\u001b[0mdraw\u001b[0m\u001b[0;34m(\u001b[0m\u001b[0;34m*\u001b[0m\u001b[0margs\u001b[0m\u001b[0;34m,\u001b[0m \u001b[0;34m**\u001b[0m\u001b[0mkwargs\u001b[0m\u001b[0;34m)\u001b[0m\u001b[0;34m\u001b[0m\u001b[0m\n\u001b[0m\u001b[1;32m   1900\u001b[0m \u001b[0;34m\u001b[0m\u001b[0m\n\u001b[1;32m   1901\u001b[0m     \u001b[0;32mdef\u001b[0m \u001b[0mdraw_cursor\u001b[0m\u001b[0;34m(\u001b[0m\u001b[0mself\u001b[0m\u001b[0;34m,\u001b[0m \u001b[0mevent\u001b[0m\u001b[0;34m)\u001b[0m\u001b[0;34m:\u001b[0m\u001b[0;34m\u001b[0m\u001b[0m\n",
      "\u001b[0;32m/usr/local/lib/python3.5/dist-packages/matplotlib/backends/backend_agg.py\u001b[0m in \u001b[0;36mdraw\u001b[0;34m(self)\u001b[0m\n\u001b[1;32m    394\u001b[0m         \u001b[0mDraw\u001b[0m \u001b[0mthe\u001b[0m \u001b[0mfigure\u001b[0m \u001b[0musing\u001b[0m \u001b[0mthe\u001b[0m \u001b[0mrenderer\u001b[0m\u001b[0;34m.\u001b[0m\u001b[0;34m\u001b[0m\u001b[0m\n\u001b[1;32m    395\u001b[0m         \"\"\"\n\u001b[0;32m--> 396\u001b[0;31m         \u001b[0mself\u001b[0m\u001b[0;34m.\u001b[0m\u001b[0mrenderer\u001b[0m \u001b[0;34m=\u001b[0m \u001b[0mself\u001b[0m\u001b[0;34m.\u001b[0m\u001b[0mget_renderer\u001b[0m\u001b[0;34m(\u001b[0m\u001b[0mcleared\u001b[0m\u001b[0;34m=\u001b[0m\u001b[0;32mTrue\u001b[0m\u001b[0;34m)\u001b[0m\u001b[0;34m\u001b[0m\u001b[0m\n\u001b[0m\u001b[1;32m    397\u001b[0m         \u001b[0;31m# acquire a lock on the shared font cache\u001b[0m\u001b[0;34m\u001b[0m\u001b[0;34m\u001b[0m\u001b[0m\n\u001b[1;32m    398\u001b[0m         \u001b[0mRendererAgg\u001b[0m\u001b[0;34m.\u001b[0m\u001b[0mlock\u001b[0m\u001b[0;34m.\u001b[0m\u001b[0macquire\u001b[0m\u001b[0;34m(\u001b[0m\u001b[0;34m)\u001b[0m\u001b[0;34m\u001b[0m\u001b[0m\n",
      "\u001b[0;32m/usr/local/lib/python3.5/dist-packages/matplotlib/backends/backend_agg.py\u001b[0m in \u001b[0;36mget_renderer\u001b[0;34m(self, cleared)\u001b[0m\n\u001b[1;32m    415\u001b[0m \u001b[0;34m\u001b[0m\u001b[0m\n\u001b[1;32m    416\u001b[0m         \u001b[0;32mif\u001b[0m \u001b[0mneed_new_renderer\u001b[0m\u001b[0;34m:\u001b[0m\u001b[0;34m\u001b[0m\u001b[0m\n\u001b[0;32m--> 417\u001b[0;31m             \u001b[0mself\u001b[0m\u001b[0;34m.\u001b[0m\u001b[0mrenderer\u001b[0m \u001b[0;34m=\u001b[0m \u001b[0mRendererAgg\u001b[0m\u001b[0;34m(\u001b[0m\u001b[0mw\u001b[0m\u001b[0;34m,\u001b[0m \u001b[0mh\u001b[0m\u001b[0;34m,\u001b[0m \u001b[0mself\u001b[0m\u001b[0;34m.\u001b[0m\u001b[0mfigure\u001b[0m\u001b[0;34m.\u001b[0m\u001b[0mdpi\u001b[0m\u001b[0;34m)\u001b[0m\u001b[0;34m\u001b[0m\u001b[0m\n\u001b[0m\u001b[1;32m    418\u001b[0m             \u001b[0mself\u001b[0m\u001b[0;34m.\u001b[0m\u001b[0m_lastKey\u001b[0m \u001b[0;34m=\u001b[0m \u001b[0mkey\u001b[0m\u001b[0;34m\u001b[0m\u001b[0m\n\u001b[1;32m    419\u001b[0m         \u001b[0;32melif\u001b[0m \u001b[0mcleared\u001b[0m\u001b[0;34m:\u001b[0m\u001b[0;34m\u001b[0m\u001b[0m\n",
      "\u001b[0;32m/usr/local/lib/python3.5/dist-packages/matplotlib/backends/backend_agg.py\u001b[0m in \u001b[0;36m__init__\u001b[0;34m(self, width, height, dpi)\u001b[0m\n\u001b[1;32m     85\u001b[0m         \u001b[0mself\u001b[0m\u001b[0;34m.\u001b[0m\u001b[0mwidth\u001b[0m \u001b[0;34m=\u001b[0m \u001b[0mwidth\u001b[0m\u001b[0;34m\u001b[0m\u001b[0m\n\u001b[1;32m     86\u001b[0m         \u001b[0mself\u001b[0m\u001b[0;34m.\u001b[0m\u001b[0mheight\u001b[0m \u001b[0;34m=\u001b[0m \u001b[0mheight\u001b[0m\u001b[0;34m\u001b[0m\u001b[0m\n\u001b[0;32m---> 87\u001b[0;31m         \u001b[0mself\u001b[0m\u001b[0;34m.\u001b[0m\u001b[0m_renderer\u001b[0m \u001b[0;34m=\u001b[0m \u001b[0m_RendererAgg\u001b[0m\u001b[0;34m(\u001b[0m\u001b[0mint\u001b[0m\u001b[0;34m(\u001b[0m\u001b[0mwidth\u001b[0m\u001b[0;34m)\u001b[0m\u001b[0;34m,\u001b[0m \u001b[0mint\u001b[0m\u001b[0;34m(\u001b[0m\u001b[0mheight\u001b[0m\u001b[0;34m)\u001b[0m\u001b[0;34m,\u001b[0m \u001b[0mdpi\u001b[0m\u001b[0;34m)\u001b[0m\u001b[0;34m\u001b[0m\u001b[0m\n\u001b[0m\u001b[1;32m     88\u001b[0m         \u001b[0mself\u001b[0m\u001b[0;34m.\u001b[0m\u001b[0m_filter_renderers\u001b[0m \u001b[0;34m=\u001b[0m \u001b[0;34m[\u001b[0m\u001b[0;34m]\u001b[0m\u001b[0;34m\u001b[0m\u001b[0m\n\u001b[1;32m     89\u001b[0m \u001b[0;34m\u001b[0m\u001b[0m\n",
      "\u001b[0;31mValueError\u001b[0m: Image size of 124416x432 pixels is too large. It must be less than 2^16 in each direction."
     ]
    }
   ],
   "source": [
    "g = sns.FacetGrid(df, col='character', row='is_funny')\n",
    "g.map(sns.distplot, \"length\", bins=50, color='b')\n",
    "plt.show()"
   ]
  },
  {
   "cell_type": "code",
   "execution_count": null,
   "metadata": {},
   "outputs": [],
   "source": [
    "g = sns.FacetGrid(df, col='character', row='is_funny')\n",
    "g.map(sns.distplot, \"season\", bins=50, color='b')\n",
    "plt.show()"
   ]
  },
  {
   "cell_type": "code",
   "execution_count": null,
   "metadata": {},
   "outputs": [],
   "source": [
    "g = sns.FacetGrid(df[df['character'].isin([\"JERRY\", \"ELAINE\", \"KRAMER\", \"GEORGE\"])], col='character', row='is_funny')\n",
    "g.map(sns.distplot, \"start\", bins=50, color='b')\n",
    "plt.show()"
   ]
  },
  {
   "cell_type": "code",
   "execution_count": null,
   "metadata": {},
   "outputs": [],
   "source": [
    "g2 = sns.FacetGrid(df, col='character', row='is_funny')\n",
    "g2.map(sns.distplot, \"num_words\", bins=50, color='b')\n",
    "plt.show()"
   ]
  },
  {
   "cell_type": "code",
   "execution_count": null,
   "metadata": {},
   "outputs": [],
   "source": []
  }
 ],
 "metadata": {
  "kernelspec": {
   "display_name": "Python 3",
   "language": "python",
   "name": "python3"
  },
  "language_info": {
   "codemirror_mode": {
    "name": "ipython",
    "version": 3
   },
   "file_extension": ".py",
   "mimetype": "text/x-python",
   "name": "python",
   "nbconvert_exporter": "python",
   "pygments_lexer": "ipython3",
   "version": "3.5.2"
  }
 },
 "nbformat": 4,
 "nbformat_minor": 2
}
