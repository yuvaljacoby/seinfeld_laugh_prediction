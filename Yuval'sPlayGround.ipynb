{
 "cells": [
  {
   "cell_type": "code",
   "execution_count": 13,
   "metadata": {},
   "outputs": [
    {
     "name": "stdout",
     "output_type": "stream",
     "text": [
      "The autoreload extension is already loaded. To reload it, use:\n",
      "  %reload_ext autoreload\n"
     ]
    }
   ],
   "source": [
    "from seinfeld_playground import *\n",
    "from train_utils import split_train_test\n",
    "from compare_models import plot_confusion_matrix, compare_models_roc_curve\n",
    "import numpy as np\n",
    "import pandas as pd\n",
    "import seaborn as sns\n",
    "import matplotlib.pyplot as plt\n",
    "\n",
    "%load_ext autoreload\n",
    "%autoreload 2"
   ]
  },
  {
   "cell_type": "code",
   "execution_count": 2,
   "metadata": {},
   "outputs": [
    {
     "name": "stdout",
     "output_type": "stream",
     "text": [
      "There are 46497 sentances, 13560 funny, 32937 not funny\n"
     ]
    },
    {
     "data": {
      "text/html": [
       "<div>\n",
       "<style scoped>\n",
       "    .dataframe tbody tr th:only-of-type {\n",
       "        vertical-align: middle;\n",
       "    }\n",
       "\n",
       "    .dataframe tbody tr th {\n",
       "        vertical-align: top;\n",
       "    }\n",
       "\n",
       "    .dataframe thead th {\n",
       "        text-align: right;\n",
       "    }\n",
       "</style>\n",
       "<table border=\"1\" class=\"dataframe\">\n",
       "  <thead>\n",
       "    <tr style=\"text-align: right;\">\n",
       "      <th></th>\n",
       "      <th>character</th>\n",
       "      <th>end</th>\n",
       "      <th>episode_name</th>\n",
       "      <th>episode_num</th>\n",
       "      <th>is_funny</th>\n",
       "      <th>laugh_time</th>\n",
       "      <th>length</th>\n",
       "      <th>line_num</th>\n",
       "      <th>num_words</th>\n",
       "      <th>season</th>\n",
       "      <th>...</th>\n",
       "      <th>total_lines</th>\n",
       "      <th>txt</th>\n",
       "      <th>global_episode_num</th>\n",
       "      <th>time_from_prev</th>\n",
       "      <th>new_scene</th>\n",
       "      <th>scene_text</th>\n",
       "      <th>scene_characters</th>\n",
       "      <th>n_scene_characters</th>\n",
       "      <th>scene_number_in_episode</th>\n",
       "      <th>global_scene_number</th>\n",
       "    </tr>\n",
       "  </thead>\n",
       "  <tbody>\n",
       "    <tr>\n",
       "      <th>0</th>\n",
       "      <td>JERRY</td>\n",
       "      <td>3.050</td>\n",
       "      <td>The Watch</td>\n",
       "      <td>6</td>\n",
       "      <td>True</td>\n",
       "      <td>3.6</td>\n",
       "      <td>1.944</td>\n",
       "      <td>0</td>\n",
       "      <td>9</td>\n",
       "      <td>4</td>\n",
       "      <td>...</td>\n",
       "      <td>486</td>\n",
       "      <td>Here's what happened last  week, incase you mi...</td>\n",
       "      <td>1</td>\n",
       "      <td>0.000</td>\n",
       "      <td>True</td>\n",
       "      <td>Here's what happened last  week, incase you mi...</td>\n",
       "      <td>{MORTY, JERRY}</td>\n",
       "      <td>2</td>\n",
       "      <td>1</td>\n",
       "      <td>1</td>\n",
       "    </tr>\n",
       "    <tr>\n",
       "      <th>1</th>\n",
       "      <td>JERRY</td>\n",
       "      <td>6.371</td>\n",
       "      <td>The Watch</td>\n",
       "      <td>6</td>\n",
       "      <td>False</td>\n",
       "      <td>NaN</td>\n",
       "      <td>3.297</td>\n",
       "      <td>1</td>\n",
       "      <td>16</td>\n",
       "      <td>4</td>\n",
       "      <td>...</td>\n",
       "      <td>486</td>\n",
       "      <td>George and I went up to NBC, and  we told them...</td>\n",
       "      <td>1</td>\n",
       "      <td>0.024</td>\n",
       "      <td>False</td>\n",
       "      <td>Here's what happened last  week, incase you mi...</td>\n",
       "      <td>{MORTY, JERRY}</td>\n",
       "      <td>2</td>\n",
       "      <td>1</td>\n",
       "      <td>1</td>\n",
       "    </tr>\n",
       "  </tbody>\n",
       "</table>\n",
       "<p>2 rows × 21 columns</p>\n",
       "</div>"
      ],
      "text/plain": [
       "  character    end episode_name  episode_num  is_funny  laugh_time  length  \\\n",
       "0     JERRY  3.050    The Watch            6      True         3.6   1.944   \n",
       "1     JERRY  6.371    The Watch            6     False         NaN   3.297   \n",
       "\n",
       "   line_num  num_words  season         ...           total_lines  \\\n",
       "0         0          9       4         ...                   486   \n",
       "1         1         16       4         ...                   486   \n",
       "\n",
       "                                                 txt global_episode_num  \\\n",
       "0  Here's what happened last  week, incase you mi...                  1   \n",
       "1  George and I went up to NBC, and  we told them...                  1   \n",
       "\n",
       "   time_from_prev  new_scene  \\\n",
       "0           0.000       True   \n",
       "1           0.024      False   \n",
       "\n",
       "                                          scene_text scene_characters  \\\n",
       "0  Here's what happened last  week, incase you mi...   {MORTY, JERRY}   \n",
       "1  Here's what happened last  week, incase you mi...   {MORTY, JERRY}   \n",
       "\n",
       "  n_scene_characters  scene_number_in_episode  global_scene_number  \n",
       "0                  2                        1                    1  \n",
       "1                  2                        1                    1  \n",
       "\n",
       "[2 rows x 21 columns]"
      ]
     },
     "execution_count": 2,
     "metadata": {},
     "output_type": "execute_result"
    }
   ],
   "source": [
    "df = load_corpus()\n",
    "\n",
    "df = getSceneData(df)\n",
    "print(\"There are %d sentances, %d funny, %d not funny\" % (len(df), sum(df.is_funny), len(df) - sum(df.is_funny)))\n",
    "df.head(2)"
   ]
  },
  {
   "cell_type": "code",
   "execution_count": 3,
   "metadata": {},
   "outputs": [
    {
     "data": {
      "text/plain": [
       "96"
      ]
     },
     "execution_count": 3,
     "metadata": {},
     "output_type": "execute_result"
    }
   ],
   "source": [
    "len(df.global_episode_num.unique())"
   ]
  },
  {
   "cell_type": "code",
   "execution_count": 7,
   "metadata": {},
   "outputs": [
    {
     "data": {
      "text/plain": [
       "((37738, 22), (8759, 22))"
      ]
     },
     "execution_count": 7,
     "metadata": {},
     "output_type": "execute_result"
    }
   ],
   "source": [
    "df_train, df_test = split_train_test(df, 0.2)\n",
    "df_train.shape, df_test.shape"
   ]
  },
  {
   "cell_type": "code",
   "execution_count": 8,
   "metadata": {
    "scrolled": true
   },
   "outputs": [
    {
     "data": {
      "image/png": "[encoded data removed]",
      "text/plain": [
       "<Figure size 432x288 with 1 Axes>"
      ]
     },
     "metadata": {
      "needs_background": "light"
     },
     "output_type": "display_data"
    }
   ],
   "source": [
    "plt.hist(df['time_from_prev'], bins=([i / 100 for i in range(0,302,2)]) + ([10,30,50,100]))\n",
    "plt.xlim(0.2,3)\n",
    "plt.ylim(0,400)\n",
    "plt.show()"
   ]
  },
  {
   "cell_type": "markdown",
   "metadata": {},
   "source": [
    "Try to decide on thershold, it's pretty hard.  \n",
    "I preffer not to have FP so Will pick 1.8"
   ]
  },
  {
   "cell_type": "code",
   "execution_count": 9,
   "metadata": {},
   "outputs": [
    {
     "name": "stdout",
     "output_type": "stream",
     "text": [
      "kramer first in secnce funny:  0.36054421768707484\n",
      "total funny: 0.29163171817536615\n"
     ]
    }
   ],
   "source": [
    "df_kramer_start = df[(df.character == 'KRAMER') & (df.new_scene)] \n",
    "print('kramer first in secnce funny: ', sum(df_kramer_start.is_funny) / len(df_kramer_start))\n",
    "print('total funny:', sum(df.is_funny) / len(df))"
   ]
  },
  {
   "cell_type": "markdown",
   "metadata": {},
   "source": [
    "# One Hot Encoding"
   ]
  },
  {
   "cell_type": "code",
   "execution_count": 10,
   "metadata": {},
   "outputs": [],
   "source": [
    "cv, X_train = getOneHotEncoding(df_train.txt)\n",
    "X_test = cv.transform(df_test.txt)\n",
    "y_test = df_test.is_funny\n",
    "y_train = df_train.is_funny"
   ]
  },
  {
   "cell_type": "markdown",
   "metadata": {},
   "source": [
    "## Logistic Regression"
   ]
  },
  {
   "cell_type": "code",
   "execution_count": 11,
   "metadata": {},
   "outputs": [
    {
     "name": "stderr",
     "output_type": "stream",
     "text": [
      "/usr/local/lib/python3.5/dist-packages/sklearn/linear_model/logistic.py:757: ConvergenceWarning: lbfgs failed to converge. Increase the number of iterations.\n",
      "  \"of iterations.\", ConvergenceWarning)\n"
     ]
    }
   ],
   "source": [
    "from sklearn.linear_model import LogisticRegression\n",
    "lr = LogisticRegression(solver='lbfgs')\n",
    "lr.fit(X_train, y_train)\n",
    "y_hat_lr = lr.predict_proba(X_test)"
   ]
  },
  {
   "cell_type": "code",
   "execution_count": 21,
   "metadata": {},
   "outputs": [
    {
     "data": {
      "text/plain": [
       "0.336155800169348"
      ]
     },
     "execution_count": 21,
     "metadata": {},
     "output_type": "execute_result"
    }
   ],
   "source": [
    "1588 / (3136 + 1588)"
   ]
  },
  {
   "cell_type": "code",
   "execution_count": 20,
   "metadata": {},
   "outputs": [
    {
     "data": {
      "image/png": "[encoded data removed]",
      "text/plain": [
       "<Figure size 432x504 with 2 Axes>"
      ]
     },
     "metadata": {
      "needs_background": "light"
     },
     "output_type": "display_data"
    }
   ],
   "source": [
    "plot_confusion_matrix(y_test, [y_hat_lr[:,1]], ['lr'])"
   ]
  },
  {
   "cell_type": "markdown",
   "metadata": {},
   "source": [
    "## SVM"
   ]
  },
  {
   "cell_type": "code",
   "execution_count": null,
   "metadata": {},
   "outputs": [],
   "source": [
    "from sklearn.svm import SVC\n",
    "svm = SVC(probability=1, gamma='auto')\n",
    "svm.fit(X_train, y_train)\n",
    "y_hat_svm = svm.predict_proba(X_test)"
   ]
  },
  {
   "cell_type": "code",
   "execution_count": null,
   "metadata": {},
   "outputs": [],
   "source": [
    "from sklearn.metrics import f1_score\n",
    "f1_score(y_test, y_hat_lr[:,1] > 0.22)"
   ]
  },
  {
   "cell_type": "code",
   "execution_count": null,
   "metadata": {},
   "outputs": [],
   "source": [
    "funny_words = np.squeeze(np.asarray((freq[np.array(df.is_funny).astype(np.bool)].sum(axis=0)) / (np.squeeze(np.asarray(freq.sum(axis=0)).astype(np.float)))))"
   ]
  },
  {
   "cell_type": "markdown",
   "metadata": {},
   "source": [
    "# Compare Models"
   ]
  },
  {
   "cell_type": "code",
   "execution_count": null,
   "metadata": {},
   "outputs": [],
   "source": [
    "from compare_models import compare_models_roc_curve\n",
    "auc = compare_models_roc_curve(y_test, [y_hat_lr[:,1], y_hat_svm[:,1]], ['lr', 'svm'])\n",
    "print(auc)"
   ]
  },
  {
   "cell_type": "code",
   "execution_count": null,
   "metadata": {},
   "outputs": [],
   "source": [
    "plot_confusion_matrix(y_test, [y_hat_lr[:,1], y_hat_svm[:,1]], ['lr', 'svm'])"
   ]
  },
  {
   "cell_type": "markdown",
   "metadata": {},
   "source": [
    "# Scene"
   ]
  },
  {
   "cell_type": "code",
   "execution_count": null,
   "metadata": {},
   "outputs": [],
   "source": [
    "# merge scene text\n",
    "text_for_scene = []\n",
    "charcteres_scence = []\n",
    "number_rows_scence = []\n",
    "for i, row in df.iterrows():\n",
    "    if row['new_scene']:\n",
    "        text_for_scene.append(row['txt'])\n",
    "        charcteres_scence.append(set([row.character]))\n",
    "        number_rows_scence.append(1)\n",
    "    else:\n",
    "        text_for_scene[-1] += \"\\n\" + row['txt']\n",
    "        charcteres_scence[-1].add(row.character)\n",
    "        number_rows_scence[-1] += 1\n",
    "        \n",
    "print(text_for_scene[107])\n",
    "print(charcteres_scence[107])\n",
    "print(number_rows_scence[107])\n",
    "assert(len(number_rows_scence) == len(charcteres_scence) and len(charcteres_scence) == len(text_for_scene))"
   ]
  },
  {
   "cell_type": "code",
   "execution_count": null,
   "metadata": {},
   "outputs": [],
   "source": [
    "df[df.n_scene_characters == 1]"
   ]
  },
  {
   "cell_type": "code",
   "execution_count": null,
   "metadata": {},
   "outputs": [],
   "source": [
    "for i in sorted(df.n_scene_characters.unique()):\n",
    "    print('scene with %d charcters funny precentage: ' % i, sum(df[(df.n_scene_characters == i)].is_funny) / len(df[(df.n_scene_characters == i)]), 'amount: ', len(df[(df.n_scene_characters == i)]))\n",
    "print('total funny:', sum(df.is_funny) / len(df))"
   ]
  },
  {
   "cell_type": "code",
   "execution_count": null,
   "metadata": {},
   "outputs": [],
   "source": [
    "# Add to the df\n",
    "df['scence_text'] = [text_for_scene[i] for i in range(len(number_rows_scence)) for _ in range(number_rows_scence[i])]\n",
    "df['scence_charcteres'] = [charcteres_scence[i] for i in range(len(number_rows_scence)) for _ in range(number_rows_scence[i])]\n",
    "df['n_scence_charcteres'] = df.scence_charcteres.str.len()"
   ]
  },
  {
   "cell_type": "code",
   "execution_count": null,
   "metadata": {},
   "outputs": [],
   "source": [
    "from seinfeld_laugh_corpus import corpus\n",
    "seinfeld = corpus.load(fold_laughs=True)"
   ]
  },
  {
   "cell_type": "code",
   "execution_count": null,
   "metadata": {},
   "outputs": [],
   "source": [
    "a = seinfeld.screenplays[0]"
   ]
  },
  {
   "cell_type": "markdown",
   "metadata": {},
   "source": [
    "# Plots"
   ]
  },
  {
   "cell_type": "code",
   "execution_count": null,
   "metadata": {},
   "outputs": [],
   "source": [
    "plt.hist(df[df.is_funny].n_scence_charcteres, bins=100, alpha=0.5, color='b', label='funny')\n",
    "plt.hist(df[~df.is_funny].n_scence_charcteres, bins=100, alpha=0.5, color='g', label='not funny')\n",
    "plt.legend()\n",
    "plt.show()"
   ]
  },
  {
   "cell_type": "code",
   "execution_count": null,
   "metadata": {},
   "outputs": [],
   "source": [
    "plt.hist(df[df.is_funny].length, bins=100, alpha=0.5, color='b', label='funny')\n",
    "plt.hist(df[~df.is_funny].length, bins=100, alpha=0.5, color='g', label='not funny')\n",
    "plt.legend()\n",
    "plt.show()"
   ]
  },
  {
   "cell_type": "code",
   "execution_count": null,
   "metadata": {},
   "outputs": [],
   "source": [
    "plt.hist(df[df.is_funny].start, bins=100, alpha=0.5, color='b', label='funny', density=1)\n",
    "plt.hist(df[~df.is_funny].start, bins=100, alpha=0.5, color='g', label='not funny', density=1)\n",
    "plt.legend()\n",
    "plt.show()"
   ]
  },
  {
   "cell_type": "code",
   "execution_count": null,
   "metadata": {},
   "outputs": [],
   "source": [
    "g = sns.FacetGrid(df, col='character', row='is_funny')\n",
    "g.map(sns.distplot, \"start\", bins=50, color='b')\n",
    "plt.show()"
   ]
  },
  {
   "cell_type": "code",
   "execution_count": null,
   "metadata": {},
   "outputs": [],
   "source": [
    "g = sns.FacetGrid(df, col='character', row='is_funny')\n",
    "g.map(sns.distplot, \"length\", bins=50, color='b')\n",
    "plt.show()"
   ]
  },
  {
   "cell_type": "code",
   "execution_count": null,
   "metadata": {},
   "outputs": [],
   "source": [
    "g = sns.FacetGrid(df, col='character', row='is_funny')\n",
    "g.map(sns.distplot, \"season\", bins=50, color='b')\n",
    "plt.show()"
   ]
  },
  {
   "cell_type": "code",
   "execution_count": null,
   "metadata": {},
   "outputs": [],
   "source": [
    "g = sns.FacetGrid(df[df['character'].isin([\"JERRY\", \"ELAINE\", \"KRAMER\", \"GEORGE\"])], col='character', row='is_funny')\n",
    "g.map(sns.distplot, \"start\", bins=50, color='b')\n",
    "plt.show()"
   ]
  },
  {
   "cell_type": "code",
   "execution_count": null,
   "metadata": {},
   "outputs": [],
   "source": [
    "g2 = sns.FacetGrid(df, col='character', row='is_funny')\n",
    "g2.map(sns.distplot, \"num_words\", bins=50, color='b')\n",
    "plt.show()"
   ]
  },
  {
   "cell_type": "code",
   "execution_count": null,
   "metadata": {},
   "outputs": [],
   "source": []
  }
 ],
 "metadata": {
  "kernelspec": {
   "display_name": "Python 3",
   "language": "python",
   "name": "python3"
  },
  "language_info": {
   "codemirror_mode": {
    "name": "ipython",
    "version": 3
   },
   "file_extension": ".py",
   "mimetype": "text/x-python",
   "name": "python",
   "nbconvert_exporter": "python",
   "pygments_lexer": "ipython3",
   "version": "3.5.2"
  }
 },
 "nbformat": 4,
 "nbformat_minor": 2
}
